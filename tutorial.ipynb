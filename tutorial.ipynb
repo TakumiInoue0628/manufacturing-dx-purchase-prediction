{
  "nbformat": 4,
  "nbformat_minor": 0,
  "metadata": {
    "colab": {
      "provenance": []
    },
    "kernelspec": {
      "name": "python3",
      "display_name": "Python 3"
    },
    "language_info": {
      "name": "python"
    }
  },
  "cells": [
    {
      "cell_type": "markdown",
      "source": [
        "<h1>製造業向け業務プロセス改善DX商材の購入予測 チュートリアル</h1>\n",
        "\n",
        "<p>\n",
        "チュートリアルへようこそ!<br>\n",
        "このチュートリアルでは財務データなどの企業データを分析することで各企業が業務プロセス改善ツールを購入するかどうかの予測を行います。<br>\n",
        "\n",
        "このチュートリアルでは、予測アルゴリズムの作成を<a href=\"https://colab.research.google.com/\">Google Colaboratory（以降、Colab）</a>上で実装し、提出ファイルを作成するところまでを説明します。<br>\n",
        "Colabは、ブラウザ上でpythonによるプログラミングができる無料のサービスで、利用にはgoogleアカウントが必要です。<br>\n",
        "</p>\n",
        "<p>\n",
        "チュートリアル終了後も、このコードをベースに精度を改善してみてください。<br>\n",
        "またこのチュートリアルで使用するNotebookは、「ナレッジ」ページからダウンロード可能です。<br>\n",
        "たくさんの投稿を心よりお待ちしております！\n",
        "</p>"
      ],
      "metadata": {
        "id": "y_J3qZ07LiVV"
      }
    },
    {
      "cell_type": "markdown",
      "source": [
        "<h2>目次</h2>\n",
        "\n",
        "1. イントロダクション\n",
        "2. データの理解\n",
        "3. データ分析\n",
        "4. モデル構築\n",
        "5. （おまけ①）Scikit-Learnによるモデル構築\n",
        "6. （おまけ②）【発展】ロジスティック回帰の結果の解釈"
      ],
      "metadata": {
        "id": "mZFkk3YHMqrc"
      }
    },
    {
      "cell_type": "markdown",
      "source": [
        "# 1.イントロダクション"
      ],
      "metadata": {
        "id": "mmcIsphwOcnd"
      }
    },
    {
      "cell_type": "markdown",
      "source": [
        "## 1-1.Colabの使用方法"
      ],
      "metadata": {
        "id": "AQVBuDILOhQo"
      }
    },
    {
      "cell_type": "markdown",
      "source": [
        "<p>以下では、Colabの起動からGoogle Drive内のデータ読み込むための準備の手順を説明します。</p>\n",
        "\n",
        "<h3>Colabの起動</h3>\n",
        "\n",
        "1. Googleアカウントにログイン\n",
        "2. ブラウザで <a href=\"https://colab.research.google.com/\">Colab</a> にアクセス\n",
        "3. 「新しいノートブック」をクリックして、新しいColab環境を立ち上げる\n",
        "\n",
        "<h3>Google Driveのディレクトリ構成</h3>\n",
        "<p>\n",
        "Colabで作成したノートブックは自動的にマイドライブの中の「Colab Notebooks」フォルダに保存されます。<br>\n",
        "今回はマイドライブの中に、以下のような構造でデータを置くことを前提とします。\n",
        "</p>\n",
        "\n",
        "```\n",
        "マイドライブ/\n",
        "└── 製造業対抗データインサイトチャレンジ/\n",
        "     ├──  tutorial.ipynb\n",
        "     └── data/\n",
        "          ├── train.csv\n",
        "          ├── test.csv\n",
        "          ├── description.csv\n",
        "          └── sample_submit.csv\n",
        "```\n",
        "\n",
        "<h3>Google Driveへの接続方法</h3>\n",
        "\n",
        "1. Colabノートブックを開いた状態で、以下のコードを実行して自分のGoogle Driveへ接続"
      ],
      "metadata": {
        "id": "DTLcNZ3fM1Cd"
      }
    },
    {
      "cell_type": "code",
      "source": [
        "from google.colab import drive\n",
        "drive.mount('/content/drive')"
      ],
      "metadata": {
        "id": "QqTGk5gEM0az",
        "colab": {
          "base_uri": "https://localhost:8080/"
        },
        "outputId": "8815bd74-059a-4676-e0cd-12c9a05b2bca"
      },
      "execution_count": 1,
      "outputs": [
        {
          "output_type": "stream",
          "name": "stdout",
          "text": [
            "Mounted at /content/drive\n"
          ]
        }
      ]
    },
    {
      "cell_type": "markdown",
      "source": [
        "2. 「Google Driveに接続」をクリックし、Googleアカウントを選択\n",
        "3. 接続が成功すると、「Mounted at /content/drive」というメッセージが表示される\n",
        "<p>\n",
        "これで、自分のGoogle Drive に接続できました!<br>\n",
        "以下のコードでマイドライブの中にあるフォルダを確認することもできます。\n",
        "</p>"
      ],
      "metadata": {
        "id": "QF0go6A1NOid"
      }
    },
    {
      "cell_type": "code",
      "source": [
        "# ls /content/drive/MyDrive"
      ],
      "metadata": {
        "id": "F9Sl-FKjMl85"
      },
      "execution_count": null,
      "outputs": []
    },
    {
      "cell_type": "markdown",
      "source": [
        "<h3>出力保存の設定</h3>\n",
        "\n",
        "デフォルトではコードを実行した出力は保存されない設定となっているため、それをオフにする。\n",
        "\n",
        "```\n",
        "「編集」→「ノートブックの設定」→「このノートブックを保存する際にコードセルの出力を除外する」のチェックを外す\n",
        "```"
      ],
      "metadata": {
        "id": "fpYiRi7J7Tg9"
      }
    },
    {
      "cell_type": "markdown",
      "source": [
        "## 1-2.ライブラリの読み込み"
      ],
      "metadata": {
        "id": "W2g3UXhDOpfg"
      }
    },
    {
      "cell_type": "markdown",
      "source": [
        "ライブラリとは様々な便利ツールがまとまったものです。\n",
        "\n",
        "ライブラリを読み込むことで、pythonがある特定の分野に特化した処理を行うことができるようになります。<br>\n",
        "データ分析を行うためのライブラリを読み込みましょう。<br>\n",
        "\n",
        "例えばpandasは、**表形式のデータの処理に特化したライブラリ**で、多くのデータを一括で扱うことが得意です。\n",
        "\n",
        "他にも様々なライブラリがありますので、気になるものがありましたら、調べるクセをつけておくと良いかもしれません。"
      ],
      "metadata": {
        "id": "dEYKJkY6OUmq"
      }
    },
    {
      "cell_type": "markdown",
      "source": [
        "まずColabに入っていないライブラリを`pip install`をつかってインストールします。<br>\n",
        "その後ライブラリを読み込んでいきます。"
      ],
      "metadata": {
        "id": "tWlfe7C8DVVw"
      }
    },
    {
      "cell_type": "code",
      "source": [
        "# このライブラリはグラフ化する際に日本語を表示させるためのものです。\n",
        "# これを入れないとグラフ内で日本語が文字化けします。\n",
        "!pip install japanize-matplotlib"
      ],
      "metadata": {
        "id": "lbo13-sx0rgg",
        "colab": {
          "base_uri": "https://localhost:8080/"
        },
        "outputId": "4a5829ca-e467-4e74-9742-5ae95311be48"
      },
      "execution_count": 2,
      "outputs": [
        {
          "output_type": "stream",
          "name": "stdout",
          "text": [
            "Collecting japanize-matplotlib\n",
            "  Downloading japanize-matplotlib-1.1.3.tar.gz (4.1 MB)\n",
            "\u001b[2K     \u001b[90m━━━━━━━━━━━━━━━━━━━━━━━━━━━━━━━━━━━━━━━━\u001b[0m \u001b[32m4.1/4.1 MB\u001b[0m \u001b[31m38.4 MB/s\u001b[0m eta \u001b[36m0:00:00\u001b[0m\n",
            "\u001b[?25h  Preparing metadata (setup.py) ... \u001b[?25l\u001b[?25hdone\n",
            "Requirement already satisfied: matplotlib in /usr/local/lib/python3.12/dist-packages (from japanize-matplotlib) (3.10.0)\n",
            "Requirement already satisfied: contourpy>=1.0.1 in /usr/local/lib/python3.12/dist-packages (from matplotlib->japanize-matplotlib) (1.3.3)\n",
            "Requirement already satisfied: cycler>=0.10 in /usr/local/lib/python3.12/dist-packages (from matplotlib->japanize-matplotlib) (0.12.1)\n",
            "Requirement already satisfied: fonttools>=4.22.0 in /usr/local/lib/python3.12/dist-packages (from matplotlib->japanize-matplotlib) (4.60.1)\n",
            "Requirement already satisfied: kiwisolver>=1.3.1 in /usr/local/lib/python3.12/dist-packages (from matplotlib->japanize-matplotlib) (1.4.9)\n",
            "Requirement already satisfied: numpy>=1.23 in /usr/local/lib/python3.12/dist-packages (from matplotlib->japanize-matplotlib) (2.0.2)\n",
            "Requirement already satisfied: packaging>=20.0 in /usr/local/lib/python3.12/dist-packages (from matplotlib->japanize-matplotlib) (25.0)\n",
            "Requirement already satisfied: pillow>=8 in /usr/local/lib/python3.12/dist-packages (from matplotlib->japanize-matplotlib) (11.3.0)\n",
            "Requirement already satisfied: pyparsing>=2.3.1 in /usr/local/lib/python3.12/dist-packages (from matplotlib->japanize-matplotlib) (3.2.5)\n",
            "Requirement already satisfied: python-dateutil>=2.7 in /usr/local/lib/python3.12/dist-packages (from matplotlib->japanize-matplotlib) (2.9.0.post0)\n",
            "Requirement already satisfied: six>=1.5 in /usr/local/lib/python3.12/dist-packages (from python-dateutil>=2.7->matplotlib->japanize-matplotlib) (1.17.0)\n",
            "Building wheels for collected packages: japanize-matplotlib\n",
            "  Building wheel for japanize-matplotlib (setup.py) ... \u001b[?25l\u001b[?25hdone\n",
            "  Created wheel for japanize-matplotlib: filename=japanize_matplotlib-1.1.3-py3-none-any.whl size=4120257 sha256=eb97761b6b06e5fb3a93bfbc052e51eea46641b82f6b81e90973ce9eedf8fdbc\n",
            "  Stored in directory: /root/.cache/pip/wheels/c1/f7/9b/418f19a7b9340fc16e071e89efc379aca68d40238b258df53d\n",
            "Successfully built japanize-matplotlib\n",
            "Installing collected packages: japanize-matplotlib\n",
            "Successfully installed japanize-matplotlib-1.1.3\n"
          ]
        }
      ]
    },
    {
      "cell_type": "code",
      "source": [
        "import pandas as pd\n",
        "import numpy as np\n",
        "import matplotlib.pyplot as plt\n",
        "import japanize_matplotlib"
      ],
      "metadata": {
        "id": "7xb-2ZhZNT7T"
      },
      "execution_count": 3,
      "outputs": []
    },
    {
      "cell_type": "markdown",
      "source": [
        "## 1-3.データの読み込み"
      ],
      "metadata": {
        "id": "E59AEcmfO3l2"
      }
    },
    {
      "cell_type": "markdown",
      "source": [
        "<p>それではデータを読み込んでみましょう。<br>\n",
        "データを読み込むには pd.read_csv()を使います。<br>\n",
        "マイドライブは/content/drive/の中にあるので、trainデータまでのパスは以下のようになります。<br>(もし読み込めない場合は各自の環境に合わせてデータが保存されているパスへ適宜修正してください)</p>"
      ],
      "metadata": {
        "id": "yqf8mkvNO6AA"
      }
    },
    {
      "cell_type": "markdown",
      "source": [
        "---\n",
        "**パスの確認方法**<br>\n",
        "1. 左のファイルタブをクリック\n",
        "2. 「▶」マークをクリックしていき読み込みたいファイルにカーソルを持っていく\n",
        "3. 右側の三点リーダーをクリック\n",
        "4. パスのコピーをクリック\n",
        "5. パスがコピーされるのでCtrl+vにて貼り付け\n",
        "---"
      ],
      "metadata": {
        "id": "9V4elAZBAkxp"
      }
    },
    {
      "cell_type": "code",
      "source": [
        "base_folder = \"/content/drive/MyDrive/製造業対抗データインサイトチャレンジ/data/\"\n",
        "train = pd.read_csv(base_folder + \"train.csv\")\n",
        "test = pd.read_csv(base_folder + \"test.csv\")"
      ],
      "metadata": {
        "id": "hNDI3k-2NT34"
      },
      "execution_count": 7,
      "outputs": []
    },
    {
      "cell_type": "markdown",
      "source": [
        "これでデータを読み込むことができました！次章ではどのようなデータがそれぞれに格納されているのかを確認します。"
      ],
      "metadata": {
        "id": "594ogsiMebtv"
      }
    },
    {
      "cell_type": "markdown",
      "source": [
        "# 2.データの理解"
      ],
      "metadata": {
        "id": "U2nINv8Duu-x"
      }
    },
    {
      "cell_type": "markdown",
      "source": [
        "## 1.データの概要を確認してみよう"
      ],
      "metadata": {
        "id": "Xp8qlmFUu6JG"
      }
    },
    {
      "cell_type": "markdown",
      "source": [
        "まずは何を予測するのかを調べます。<br>\n",
        "まずはカラム情報からターゲット変数の説明を見てみましょう。<br>\n",
        "\n",
        "| カラム名 | データ | 説明 |\n",
        "| :--- | :--- | :--- |\n",
        "| 購入フラグ | Bool | \"0＝False（未購入）, 1＝True（購入）\" |\n",
        "\n",
        "今回は企業がDX商品を買うかどうかを０，１で予測する内容です。<br>\n",
        "０か１で予測値を算出する必要があるので、購入＝1となる確率を算出して、ある閾値以上（例えば0.5）となれば１、それ未満だと０というロジックを設定する必要がありそうです。"
      ],
      "metadata": {
        "id": "k6_eSATcMZzP"
      }
    },
    {
      "cell_type": "markdown",
      "source": [
        "次に説明変数のカラム情報を眺めてみてどういうデータかを想像しましょう"
      ],
      "metadata": {
        "id": "jgVD1yyjLRiL"
      }
    },
    {
      "cell_type": "markdown",
      "source": [
        "-----\n",
        "企業の基本情報\n",
        "\n",
        "| カラム名 | データ | 説明 |\n",
        "| :--- | :--- | :--- |\n",
        "| 企業名 | テキスト | 企業名称 |\n",
        "| 企業ID | 数値 | 企業に割り振られた一意のコード |\n",
        "| 従業員数 | 数値 | 連結従業員数 |\n",
        "| 業界 | テキスト | 製造、商社、金融、機械、アパレル、エネルギー、IT･･･等 |\n",
        "| 上場種別 | テキスト | 東証プライム、東証スタンダード、東証グロース |\n",
        "| 取引形態 | テキスト | BtoB,BtoCなど |\n",
        "| 会社概要 | テキスト | 会社の事業内容等 |\n",
        "| 組織図 | テキスト | 階層型組織図(フォーマットは統一されていない) |\n",
        "| 事業所数 | 数値 | 企業が保有する事務所の数 |\n",
        "| 工場数 | 数値 | 企業が保有する工場の数 |\n",
        "| 店舗数 | 数値 | 企業が保有する店舗の数 |\n",
        "\n",
        "- 企業の基本情報や体制が与えられており、数値のほかにテキストデータが多くある。\n",
        "- 従業員数が多ければ購入してくれそう"
      ],
      "metadata": {
        "id": "y_s42L7PJo0q"
      }
    },
    {
      "cell_type": "markdown",
      "source": [
        "---\n",
        "企業の財務情報\n",
        "\n",
        "| カラム名 | データ | 説明 |\n",
        "| :--- | :--- | :--- |\n",
        "| 資本金 | 数値 | 貸借対照表科目(直近の年度末決算値)[単位:円] |\n",
        "| 総資産 | 数値 | 貸借対照表科目(直近の年度末決算値)[単位:円] |\n",
        "| 流動資産 | 数値 | 貸借対照表科目(直近の年度末決算値)[単位:円] |\n",
        "| 固定資産 | 数値 | 貸借対照表科目(直近の年度末決算値)[単位:円] |\n",
        "| 負債 | 数値 | 貸借対照表科目(直近の年度末決算値)[単位:円] |\n",
        "| 短期借入金 | 数値 | 貸借対照表科目(直近の年度末決算値)[単位:円] |\n",
        "| 長期借入金 | 数値 | 貸借対照表科目(直近の年度末決算値)[単位:円] |\n",
        "| 純資産 | 数値 | 貸借対照表科目(直近の年度末決算値)[単位:円] |\n",
        "| 自己資本 | 数値 | 貸借対照表科目(直近の年度末決算値)[単位:円] |\n",
        "| 売上 | 数値 | 損益計算書科目(直近の年度末決算値)[単位:円] |\n",
        "| 営業利益 | 数値 | 損益計算書科目(直近の年度末決算値)[単位:円] |\n",
        "| 経常利益 | 数値 | 損益計算書科目(直近の年度末決算値)[単位:円] |\n",
        "| 当期純利益 | 数値 | 損益計算書科目(直近の年度末決算値)[単位:円] |\n",
        "| 営業CF | 数値 | キャッシュフロー計算書科目(直近の年度末決算値)[単位:円] |\n",
        "| 税引前当期純利益 | 数値 | キャッシュフロー計算書科目(直近の年度末決算値)[単位:円] |\n",
        "| 減価償却費 | 数値 | キャッシュフロー計算書科目(直近の年度末決算値)[単位:円] |\n",
        "| 運転資本変動 | 数値 | キャッシュフロー計算書科目(直近の年度末決算値)[単位:円] |\n",
        "| その他変動(営業CF) | 数値 | キャッシュフロー計算書科目(直近の年度末決算値)[単位:円] |\n",
        "| 投資CF | 数値 | キャッシュフロー計算書科目(直近の年度末決算値)[単位:円] |\n",
        "| 有形固定資産変動 | 数値 | キャッシュフロー計算書科目(直近の年度末決算値)[単位:円] |\n",
        "| 無形固定資産変動(ソフトウェア関連) | 数値 | キャッシュフロー計算書科目(直近の年度末決算値)[単位:円] |\n",
        "| 無形固定資産変動(その他) | 数値 | キャッシュフロー計算書科目(直近の年度末決算値)[単位:円] |\n",
        "| 財務CF | 数値 | キャッシュフロー計算書科目(直近の年度末決算値)[単位:円] |\n",
        "\n",
        "- 貸借対照表(BS)、損益計算書(PL)、キャッシュフロー計算書(CF)の主な項目がすべて円単位で数値として与えられている。\n",
        "- DXへの投資は短期目線だけではなく、長期的な目線で投資を行う必要があるので、財務情報は重要そう。"
      ],
      "metadata": {
        "id": "XLaw99YEu50-"
      }
    },
    {
      "cell_type": "markdown",
      "source": [
        "---\n",
        "企業の声\n",
        "\n",
        "| カラム名 | データ | 説明 |\n",
        "| :--- | :--- | :--- |\n",
        "| アンケート1 | 数値 | 【質問内容】DX推進の戦略的な方向性はどの程度明確ですか？ (1:非常に低い, 2:低い, 3:普通, 4:高い, 5:非常に高い) |\n",
        "| アンケート2 | 数値 | 【質問内容】社内のDX化に対する満足度はどの程度ですが？(1:非常に低い, 2:低い, 3:普通, 4:高い, 5:非常に高い) |\n",
        "| アンケート3 | 数値 | 【質問内容】最新デジタル技術(クラウド、AI、IoT等)の導入状況はどの程度進んでいますか？(1:非常に低い, 2:低い, 3:普通, 4:高い, 5:非常に高い) |\n",
        "| アンケート4 | 数値 | 【質問内容】社内のDX変革に対する抵抗感はどの程度ありますか？(1:非常に低い, 2:低い, 3:普通, 4:高い, 5:非常に高い) |\n",
        "| アンケート5 | 数値 | 【質問内容】サイバーセキュリティ対策の整備状況はどの程度十分ですか？(1:非常に低い, 2:低い, 3:普通, 4:高い, 5:非常に高い) |\n",
        "| アンケート6 | 数値 | 【質問内容】すでに業務プロセスの改善や自動化を目的としたツールやサービスを導入していますか？(1:はい, 2:いいえ) |\n",
        "| アンケート7 | 数値 | 【質問内容】No8が1の場合、既存の業務プロセス改善ツールやサービスに対する満足度はどの程度ですか？(1: 非常に低い, 2:低い, 3: 普通, 4:高い, 5: 非常に高い) |\n",
        "| アンケート8 | 数値 | 【質問内容】DXプロジェクトの成果や効果はどの程度実感されていますか？(1:非常に低い, 2:低い, 3:普通, 4:高い, 5:非常に高い) |\n",
        "| アンケート9 | 数値 | 【質問内容】新技術イベントやセミナーへの参加率はどの程度高いですか？(1:非常に低い, 2:低い, 3:普通, 4:高い, 5:非常に高い) |\n",
        "| アンケート10 | 数値 | 【質問内容】外部パートナー(ベンダー、コンサルタント等)とのDX連携実績はどの程度充実していますか？(1:非常に低い, 2:低い, 3:普通, 4:高い, 5:非常に高い) |\n",
        "| アンケート11 | 数値 | 【質問内容】DXに関する最新技術やツールの導入状況について、どの程度の情報収集を行っていますか？(1:非常に低い, 2:低い, 3:普通, 4:高い, 5:非常に高い) |\n",
        "| 今後のDX展望 | テキスト | 【質問内容】御社の今後のDX投資に関する方向性や計画について、ぜひお話をお聞かせいただけますか？ |\n",
        "\n",
        "- 企業が回答しているDX関連のアンケート。5段階で記載。\n",
        " - いずれもDX関連の質問なのですべて購入に影響している可能性があり、一つ一つ確認していく必要がありそう。\n",
        "- また今後のDX展望に関しては、企業ごとにテキストが与えられている。"
      ],
      "metadata": {
        "id": "Qrg1StFAu5pb"
      }
    },
    {
      "cell_type": "markdown",
      "source": [
        "## 2.データの中身を確認してみよう"
      ],
      "metadata": {
        "id": "InK3Db4Veots"
      }
    },
    {
      "cell_type": "markdown",
      "source": [
        "次に訓練用データの中身を確かめてみましょう。"
      ],
      "metadata": {
        "id": "8Tdtzkzue2H7"
      }
    },
    {
      "cell_type": "markdown",
      "source": [
        "---\n",
        "**注意！**<br>\n",
        "以降では入力データのターゲット以外の各列のことを**特徴量**と呼びます。\n",
        "- 本コンペティションでは、\"購入フラグ\"以外の列が特徴量です。\n",
        "---"
      ],
      "metadata": {
        "id": "vqFb3HLHe5hI"
      }
    },
    {
      "cell_type": "markdown",
      "source": [
        "まず始めの一歩として、表データの中身とサイズを確認しましょう！"
      ],
      "metadata": {
        "id": "neLkLqi_fQTT"
      }
    },
    {
      "cell_type": "markdown",
      "source": [
        "---\n",
        "\n",
        "**(参考)**<br>\n",
        "Pythonにおいて、値を出力するためには`print()関数`や`display()関数`を使うのが一般的です。<br>一方、Jupyter NotebookやGoogle Colabのような対話的な環境では、セルの最終行に変数や式を記述するだけで、その評価結果が自動的に表示されます。\n",
        "\n",
        "---"
      ],
      "metadata": {
        "id": "ruGXajbfCcW9"
      }
    },
    {
      "cell_type": "code",
      "source": [
        "train.head(5)"
      ],
      "metadata": {
        "id": "puq8nWBjNT1Z",
        "colab": {
          "base_uri": "https://localhost:8080/",
          "height": 1000
        },
        "outputId": "f7f90542-c59b-479f-8071-a40c75d3a0a8"
      },
      "execution_count": 8,
      "outputs": [
        {
          "output_type": "execute_result",
          "data": {
            "text/plain": [
              "   企業ID             企業名  従業員数     業界 上場種別    特徴  \\\n",
              "0     0   株式会社クロマファクトリー  4539     化学   PR  BtoB   \n",
              "1     1  星浪ホールディングス株式会社   792  運輸・物流   PR  BtoB   \n",
              "2     2     株式会社クネットリンク  4346  建設・工事   PR  BtoB   \n",
              "3     3    株式会社プリントスフィア  2011     機械   PR  BtoB   \n",
              "4     4        株式会社悠薫薬品  1488  医療・福祉   PR  BtoB   \n",
              "\n",
              "                                                企業概要  \\\n",
              "0  【会社概要】\\n\\n当社は、化学業界に属し、先進の技術と豊富な実績を背景に、国内外のお客様に...   \n",
              "1  当社は運輸・物流業界に属し、792名の従業員と共に、バスや鉄道輸送、物流・海運、不動産・百貨...   \n",
              "2  2010年に3社の経営統合により持株会社として設立され、業界3位を誇る電気通信工事会社です。...   \n",
              "3  【企業概要】\\n当社は、従業員数2,011名を有し、機械業界に属するグローバル企業として、製...   \n",
              "4  従業員数：1488人\\n業界：医療・福祉業界\\n\\n事業内容：\\n当社は、先発医薬品としての...   \n",
              "\n",
              "                                                 組織図  事業所数   工場数  ...  アンケート４  \\\n",
              "0  【経営層】\\n├─ 代表取締役社長\\n├─ 取締役副社長\\n└─ 取締役\\n\\n【管理本部】...   2.0  10.0  ...       1   \n",
              "1  経営層\\n├─ 経営管理部\\n│   ├─ 経営企画室\\n│   └─ 財務・人事部\\n├─...   2.0   NaN  ...       3   \n",
              "2  経営層\\n├─ 経営企画室\\n├─ 管理本部\\n│ ├─ 人事部\\n│ ├─ 財務部\\n│ ...  24.0   NaN  ...       2   \n",
              "3  【企業組織図】\\n\\n■ 経営層\\n　├─ 経営企画部\\n　├─ 自動認識ソリューション事業...   1.0   NaN  ...       5   \n",
              "4  ────────────────────────────\\n【経営層】\\n　├─ 代表取締役...  58.0   2.0  ...       5   \n",
              "\n",
              "   アンケート５  アンケート６  アンケート７  アンケート８  アンケート９  アンケート１０  アンケート１１  \\\n",
              "0       5       2     NaN       3       4        1        1   \n",
              "1       4       1     5.0       4       1        2        1   \n",
              "2       1       1     4.0       4       1        1        2   \n",
              "3       1       2     NaN       1       2        3        4   \n",
              "4       3       1     5.0       2       3        5        4   \n",
              "\n",
              "                                             今後のDX展望  購入フラグ  \n",
              "0  弊社は、既存事業基盤を支える先端技術と品質管理体制をさらに磨くため、DX投資を持続可能かつ実...      0  \n",
              "1  当グループは運輸・物流、不動産・小売、ホテル・文化事業など幅広い事業を抱えるものの、これまで...      0  \n",
              "2  弊社はこれまで、社内DX導入において業界屈指の前のめり姿勢を貫き、AI・IoT・クラウドなど...      0  \n",
              "3  当社はこれまで、クラウド、AI、IoT などを活用した製造プロセス・サプライチェーンの効率化...      0  \n",
              "4  弊社はこれまで、クラウド、AI、IoT などを計画的に導入し、業務効率化や製品開発の高度化に...      0  \n",
              "\n",
              "[5 rows x 43 columns]"
            ],
            "text/html": [
              "\n",
              "  <div id=\"df-91e79c1a-6e72-4f67-9096-8e8e6a84687f\" class=\"colab-df-container\">\n",
              "    <div>\n",
              "<style scoped>\n",
              "    .dataframe tbody tr th:only-of-type {\n",
              "        vertical-align: middle;\n",
              "    }\n",
              "\n",
              "    .dataframe tbody tr th {\n",
              "        vertical-align: top;\n",
              "    }\n",
              "\n",
              "    .dataframe thead th {\n",
              "        text-align: right;\n",
              "    }\n",
              "</style>\n",
              "<table border=\"1\" class=\"dataframe\">\n",
              "  <thead>\n",
              "    <tr style=\"text-align: right;\">\n",
              "      <th></th>\n",
              "      <th>企業ID</th>\n",
              "      <th>企業名</th>\n",
              "      <th>従業員数</th>\n",
              "      <th>業界</th>\n",
              "      <th>上場種別</th>\n",
              "      <th>特徴</th>\n",
              "      <th>企業概要</th>\n",
              "      <th>組織図</th>\n",
              "      <th>事業所数</th>\n",
              "      <th>工場数</th>\n",
              "      <th>...</th>\n",
              "      <th>アンケート４</th>\n",
              "      <th>アンケート５</th>\n",
              "      <th>アンケート６</th>\n",
              "      <th>アンケート７</th>\n",
              "      <th>アンケート８</th>\n",
              "      <th>アンケート９</th>\n",
              "      <th>アンケート１０</th>\n",
              "      <th>アンケート１１</th>\n",
              "      <th>今後のDX展望</th>\n",
              "      <th>購入フラグ</th>\n",
              "    </tr>\n",
              "  </thead>\n",
              "  <tbody>\n",
              "    <tr>\n",
              "      <th>0</th>\n",
              "      <td>0</td>\n",
              "      <td>株式会社クロマファクトリー</td>\n",
              "      <td>4539</td>\n",
              "      <td>化学</td>\n",
              "      <td>PR</td>\n",
              "      <td>BtoB</td>\n",
              "      <td>【会社概要】\\n\\n当社は、化学業界に属し、先進の技術と豊富な実績を背景に、国内外のお客様に...</td>\n",
              "      <td>【経営層】\\n├─ 代表取締役社長\\n├─ 取締役副社長\\n└─ 取締役\\n\\n【管理本部】...</td>\n",
              "      <td>2.0</td>\n",
              "      <td>10.0</td>\n",
              "      <td>...</td>\n",
              "      <td>1</td>\n",
              "      <td>5</td>\n",
              "      <td>2</td>\n",
              "      <td>NaN</td>\n",
              "      <td>3</td>\n",
              "      <td>4</td>\n",
              "      <td>1</td>\n",
              "      <td>1</td>\n",
              "      <td>弊社は、既存事業基盤を支える先端技術と品質管理体制をさらに磨くため、DX投資を持続可能かつ実...</td>\n",
              "      <td>0</td>\n",
              "    </tr>\n",
              "    <tr>\n",
              "      <th>1</th>\n",
              "      <td>1</td>\n",
              "      <td>星浪ホールディングス株式会社</td>\n",
              "      <td>792</td>\n",
              "      <td>運輸・物流</td>\n",
              "      <td>PR</td>\n",
              "      <td>BtoB</td>\n",
              "      <td>当社は運輸・物流業界に属し、792名の従業員と共に、バスや鉄道輸送、物流・海運、不動産・百貨...</td>\n",
              "      <td>経営層\\n├─ 経営管理部\\n│   ├─ 経営企画室\\n│   └─ 財務・人事部\\n├─...</td>\n",
              "      <td>2.0</td>\n",
              "      <td>NaN</td>\n",
              "      <td>...</td>\n",
              "      <td>3</td>\n",
              "      <td>4</td>\n",
              "      <td>1</td>\n",
              "      <td>5.0</td>\n",
              "      <td>4</td>\n",
              "      <td>1</td>\n",
              "      <td>2</td>\n",
              "      <td>1</td>\n",
              "      <td>当グループは運輸・物流、不動産・小売、ホテル・文化事業など幅広い事業を抱えるものの、これまで...</td>\n",
              "      <td>0</td>\n",
              "    </tr>\n",
              "    <tr>\n",
              "      <th>2</th>\n",
              "      <td>2</td>\n",
              "      <td>株式会社クネットリンク</td>\n",
              "      <td>4346</td>\n",
              "      <td>建設・工事</td>\n",
              "      <td>PR</td>\n",
              "      <td>BtoB</td>\n",
              "      <td>2010年に3社の経営統合により持株会社として設立され、業界3位を誇る電気通信工事会社です。...</td>\n",
              "      <td>経営層\\n├─ 経営企画室\\n├─ 管理本部\\n│ ├─ 人事部\\n│ ├─ 財務部\\n│ ...</td>\n",
              "      <td>24.0</td>\n",
              "      <td>NaN</td>\n",
              "      <td>...</td>\n",
              "      <td>2</td>\n",
              "      <td>1</td>\n",
              "      <td>1</td>\n",
              "      <td>4.0</td>\n",
              "      <td>4</td>\n",
              "      <td>1</td>\n",
              "      <td>1</td>\n",
              "      <td>2</td>\n",
              "      <td>弊社はこれまで、社内DX導入において業界屈指の前のめり姿勢を貫き、AI・IoT・クラウドなど...</td>\n",
              "      <td>0</td>\n",
              "    </tr>\n",
              "    <tr>\n",
              "      <th>3</th>\n",
              "      <td>3</td>\n",
              "      <td>株式会社プリントスフィア</td>\n",
              "      <td>2011</td>\n",
              "      <td>機械</td>\n",
              "      <td>PR</td>\n",
              "      <td>BtoB</td>\n",
              "      <td>【企業概要】\\n当社は、従業員数2,011名を有し、機械業界に属するグローバル企業として、製...</td>\n",
              "      <td>【企業組織図】\\n\\n■ 経営層\\n　├─ 経営企画部\\n　├─ 自動認識ソリューション事業...</td>\n",
              "      <td>1.0</td>\n",
              "      <td>NaN</td>\n",
              "      <td>...</td>\n",
              "      <td>5</td>\n",
              "      <td>1</td>\n",
              "      <td>2</td>\n",
              "      <td>NaN</td>\n",
              "      <td>1</td>\n",
              "      <td>2</td>\n",
              "      <td>3</td>\n",
              "      <td>4</td>\n",
              "      <td>当社はこれまで、クラウド、AI、IoT などを活用した製造プロセス・サプライチェーンの効率化...</td>\n",
              "      <td>0</td>\n",
              "    </tr>\n",
              "    <tr>\n",
              "      <th>4</th>\n",
              "      <td>4</td>\n",
              "      <td>株式会社悠薫薬品</td>\n",
              "      <td>1488</td>\n",
              "      <td>医療・福祉</td>\n",
              "      <td>PR</td>\n",
              "      <td>BtoB</td>\n",
              "      <td>従業員数：1488人\\n業界：医療・福祉業界\\n\\n事業内容：\\n当社は、先発医薬品としての...</td>\n",
              "      <td>────────────────────────────\\n【経営層】\\n　├─ 代表取締役...</td>\n",
              "      <td>58.0</td>\n",
              "      <td>2.0</td>\n",
              "      <td>...</td>\n",
              "      <td>5</td>\n",
              "      <td>3</td>\n",
              "      <td>1</td>\n",
              "      <td>5.0</td>\n",
              "      <td>2</td>\n",
              "      <td>3</td>\n",
              "      <td>5</td>\n",
              "      <td>4</td>\n",
              "      <td>弊社はこれまで、クラウド、AI、IoT などを計画的に導入し、業務効率化や製品開発の高度化に...</td>\n",
              "      <td>0</td>\n",
              "    </tr>\n",
              "  </tbody>\n",
              "</table>\n",
              "<p>5 rows × 43 columns</p>\n",
              "</div>\n",
              "    <div class=\"colab-df-buttons\">\n",
              "\n",
              "  <div class=\"colab-df-container\">\n",
              "    <button class=\"colab-df-convert\" onclick=\"convertToInteractive('df-91e79c1a-6e72-4f67-9096-8e8e6a84687f')\"\n",
              "            title=\"Convert this dataframe to an interactive table.\"\n",
              "            style=\"display:none;\">\n",
              "\n",
              "  <svg xmlns=\"http://www.w3.org/2000/svg\" height=\"24px\" viewBox=\"0 -960 960 960\">\n",
              "    <path d=\"M120-120v-720h720v720H120Zm60-500h600v-160H180v160Zm220 220h160v-160H400v160Zm0 220h160v-160H400v160ZM180-400h160v-160H180v160Zm440 0h160v-160H620v160ZM180-180h160v-160H180v160Zm440 0h160v-160H620v160Z\"/>\n",
              "  </svg>\n",
              "    </button>\n",
              "\n",
              "  <style>\n",
              "    .colab-df-container {\n",
              "      display:flex;\n",
              "      gap: 12px;\n",
              "    }\n",
              "\n",
              "    .colab-df-convert {\n",
              "      background-color: #E8F0FE;\n",
              "      border: none;\n",
              "      border-radius: 50%;\n",
              "      cursor: pointer;\n",
              "      display: none;\n",
              "      fill: #1967D2;\n",
              "      height: 32px;\n",
              "      padding: 0 0 0 0;\n",
              "      width: 32px;\n",
              "    }\n",
              "\n",
              "    .colab-df-convert:hover {\n",
              "      background-color: #E2EBFA;\n",
              "      box-shadow: 0px 1px 2px rgba(60, 64, 67, 0.3), 0px 1px 3px 1px rgba(60, 64, 67, 0.15);\n",
              "      fill: #174EA6;\n",
              "    }\n",
              "\n",
              "    .colab-df-buttons div {\n",
              "      margin-bottom: 4px;\n",
              "    }\n",
              "\n",
              "    [theme=dark] .colab-df-convert {\n",
              "      background-color: #3B4455;\n",
              "      fill: #D2E3FC;\n",
              "    }\n",
              "\n",
              "    [theme=dark] .colab-df-convert:hover {\n",
              "      background-color: #434B5C;\n",
              "      box-shadow: 0px 1px 3px 1px rgba(0, 0, 0, 0.15);\n",
              "      filter: drop-shadow(0px 1px 2px rgba(0, 0, 0, 0.3));\n",
              "      fill: #FFFFFF;\n",
              "    }\n",
              "  </style>\n",
              "\n",
              "    <script>\n",
              "      const buttonEl =\n",
              "        document.querySelector('#df-91e79c1a-6e72-4f67-9096-8e8e6a84687f button.colab-df-convert');\n",
              "      buttonEl.style.display =\n",
              "        google.colab.kernel.accessAllowed ? 'block' : 'none';\n",
              "\n",
              "      async function convertToInteractive(key) {\n",
              "        const element = document.querySelector('#df-91e79c1a-6e72-4f67-9096-8e8e6a84687f');\n",
              "        const dataTable =\n",
              "          await google.colab.kernel.invokeFunction('convertToInteractive',\n",
              "                                                    [key], {});\n",
              "        if (!dataTable) return;\n",
              "\n",
              "        const docLinkHtml = 'Like what you see? Visit the ' +\n",
              "          '<a target=\"_blank\" href=https://colab.research.google.com/notebooks/data_table.ipynb>data table notebook</a>'\n",
              "          + ' to learn more about interactive tables.';\n",
              "        element.innerHTML = '';\n",
              "        dataTable['output_type'] = 'display_data';\n",
              "        await google.colab.output.renderOutput(dataTable, element);\n",
              "        const docLink = document.createElement('div');\n",
              "        docLink.innerHTML = docLinkHtml;\n",
              "        element.appendChild(docLink);\n",
              "      }\n",
              "    </script>\n",
              "  </div>\n",
              "\n",
              "\n",
              "    <div id=\"df-441e07d8-a9b0-419b-b287-2b0d9943dc43\">\n",
              "      <button class=\"colab-df-quickchart\" onclick=\"quickchart('df-441e07d8-a9b0-419b-b287-2b0d9943dc43')\"\n",
              "                title=\"Suggest charts\"\n",
              "                style=\"display:none;\">\n",
              "\n",
              "<svg xmlns=\"http://www.w3.org/2000/svg\" height=\"24px\"viewBox=\"0 0 24 24\"\n",
              "     width=\"24px\">\n",
              "    <g>\n",
              "        <path d=\"M19 3H5c-1.1 0-2 .9-2 2v14c0 1.1.9 2 2 2h14c1.1 0 2-.9 2-2V5c0-1.1-.9-2-2-2zM9 17H7v-7h2v7zm4 0h-2V7h2v10zm4 0h-2v-4h2v4z\"/>\n",
              "    </g>\n",
              "</svg>\n",
              "      </button>\n",
              "\n",
              "<style>\n",
              "  .colab-df-quickchart {\n",
              "      --bg-color: #E8F0FE;\n",
              "      --fill-color: #1967D2;\n",
              "      --hover-bg-color: #E2EBFA;\n",
              "      --hover-fill-color: #174EA6;\n",
              "      --disabled-fill-color: #AAA;\n",
              "      --disabled-bg-color: #DDD;\n",
              "  }\n",
              "\n",
              "  [theme=dark] .colab-df-quickchart {\n",
              "      --bg-color: #3B4455;\n",
              "      --fill-color: #D2E3FC;\n",
              "      --hover-bg-color: #434B5C;\n",
              "      --hover-fill-color: #FFFFFF;\n",
              "      --disabled-bg-color: #3B4455;\n",
              "      --disabled-fill-color: #666;\n",
              "  }\n",
              "\n",
              "  .colab-df-quickchart {\n",
              "    background-color: var(--bg-color);\n",
              "    border: none;\n",
              "    border-radius: 50%;\n",
              "    cursor: pointer;\n",
              "    display: none;\n",
              "    fill: var(--fill-color);\n",
              "    height: 32px;\n",
              "    padding: 0;\n",
              "    width: 32px;\n",
              "  }\n",
              "\n",
              "  .colab-df-quickchart:hover {\n",
              "    background-color: var(--hover-bg-color);\n",
              "    box-shadow: 0 1px 2px rgba(60, 64, 67, 0.3), 0 1px 3px 1px rgba(60, 64, 67, 0.15);\n",
              "    fill: var(--button-hover-fill-color);\n",
              "  }\n",
              "\n",
              "  .colab-df-quickchart-complete:disabled,\n",
              "  .colab-df-quickchart-complete:disabled:hover {\n",
              "    background-color: var(--disabled-bg-color);\n",
              "    fill: var(--disabled-fill-color);\n",
              "    box-shadow: none;\n",
              "  }\n",
              "\n",
              "  .colab-df-spinner {\n",
              "    border: 2px solid var(--fill-color);\n",
              "    border-color: transparent;\n",
              "    border-bottom-color: var(--fill-color);\n",
              "    animation:\n",
              "      spin 1s steps(1) infinite;\n",
              "  }\n",
              "\n",
              "  @keyframes spin {\n",
              "    0% {\n",
              "      border-color: transparent;\n",
              "      border-bottom-color: var(--fill-color);\n",
              "      border-left-color: var(--fill-color);\n",
              "    }\n",
              "    20% {\n",
              "      border-color: transparent;\n",
              "      border-left-color: var(--fill-color);\n",
              "      border-top-color: var(--fill-color);\n",
              "    }\n",
              "    30% {\n",
              "      border-color: transparent;\n",
              "      border-left-color: var(--fill-color);\n",
              "      border-top-color: var(--fill-color);\n",
              "      border-right-color: var(--fill-color);\n",
              "    }\n",
              "    40% {\n",
              "      border-color: transparent;\n",
              "      border-right-color: var(--fill-color);\n",
              "      border-top-color: var(--fill-color);\n",
              "    }\n",
              "    60% {\n",
              "      border-color: transparent;\n",
              "      border-right-color: var(--fill-color);\n",
              "    }\n",
              "    80% {\n",
              "      border-color: transparent;\n",
              "      border-right-color: var(--fill-color);\n",
              "      border-bottom-color: var(--fill-color);\n",
              "    }\n",
              "    90% {\n",
              "      border-color: transparent;\n",
              "      border-bottom-color: var(--fill-color);\n",
              "    }\n",
              "  }\n",
              "</style>\n",
              "\n",
              "      <script>\n",
              "        async function quickchart(key) {\n",
              "          const quickchartButtonEl =\n",
              "            document.querySelector('#' + key + ' button');\n",
              "          quickchartButtonEl.disabled = true;  // To prevent multiple clicks.\n",
              "          quickchartButtonEl.classList.add('colab-df-spinner');\n",
              "          try {\n",
              "            const charts = await google.colab.kernel.invokeFunction(\n",
              "                'suggestCharts', [key], {});\n",
              "          } catch (error) {\n",
              "            console.error('Error during call to suggestCharts:', error);\n",
              "          }\n",
              "          quickchartButtonEl.classList.remove('colab-df-spinner');\n",
              "          quickchartButtonEl.classList.add('colab-df-quickchart-complete');\n",
              "        }\n",
              "        (() => {\n",
              "          let quickchartButtonEl =\n",
              "            document.querySelector('#df-441e07d8-a9b0-419b-b287-2b0d9943dc43 button');\n",
              "          quickchartButtonEl.style.display =\n",
              "            google.colab.kernel.accessAllowed ? 'block' : 'none';\n",
              "        })();\n",
              "      </script>\n",
              "    </div>\n",
              "\n",
              "    </div>\n",
              "  </div>\n"
            ],
            "application/vnd.google.colaboratory.intrinsic+json": {
              "type": "dataframe",
              "variable_name": "train"
            }
          },
          "metadata": {},
          "execution_count": 8
        }
      ]
    },
    {
      "cell_type": "markdown",
      "source": [
        "全部で43columnsとありますが、上記表では途中でカラムが省略されてしまっているのですべてのカラムを表示できるように設定します。"
      ],
      "metadata": {
        "id": "q48SFbC7fnku"
      }
    },
    {
      "cell_type": "code",
      "source": [
        "pd.set_option('display.max_columns', 100)"
      ],
      "metadata": {
        "id": "4713_4W0NTyo"
      },
      "execution_count": 9,
      "outputs": []
    },
    {
      "cell_type": "code",
      "source": [
        "train.head()"
      ],
      "metadata": {
        "id": "8avV_KvFNTv1",
        "colab": {
          "base_uri": "https://localhost:8080/",
          "height": 1000
        },
        "outputId": "c2944fc9-29fa-4772-c0fa-a8a5a5a54694"
      },
      "execution_count": 10,
      "outputs": [
        {
          "output_type": "execute_result",
          "data": {
            "text/plain": [
              "   企業ID             企業名  従業員数     業界 上場種別    特徴  \\\n",
              "0     0   株式会社クロマファクトリー  4539     化学   PR  BtoB   \n",
              "1     1  星浪ホールディングス株式会社   792  運輸・物流   PR  BtoB   \n",
              "2     2     株式会社クネットリンク  4346  建設・工事   PR  BtoB   \n",
              "3     3    株式会社プリントスフィア  2011     機械   PR  BtoB   \n",
              "4     4        株式会社悠薫薬品  1488  医療・福祉   PR  BtoB   \n",
              "\n",
              "                                                企業概要  \\\n",
              "0  【会社概要】\\n\\n当社は、化学業界に属し、先進の技術と豊富な実績を背景に、国内外のお客様に...   \n",
              "1  当社は運輸・物流業界に属し、792名の従業員と共に、バスや鉄道輸送、物流・海運、不動産・百貨...   \n",
              "2  2010年に3社の経営統合により持株会社として設立され、業界3位を誇る電気通信工事会社です。...   \n",
              "3  【企業概要】\\n当社は、従業員数2,011名を有し、機械業界に属するグローバル企業として、製...   \n",
              "4  従業員数：1488人\\n業界：医療・福祉業界\\n\\n事業内容：\\n当社は、先発医薬品としての...   \n",
              "\n",
              "                                                 組織図  事業所数   工場数  店舗数  \\\n",
              "0  【経営層】\\n├─ 代表取締役社長\\n├─ 取締役副社長\\n└─ 取締役\\n\\n【管理本部】...   2.0  10.0  1.0   \n",
              "1  経営層\\n├─ 経営管理部\\n│   ├─ 経営企画室\\n│   └─ 財務・人事部\\n├─...   2.0   NaN  NaN   \n",
              "2  経営層\\n├─ 経営企画室\\n├─ 管理本部\\n│ ├─ 人事部\\n│ ├─ 財務部\\n│ ...  24.0   NaN  NaN   \n",
              "3  【企業組織図】\\n\\n■ 経営層\\n　├─ 経営企画部\\n　├─ 自動認識ソリューション事業...   1.0   NaN  NaN   \n",
              "4  ────────────────────────────\\n【経営層】\\n　├─ 代表取締役...  58.0   2.0  NaN   \n",
              "\n",
              "        資本金      総資産     流動資産     固定資産       負債   短期借入金   長期借入金     純資産  \\\n",
              "0   98364.0  1248827   561053   687774   823447   27116  280605  425380   \n",
              "1  128400.0  2491660  1024551  1467109  1896755  234541  643605  594905   \n",
              "2    7143.0   530553   204244   326309   266992   76948   31778  263561   \n",
              "3    8510.0   134188    63854    70334    59174    3821    8465   75014   \n",
              "4     715.0   181341   111646    69695    47454   10255     447  133887   \n",
              "\n",
              "     自己資本       売上     営業利益     経常利益  当期純利益   営業CF  減価償却費  運転資本変動   投資CF  \\\n",
              "0  410697  1093796  45744.0  38858.0  21787  37518   5000   -3000 -30498   \n",
              "1  532729  1671940  88878.0  87169.0  49079  97506  25000   -5000 -52261   \n",
              "2  255665   527829  18322.0  19009.0  12775  22154   4000    -500 -38775   \n",
              "3   72338   146495  10574.0   9184.0   3663   7735   2000     300  -3550   \n",
              "4  133372   122831   6112.0   6907.0   5563   8959    500    -300  -3848   \n",
              "\n",
              "   有形固定資産変動  無形固定資産変動(ソフトウェア関連)  アンケート１  アンケート２  アンケート３  アンケート４  アンケート５  \\\n",
              "0    -20000               -9498       1       2       1       1       5   \n",
              "1    -30000              -12261       2       2       1       3       4   \n",
              "2    -20000              -13775       4       5       1       2       1   \n",
              "3     -1000               -2350       1       4       5       5       1   \n",
              "4     -1000               -2848       4       3       5       5       3   \n",
              "\n",
              "   アンケート６  アンケート７  アンケート８  アンケート９  アンケート１０  アンケート１１  \\\n",
              "0       2     NaN       3       4        1        1   \n",
              "1       1     5.0       4       1        2        1   \n",
              "2       1     4.0       4       1        1        2   \n",
              "3       2     NaN       1       2        3        4   \n",
              "4       1     5.0       2       3        5        4   \n",
              "\n",
              "                                             今後のDX展望  購入フラグ  \n",
              "0  弊社は、既存事業基盤を支える先端技術と品質管理体制をさらに磨くため、DX投資を持続可能かつ実...      0  \n",
              "1  当グループは運輸・物流、不動産・小売、ホテル・文化事業など幅広い事業を抱えるものの、これまで...      0  \n",
              "2  弊社はこれまで、社内DX導入において業界屈指の前のめり姿勢を貫き、AI・IoT・クラウドなど...      0  \n",
              "3  当社はこれまで、クラウド、AI、IoT などを活用した製造プロセス・サプライチェーンの効率化...      0  \n",
              "4  弊社はこれまで、クラウド、AI、IoT などを計画的に導入し、業務効率化や製品開発の高度化に...      0  "
            ],
            "text/html": [
              "\n",
              "  <div id=\"df-8adcbc92-4197-4eb1-9b19-4a3f9735b005\" class=\"colab-df-container\">\n",
              "    <div>\n",
              "<style scoped>\n",
              "    .dataframe tbody tr th:only-of-type {\n",
              "        vertical-align: middle;\n",
              "    }\n",
              "\n",
              "    .dataframe tbody tr th {\n",
              "        vertical-align: top;\n",
              "    }\n",
              "\n",
              "    .dataframe thead th {\n",
              "        text-align: right;\n",
              "    }\n",
              "</style>\n",
              "<table border=\"1\" class=\"dataframe\">\n",
              "  <thead>\n",
              "    <tr style=\"text-align: right;\">\n",
              "      <th></th>\n",
              "      <th>企業ID</th>\n",
              "      <th>企業名</th>\n",
              "      <th>従業員数</th>\n",
              "      <th>業界</th>\n",
              "      <th>上場種別</th>\n",
              "      <th>特徴</th>\n",
              "      <th>企業概要</th>\n",
              "      <th>組織図</th>\n",
              "      <th>事業所数</th>\n",
              "      <th>工場数</th>\n",
              "      <th>店舗数</th>\n",
              "      <th>資本金</th>\n",
              "      <th>総資産</th>\n",
              "      <th>流動資産</th>\n",
              "      <th>固定資産</th>\n",
              "      <th>負債</th>\n",
              "      <th>短期借入金</th>\n",
              "      <th>長期借入金</th>\n",
              "      <th>純資産</th>\n",
              "      <th>自己資本</th>\n",
              "      <th>売上</th>\n",
              "      <th>営業利益</th>\n",
              "      <th>経常利益</th>\n",
              "      <th>当期純利益</th>\n",
              "      <th>営業CF</th>\n",
              "      <th>減価償却費</th>\n",
              "      <th>運転資本変動</th>\n",
              "      <th>投資CF</th>\n",
              "      <th>有形固定資産変動</th>\n",
              "      <th>無形固定資産変動(ソフトウェア関連)</th>\n",
              "      <th>アンケート１</th>\n",
              "      <th>アンケート２</th>\n",
              "      <th>アンケート３</th>\n",
              "      <th>アンケート４</th>\n",
              "      <th>アンケート５</th>\n",
              "      <th>アンケート６</th>\n",
              "      <th>アンケート７</th>\n",
              "      <th>アンケート８</th>\n",
              "      <th>アンケート９</th>\n",
              "      <th>アンケート１０</th>\n",
              "      <th>アンケート１１</th>\n",
              "      <th>今後のDX展望</th>\n",
              "      <th>購入フラグ</th>\n",
              "    </tr>\n",
              "  </thead>\n",
              "  <tbody>\n",
              "    <tr>\n",
              "      <th>0</th>\n",
              "      <td>0</td>\n",
              "      <td>株式会社クロマファクトリー</td>\n",
              "      <td>4539</td>\n",
              "      <td>化学</td>\n",
              "      <td>PR</td>\n",
              "      <td>BtoB</td>\n",
              "      <td>【会社概要】\\n\\n当社は、化学業界に属し、先進の技術と豊富な実績を背景に、国内外のお客様に...</td>\n",
              "      <td>【経営層】\\n├─ 代表取締役社長\\n├─ 取締役副社長\\n└─ 取締役\\n\\n【管理本部】...</td>\n",
              "      <td>2.0</td>\n",
              "      <td>10.0</td>\n",
              "      <td>1.0</td>\n",
              "      <td>98364.0</td>\n",
              "      <td>1248827</td>\n",
              "      <td>561053</td>\n",
              "      <td>687774</td>\n",
              "      <td>823447</td>\n",
              "      <td>27116</td>\n",
              "      <td>280605</td>\n",
              "      <td>425380</td>\n",
              "      <td>410697</td>\n",
              "      <td>1093796</td>\n",
              "      <td>45744.0</td>\n",
              "      <td>38858.0</td>\n",
              "      <td>21787</td>\n",
              "      <td>37518</td>\n",
              "      <td>5000</td>\n",
              "      <td>-3000</td>\n",
              "      <td>-30498</td>\n",
              "      <td>-20000</td>\n",
              "      <td>-9498</td>\n",
              "      <td>1</td>\n",
              "      <td>2</td>\n",
              "      <td>1</td>\n",
              "      <td>1</td>\n",
              "      <td>5</td>\n",
              "      <td>2</td>\n",
              "      <td>NaN</td>\n",
              "      <td>3</td>\n",
              "      <td>4</td>\n",
              "      <td>1</td>\n",
              "      <td>1</td>\n",
              "      <td>弊社は、既存事業基盤を支える先端技術と品質管理体制をさらに磨くため、DX投資を持続可能かつ実...</td>\n",
              "      <td>0</td>\n",
              "    </tr>\n",
              "    <tr>\n",
              "      <th>1</th>\n",
              "      <td>1</td>\n",
              "      <td>星浪ホールディングス株式会社</td>\n",
              "      <td>792</td>\n",
              "      <td>運輸・物流</td>\n",
              "      <td>PR</td>\n",
              "      <td>BtoB</td>\n",
              "      <td>当社は運輸・物流業界に属し、792名の従業員と共に、バスや鉄道輸送、物流・海運、不動産・百貨...</td>\n",
              "      <td>経営層\\n├─ 経営管理部\\n│   ├─ 経営企画室\\n│   └─ 財務・人事部\\n├─...</td>\n",
              "      <td>2.0</td>\n",
              "      <td>NaN</td>\n",
              "      <td>NaN</td>\n",
              "      <td>128400.0</td>\n",
              "      <td>2491660</td>\n",
              "      <td>1024551</td>\n",
              "      <td>1467109</td>\n",
              "      <td>1896755</td>\n",
              "      <td>234541</td>\n",
              "      <td>643605</td>\n",
              "      <td>594905</td>\n",
              "      <td>532729</td>\n",
              "      <td>1671940</td>\n",
              "      <td>88878.0</td>\n",
              "      <td>87169.0</td>\n",
              "      <td>49079</td>\n",
              "      <td>97506</td>\n",
              "      <td>25000</td>\n",
              "      <td>-5000</td>\n",
              "      <td>-52261</td>\n",
              "      <td>-30000</td>\n",
              "      <td>-12261</td>\n",
              "      <td>2</td>\n",
              "      <td>2</td>\n",
              "      <td>1</td>\n",
              "      <td>3</td>\n",
              "      <td>4</td>\n",
              "      <td>1</td>\n",
              "      <td>5.0</td>\n",
              "      <td>4</td>\n",
              "      <td>1</td>\n",
              "      <td>2</td>\n",
              "      <td>1</td>\n",
              "      <td>当グループは運輸・物流、不動産・小売、ホテル・文化事業など幅広い事業を抱えるものの、これまで...</td>\n",
              "      <td>0</td>\n",
              "    </tr>\n",
              "    <tr>\n",
              "      <th>2</th>\n",
              "      <td>2</td>\n",
              "      <td>株式会社クネットリンク</td>\n",
              "      <td>4346</td>\n",
              "      <td>建設・工事</td>\n",
              "      <td>PR</td>\n",
              "      <td>BtoB</td>\n",
              "      <td>2010年に3社の経営統合により持株会社として設立され、業界3位を誇る電気通信工事会社です。...</td>\n",
              "      <td>経営層\\n├─ 経営企画室\\n├─ 管理本部\\n│ ├─ 人事部\\n│ ├─ 財務部\\n│ ...</td>\n",
              "      <td>24.0</td>\n",
              "      <td>NaN</td>\n",
              "      <td>NaN</td>\n",
              "      <td>7143.0</td>\n",
              "      <td>530553</td>\n",
              "      <td>204244</td>\n",
              "      <td>326309</td>\n",
              "      <td>266992</td>\n",
              "      <td>76948</td>\n",
              "      <td>31778</td>\n",
              "      <td>263561</td>\n",
              "      <td>255665</td>\n",
              "      <td>527829</td>\n",
              "      <td>18322.0</td>\n",
              "      <td>19009.0</td>\n",
              "      <td>12775</td>\n",
              "      <td>22154</td>\n",
              "      <td>4000</td>\n",
              "      <td>-500</td>\n",
              "      <td>-38775</td>\n",
              "      <td>-20000</td>\n",
              "      <td>-13775</td>\n",
              "      <td>4</td>\n",
              "      <td>5</td>\n",
              "      <td>1</td>\n",
              "      <td>2</td>\n",
              "      <td>1</td>\n",
              "      <td>1</td>\n",
              "      <td>4.0</td>\n",
              "      <td>4</td>\n",
              "      <td>1</td>\n",
              "      <td>1</td>\n",
              "      <td>2</td>\n",
              "      <td>弊社はこれまで、社内DX導入において業界屈指の前のめり姿勢を貫き、AI・IoT・クラウドなど...</td>\n",
              "      <td>0</td>\n",
              "    </tr>\n",
              "    <tr>\n",
              "      <th>3</th>\n",
              "      <td>3</td>\n",
              "      <td>株式会社プリントスフィア</td>\n",
              "      <td>2011</td>\n",
              "      <td>機械</td>\n",
              "      <td>PR</td>\n",
              "      <td>BtoB</td>\n",
              "      <td>【企業概要】\\n当社は、従業員数2,011名を有し、機械業界に属するグローバル企業として、製...</td>\n",
              "      <td>【企業組織図】\\n\\n■ 経営層\\n　├─ 経営企画部\\n　├─ 自動認識ソリューション事業...</td>\n",
              "      <td>1.0</td>\n",
              "      <td>NaN</td>\n",
              "      <td>NaN</td>\n",
              "      <td>8510.0</td>\n",
              "      <td>134188</td>\n",
              "      <td>63854</td>\n",
              "      <td>70334</td>\n",
              "      <td>59174</td>\n",
              "      <td>3821</td>\n",
              "      <td>8465</td>\n",
              "      <td>75014</td>\n",
              "      <td>72338</td>\n",
              "      <td>146495</td>\n",
              "      <td>10574.0</td>\n",
              "      <td>9184.0</td>\n",
              "      <td>3663</td>\n",
              "      <td>7735</td>\n",
              "      <td>2000</td>\n",
              "      <td>300</td>\n",
              "      <td>-3550</td>\n",
              "      <td>-1000</td>\n",
              "      <td>-2350</td>\n",
              "      <td>1</td>\n",
              "      <td>4</td>\n",
              "      <td>5</td>\n",
              "      <td>5</td>\n",
              "      <td>1</td>\n",
              "      <td>2</td>\n",
              "      <td>NaN</td>\n",
              "      <td>1</td>\n",
              "      <td>2</td>\n",
              "      <td>3</td>\n",
              "      <td>4</td>\n",
              "      <td>当社はこれまで、クラウド、AI、IoT などを活用した製造プロセス・サプライチェーンの効率化...</td>\n",
              "      <td>0</td>\n",
              "    </tr>\n",
              "    <tr>\n",
              "      <th>4</th>\n",
              "      <td>4</td>\n",
              "      <td>株式会社悠薫薬品</td>\n",
              "      <td>1488</td>\n",
              "      <td>医療・福祉</td>\n",
              "      <td>PR</td>\n",
              "      <td>BtoB</td>\n",
              "      <td>従業員数：1488人\\n業界：医療・福祉業界\\n\\n事業内容：\\n当社は、先発医薬品としての...</td>\n",
              "      <td>────────────────────────────\\n【経営層】\\n　├─ 代表取締役...</td>\n",
              "      <td>58.0</td>\n",
              "      <td>2.0</td>\n",
              "      <td>NaN</td>\n",
              "      <td>715.0</td>\n",
              "      <td>181341</td>\n",
              "      <td>111646</td>\n",
              "      <td>69695</td>\n",
              "      <td>47454</td>\n",
              "      <td>10255</td>\n",
              "      <td>447</td>\n",
              "      <td>133887</td>\n",
              "      <td>133372</td>\n",
              "      <td>122831</td>\n",
              "      <td>6112.0</td>\n",
              "      <td>6907.0</td>\n",
              "      <td>5563</td>\n",
              "      <td>8959</td>\n",
              "      <td>500</td>\n",
              "      <td>-300</td>\n",
              "      <td>-3848</td>\n",
              "      <td>-1000</td>\n",
              "      <td>-2848</td>\n",
              "      <td>4</td>\n",
              "      <td>3</td>\n",
              "      <td>5</td>\n",
              "      <td>5</td>\n",
              "      <td>3</td>\n",
              "      <td>1</td>\n",
              "      <td>5.0</td>\n",
              "      <td>2</td>\n",
              "      <td>3</td>\n",
              "      <td>5</td>\n",
              "      <td>4</td>\n",
              "      <td>弊社はこれまで、クラウド、AI、IoT などを計画的に導入し、業務効率化や製品開発の高度化に...</td>\n",
              "      <td>0</td>\n",
              "    </tr>\n",
              "  </tbody>\n",
              "</table>\n",
              "</div>\n",
              "    <div class=\"colab-df-buttons\">\n",
              "\n",
              "  <div class=\"colab-df-container\">\n",
              "    <button class=\"colab-df-convert\" onclick=\"convertToInteractive('df-8adcbc92-4197-4eb1-9b19-4a3f9735b005')\"\n",
              "            title=\"Convert this dataframe to an interactive table.\"\n",
              "            style=\"display:none;\">\n",
              "\n",
              "  <svg xmlns=\"http://www.w3.org/2000/svg\" height=\"24px\" viewBox=\"0 -960 960 960\">\n",
              "    <path d=\"M120-120v-720h720v720H120Zm60-500h600v-160H180v160Zm220 220h160v-160H400v160Zm0 220h160v-160H400v160ZM180-400h160v-160H180v160Zm440 0h160v-160H620v160ZM180-180h160v-160H180v160Zm440 0h160v-160H620v160Z\"/>\n",
              "  </svg>\n",
              "    </button>\n",
              "\n",
              "  <style>\n",
              "    .colab-df-container {\n",
              "      display:flex;\n",
              "      gap: 12px;\n",
              "    }\n",
              "\n",
              "    .colab-df-convert {\n",
              "      background-color: #E8F0FE;\n",
              "      border: none;\n",
              "      border-radius: 50%;\n",
              "      cursor: pointer;\n",
              "      display: none;\n",
              "      fill: #1967D2;\n",
              "      height: 32px;\n",
              "      padding: 0 0 0 0;\n",
              "      width: 32px;\n",
              "    }\n",
              "\n",
              "    .colab-df-convert:hover {\n",
              "      background-color: #E2EBFA;\n",
              "      box-shadow: 0px 1px 2px rgba(60, 64, 67, 0.3), 0px 1px 3px 1px rgba(60, 64, 67, 0.15);\n",
              "      fill: #174EA6;\n",
              "    }\n",
              "\n",
              "    .colab-df-buttons div {\n",
              "      margin-bottom: 4px;\n",
              "    }\n",
              "\n",
              "    [theme=dark] .colab-df-convert {\n",
              "      background-color: #3B4455;\n",
              "      fill: #D2E3FC;\n",
              "    }\n",
              "\n",
              "    [theme=dark] .colab-df-convert:hover {\n",
              "      background-color: #434B5C;\n",
              "      box-shadow: 0px 1px 3px 1px rgba(0, 0, 0, 0.15);\n",
              "      filter: drop-shadow(0px 1px 2px rgba(0, 0, 0, 0.3));\n",
              "      fill: #FFFFFF;\n",
              "    }\n",
              "  </style>\n",
              "\n",
              "    <script>\n",
              "      const buttonEl =\n",
              "        document.querySelector('#df-8adcbc92-4197-4eb1-9b19-4a3f9735b005 button.colab-df-convert');\n",
              "      buttonEl.style.display =\n",
              "        google.colab.kernel.accessAllowed ? 'block' : 'none';\n",
              "\n",
              "      async function convertToInteractive(key) {\n",
              "        const element = document.querySelector('#df-8adcbc92-4197-4eb1-9b19-4a3f9735b005');\n",
              "        const dataTable =\n",
              "          await google.colab.kernel.invokeFunction('convertToInteractive',\n",
              "                                                    [key], {});\n",
              "        if (!dataTable) return;\n",
              "\n",
              "        const docLinkHtml = 'Like what you see? Visit the ' +\n",
              "          '<a target=\"_blank\" href=https://colab.research.google.com/notebooks/data_table.ipynb>data table notebook</a>'\n",
              "          + ' to learn more about interactive tables.';\n",
              "        element.innerHTML = '';\n",
              "        dataTable['output_type'] = 'display_data';\n",
              "        await google.colab.output.renderOutput(dataTable, element);\n",
              "        const docLink = document.createElement('div');\n",
              "        docLink.innerHTML = docLinkHtml;\n",
              "        element.appendChild(docLink);\n",
              "      }\n",
              "    </script>\n",
              "  </div>\n",
              "\n",
              "\n",
              "    <div id=\"df-b5adbff8-28d9-48eb-a699-b94ca5cb8dbb\">\n",
              "      <button class=\"colab-df-quickchart\" onclick=\"quickchart('df-b5adbff8-28d9-48eb-a699-b94ca5cb8dbb')\"\n",
              "                title=\"Suggest charts\"\n",
              "                style=\"display:none;\">\n",
              "\n",
              "<svg xmlns=\"http://www.w3.org/2000/svg\" height=\"24px\"viewBox=\"0 0 24 24\"\n",
              "     width=\"24px\">\n",
              "    <g>\n",
              "        <path d=\"M19 3H5c-1.1 0-2 .9-2 2v14c0 1.1.9 2 2 2h14c1.1 0 2-.9 2-2V5c0-1.1-.9-2-2-2zM9 17H7v-7h2v7zm4 0h-2V7h2v10zm4 0h-2v-4h2v4z\"/>\n",
              "    </g>\n",
              "</svg>\n",
              "      </button>\n",
              "\n",
              "<style>\n",
              "  .colab-df-quickchart {\n",
              "      --bg-color: #E8F0FE;\n",
              "      --fill-color: #1967D2;\n",
              "      --hover-bg-color: #E2EBFA;\n",
              "      --hover-fill-color: #174EA6;\n",
              "      --disabled-fill-color: #AAA;\n",
              "      --disabled-bg-color: #DDD;\n",
              "  }\n",
              "\n",
              "  [theme=dark] .colab-df-quickchart {\n",
              "      --bg-color: #3B4455;\n",
              "      --fill-color: #D2E3FC;\n",
              "      --hover-bg-color: #434B5C;\n",
              "      --hover-fill-color: #FFFFFF;\n",
              "      --disabled-bg-color: #3B4455;\n",
              "      --disabled-fill-color: #666;\n",
              "  }\n",
              "\n",
              "  .colab-df-quickchart {\n",
              "    background-color: var(--bg-color);\n",
              "    border: none;\n",
              "    border-radius: 50%;\n",
              "    cursor: pointer;\n",
              "    display: none;\n",
              "    fill: var(--fill-color);\n",
              "    height: 32px;\n",
              "    padding: 0;\n",
              "    width: 32px;\n",
              "  }\n",
              "\n",
              "  .colab-df-quickchart:hover {\n",
              "    background-color: var(--hover-bg-color);\n",
              "    box-shadow: 0 1px 2px rgba(60, 64, 67, 0.3), 0 1px 3px 1px rgba(60, 64, 67, 0.15);\n",
              "    fill: var(--button-hover-fill-color);\n",
              "  }\n",
              "\n",
              "  .colab-df-quickchart-complete:disabled,\n",
              "  .colab-df-quickchart-complete:disabled:hover {\n",
              "    background-color: var(--disabled-bg-color);\n",
              "    fill: var(--disabled-fill-color);\n",
              "    box-shadow: none;\n",
              "  }\n",
              "\n",
              "  .colab-df-spinner {\n",
              "    border: 2px solid var(--fill-color);\n",
              "    border-color: transparent;\n",
              "    border-bottom-color: var(--fill-color);\n",
              "    animation:\n",
              "      spin 1s steps(1) infinite;\n",
              "  }\n",
              "\n",
              "  @keyframes spin {\n",
              "    0% {\n",
              "      border-color: transparent;\n",
              "      border-bottom-color: var(--fill-color);\n",
              "      border-left-color: var(--fill-color);\n",
              "    }\n",
              "    20% {\n",
              "      border-color: transparent;\n",
              "      border-left-color: var(--fill-color);\n",
              "      border-top-color: var(--fill-color);\n",
              "    }\n",
              "    30% {\n",
              "      border-color: transparent;\n",
              "      border-left-color: var(--fill-color);\n",
              "      border-top-color: var(--fill-color);\n",
              "      border-right-color: var(--fill-color);\n",
              "    }\n",
              "    40% {\n",
              "      border-color: transparent;\n",
              "      border-right-color: var(--fill-color);\n",
              "      border-top-color: var(--fill-color);\n",
              "    }\n",
              "    60% {\n",
              "      border-color: transparent;\n",
              "      border-right-color: var(--fill-color);\n",
              "    }\n",
              "    80% {\n",
              "      border-color: transparent;\n",
              "      border-right-color: var(--fill-color);\n",
              "      border-bottom-color: var(--fill-color);\n",
              "    }\n",
              "    90% {\n",
              "      border-color: transparent;\n",
              "      border-bottom-color: var(--fill-color);\n",
              "    }\n",
              "  }\n",
              "</style>\n",
              "\n",
              "      <script>\n",
              "        async function quickchart(key) {\n",
              "          const quickchartButtonEl =\n",
              "            document.querySelector('#' + key + ' button');\n",
              "          quickchartButtonEl.disabled = true;  // To prevent multiple clicks.\n",
              "          quickchartButtonEl.classList.add('colab-df-spinner');\n",
              "          try {\n",
              "            const charts = await google.colab.kernel.invokeFunction(\n",
              "                'suggestCharts', [key], {});\n",
              "          } catch (error) {\n",
              "            console.error('Error during call to suggestCharts:', error);\n",
              "          }\n",
              "          quickchartButtonEl.classList.remove('colab-df-spinner');\n",
              "          quickchartButtonEl.classList.add('colab-df-quickchart-complete');\n",
              "        }\n",
              "        (() => {\n",
              "          let quickchartButtonEl =\n",
              "            document.querySelector('#df-b5adbff8-28d9-48eb-a699-b94ca5cb8dbb button');\n",
              "          quickchartButtonEl.style.display =\n",
              "            google.colab.kernel.accessAllowed ? 'block' : 'none';\n",
              "        })();\n",
              "      </script>\n",
              "    </div>\n",
              "\n",
              "    </div>\n",
              "  </div>\n"
            ],
            "application/vnd.google.colaboratory.intrinsic+json": {
              "type": "dataframe",
              "variable_name": "train"
            }
          },
          "metadata": {},
          "execution_count": 10
        }
      ]
    },
    {
      "cell_type": "markdown",
      "source": [
        "すべての列を表示させることができました。<br>\n",
        "```pd.set_option('display.max_rows', 100)```\n",
        "を設定すれば表示させる行数の最大数を100に増やすことができます。"
      ],
      "metadata": {
        "id": "khwUNSIJgJPJ"
      }
    },
    {
      "cell_type": "markdown",
      "source": [
        "次にデータサイズを確認します。"
      ],
      "metadata": {
        "id": "p_YankmLjitF"
      }
    },
    {
      "cell_type": "code",
      "source": [
        "# 学習データと評価データのサイズを確認\n",
        "print(train.shape, test.shape)"
      ],
      "metadata": {
        "id": "NImjRobOji_A",
        "colab": {
          "base_uri": "https://localhost:8080/"
        },
        "outputId": "8323e3ec-1fb6-4335-dc21-43d56e634ba3"
      },
      "execution_count": 11,
      "outputs": [
        {
          "output_type": "stream",
          "name": "stdout",
          "text": [
            "(742, 43) (800, 42)\n"
          ]
        }
      ]
    },
    {
      "cell_type": "markdown",
      "source": [
        "データ数はそれほど多くなく、エクセルでも展開できそうなデータ量です。"
      ],
      "metadata": {
        "id": "0upVfMpbjpGy"
      }
    },
    {
      "cell_type": "markdown",
      "source": [
        "これからデータで気になる点を見ていきたいと思います。<br>\n",
        "```\n",
        "1. データ型がどうなっているか、欠損値はあるか\n",
        "2. テキストデータはどのような構造になっているか\n",
        "```"
      ],
      "metadata": {
        "id": "0oDRTeSOiyJ7"
      }
    },
    {
      "cell_type": "markdown",
      "source": [
        "### 1.データの型はどうなっているか、欠損値はあるか"
      ],
      "metadata": {
        "id": "ffwOc6MblAWH"
      }
    },
    {
      "cell_type": "code",
      "source": [
        "train.info()"
      ],
      "metadata": {
        "id": "KwqaxFX1k8IZ",
        "colab": {
          "base_uri": "https://localhost:8080/"
        },
        "outputId": "6ca4a552-27d3-450c-84ff-91c374a35fd9"
      },
      "execution_count": 12,
      "outputs": [
        {
          "output_type": "stream",
          "name": "stdout",
          "text": [
            "<class 'pandas.core.frame.DataFrame'>\n",
            "RangeIndex: 742 entries, 0 to 741\n",
            "Data columns (total 43 columns):\n",
            " #   Column              Non-Null Count  Dtype  \n",
            "---  ------              --------------  -----  \n",
            " 0   企業ID                742 non-null    int64  \n",
            " 1   企業名                 742 non-null    object \n",
            " 2   従業員数                742 non-null    int64  \n",
            " 3   業界                  742 non-null    object \n",
            " 4   上場種別                742 non-null    object \n",
            " 5   特徴                  740 non-null    object \n",
            " 6   企業概要                742 non-null    object \n",
            " 7   組織図                 742 non-null    object \n",
            " 8   事業所数                726 non-null    float64\n",
            " 9   工場数                 339 non-null    float64\n",
            " 10  店舗数                 139 non-null    float64\n",
            " 11  資本金                 736 non-null    float64\n",
            " 12  総資産                 742 non-null    int64  \n",
            " 13  流動資産                742 non-null    int64  \n",
            " 14  固定資産                742 non-null    int64  \n",
            " 15  負債                  742 non-null    int64  \n",
            " 16  短期借入金               742 non-null    int64  \n",
            " 17  長期借入金               742 non-null    int64  \n",
            " 18  純資産                 742 non-null    int64  \n",
            " 19  自己資本                742 non-null    int64  \n",
            " 20  売上                  742 non-null    int64  \n",
            " 21  営業利益                699 non-null    float64\n",
            " 22  経常利益                659 non-null    float64\n",
            " 23  当期純利益               742 non-null    int64  \n",
            " 24  営業CF                742 non-null    int64  \n",
            " 25  減価償却費               742 non-null    int64  \n",
            " 26  運転資本変動              742 non-null    int64  \n",
            " 27  投資CF                742 non-null    int64  \n",
            " 28  有形固定資産変動            742 non-null    int64  \n",
            " 29  無形固定資産変動(ソフトウェア関連)  742 non-null    int64  \n",
            " 30  アンケート１              742 non-null    int64  \n",
            " 31  アンケート２              742 non-null    int64  \n",
            " 32  アンケート３              742 non-null    int64  \n",
            " 33  アンケート４              742 non-null    int64  \n",
            " 34  アンケート５              742 non-null    int64  \n",
            " 35  アンケート６              742 non-null    int64  \n",
            " 36  アンケート７              386 non-null    float64\n",
            " 37  アンケート８              742 non-null    int64  \n",
            " 38  アンケート９              742 non-null    int64  \n",
            " 39  アンケート１０             742 non-null    int64  \n",
            " 40  アンケート１１             742 non-null    int64  \n",
            " 41  今後のDX展望             742 non-null    object \n",
            " 42  購入フラグ               742 non-null    int64  \n",
            "dtypes: float64(7), int64(29), object(7)\n",
            "memory usage: 249.4+ KB\n"
          ]
        }
      ]
    },
    {
      "cell_type": "code",
      "source": [
        "test.info()"
      ],
      "metadata": {
        "colab": {
          "base_uri": "https://localhost:8080/"
        },
        "id": "s0IQm_vvs56c",
        "outputId": "fae408b3-ce6a-4d38-8d12-b36e983f1e6d"
      },
      "execution_count": 13,
      "outputs": [
        {
          "output_type": "stream",
          "name": "stdout",
          "text": [
            "<class 'pandas.core.frame.DataFrame'>\n",
            "RangeIndex: 800 entries, 0 to 799\n",
            "Data columns (total 42 columns):\n",
            " #   Column              Non-Null Count  Dtype  \n",
            "---  ------              --------------  -----  \n",
            " 0   企業ID                800 non-null    int64  \n",
            " 1   企業名                 800 non-null    object \n",
            " 2   従業員数                800 non-null    int64  \n",
            " 3   業界                  800 non-null    object \n",
            " 4   上場種別                800 non-null    object \n",
            " 5   特徴                  797 non-null    object \n",
            " 6   企業概要                800 non-null    object \n",
            " 7   組織図                 800 non-null    object \n",
            " 8   事業所数                781 non-null    float64\n",
            " 9   工場数                 391 non-null    float64\n",
            " 10  店舗数                 136 non-null    float64\n",
            " 11  資本金                 798 non-null    float64\n",
            " 12  総資産                 800 non-null    int64  \n",
            " 13  流動資産                800 non-null    int64  \n",
            " 14  固定資産                800 non-null    int64  \n",
            " 15  負債                  800 non-null    int64  \n",
            " 16  短期借入金               800 non-null    int64  \n",
            " 17  長期借入金               800 non-null    int64  \n",
            " 18  純資産                 800 non-null    int64  \n",
            " 19  自己資本                800 non-null    int64  \n",
            " 20  売上                  800 non-null    int64  \n",
            " 21  営業利益                756 non-null    float64\n",
            " 22  経常利益                716 non-null    float64\n",
            " 23  当期純利益               800 non-null    int64  \n",
            " 24  営業CF                800 non-null    int64  \n",
            " 25  減価償却費               800 non-null    int64  \n",
            " 26  運転資本変動              800 non-null    int64  \n",
            " 27  投資CF                800 non-null    int64  \n",
            " 28  有形固定資産変動            800 non-null    int64  \n",
            " 29  無形固定資産変動(ソフトウェア関連)  800 non-null    int64  \n",
            " 30  アンケート１              800 non-null    int64  \n",
            " 31  アンケート２              800 non-null    int64  \n",
            " 32  アンケート３              800 non-null    int64  \n",
            " 33  アンケート４              800 non-null    int64  \n",
            " 34  アンケート５              800 non-null    int64  \n",
            " 35  アンケート６              800 non-null    int64  \n",
            " 36  アンケート７              401 non-null    float64\n",
            " 37  アンケート８              800 non-null    int64  \n",
            " 38  アンケート９              800 non-null    int64  \n",
            " 39  アンケート１０             800 non-null    int64  \n",
            " 40  アンケート１１             800 non-null    int64  \n",
            " 41  今後のDX展望             800 non-null    object \n",
            "dtypes: float64(7), int64(28), object(7)\n",
            "memory usage: 262.6+ KB\n"
          ]
        }
      ]
    },
    {
      "cell_type": "markdown",
      "source": [
        "財務データとアンケートは基本数値、会社概要や組織図等の会社情報に関してはobjectであり、テキストデータとなっている。<br>\n",
        "欠損値は一部の特徴量で確認できる。（工場数、店舗数、資本金、営業利益、経常利益、アンケート7）これらをモデルに組み込む際には適切に処理する必要があることを把握しておきましょう。"
      ],
      "metadata": {
        "id": "a5gwijdWrtWt"
      }
    },
    {
      "cell_type": "markdown",
      "source": [
        "### 2.テキストデータはどのような構造になっているか"
      ],
      "metadata": {
        "id": "1-EmxCLYmRMQ"
      }
    },
    {
      "cell_type": "markdown",
      "source": [
        "一部のカラムに上記の```train.head()```では確認しにくい文字列があるため、それぞれどのような構造になっているかをいくつかサンプルを取って確認したいと思います。<br>\n",
        "具体的には会社概要、組織図、今後のDX展望の3つのカラムのサンプルを確認していきます。"
      ],
      "metadata": {
        "id": "a4hGHatjgtTB"
      }
    },
    {
      "cell_type": "markdown",
      "source": [
        "「会社概要」を数サンプル出力してみましょう"
      ],
      "metadata": {
        "id": "WP3PMc91HKtT"
      }
    },
    {
      "cell_type": "code",
      "source": [
        "print(train.loc[0, \"企業名\"])\n",
        "print(train.loc[0, \"企業概要\"])\n",
        "print(\"----------------------------\")\n",
        "print(train.loc[1, \"企業名\"])\n",
        "print(train.loc[1, \"企業概要\"])\n",
        "print(\"----------------------------\")\n",
        "print(train.loc[2, \"企業名\"])\n",
        "print(train.loc[2, \"企業概要\"])"
      ],
      "metadata": {
        "id": "Oga1hrEHgDI7",
        "colab": {
          "base_uri": "https://localhost:8080/"
        },
        "outputId": "b3fabcf8-c1e4-44ba-de53-59f572ee0106"
      },
      "execution_count": 14,
      "outputs": [
        {
          "output_type": "stream",
          "name": "stdout",
          "text": [
            "株式会社クロマファクトリー\n",
            "【会社概要】\n",
            "\n",
            "当社は、化学業界に属し、先進の技術と豊富な実績を背景に、国内外のお客様に高品質な製品とソリューションを提供しています。従業員数は4,539名を超え、専門性の高い技術者と経験豊富なスタッフが連携し、確かな品質管理と迅速な対応で業界をリードしています。\n",
            "\n",
            "＜事業内容＞\n",
            "当社は、次の各分野において製造・販売事業を展開しております。\n",
            "\n",
            "1. インキ事業：\n",
            "　・食品などの各種パッケージ用インキ\n",
            "　・オフセット用インキおよび新聞用インキ\n",
            "　　― 高い発色性と耐候性を実現するインキ類を、最新の技術で開発・製造し、信頼性の高い印刷ソリューションをお届けしています。\n",
            "\n",
            "2. 包装用接着剤・樹脂事業：\n",
            "　・包装用接着剤およびポリスチレンの製造・販売\n",
            "\t・コーティング用樹脂、アクリル樹脂、エポキシ樹脂などの製造・販売\n",
            "　　― 多様なお客様のニーズに応じた製品ラインナップを展開し、加工性や耐久性を追求した素材の開発に注力しています。\n",
            "\n",
            "3. 顔料・特殊材料事業：\n",
            "　・有機顔料、ディスプレイ用顔料、化粧品用顔料\n",
            "　・インクジェット用顔料、液晶材料など各種特殊材料\n",
            "　　― 精密な色調整と鮮やかな発色を実現する顔料類をはじめ、先端技術を駆使した材料の研究開発を進め、お客様の幅広い用途に対応しております。\n",
            "\n",
            "これらの事業領域において、当社は技術革新と品質改善を最優先に据え、グローバルな視点で市場の変化に柔軟に対応し続けています。また、環境負荷の低減や安全性の向上にも積極的に取り組むことで、持続可能な社会の実現に寄与しております。\n",
            "----------------------------\n",
            "星浪ホールディングス株式会社\n",
            "当社は運輸・物流業界に属し、792名の従業員と共に、バスや鉄道輸送、物流・海運、不動産・百貨店販売を基盤とし、ホテル・文化事業にも注力するグループ企業です。\n",
            "----------------------------\n",
            "株式会社クネットリンク\n",
            "2010年に3社の経営統合により持株会社として設立され、業界3位を誇る電気通信工事会社です。従業員数は4,346名を超え、建設・工事業界に属し、大手通信事業者をはじめ各種通信会社向けの通信設備建設・保守事業を中心に事業を展開しています。太陽光設備工事およびデータセンターの保守も主要なサービスのひとつであり、さらに屋内外の基地局建設や回線工事、一般土木や下水道工事等、社会インフラに関わる建設業務にも注力しています。\n"
          ]
        }
      ]
    },
    {
      "cell_type": "markdown",
      "source": [
        "企業の事業内容が少し細かく書かれています。企業によってフォーマットや内容の充実度などは大きく異なっている印象です。"
      ],
      "metadata": {
        "id": "rVcDiC_Wx7CG"
      }
    },
    {
      "cell_type": "markdown",
      "source": [
        "次に「組織図」を数サンプル出力してみましょう"
      ],
      "metadata": {
        "id": "mNNouSw-HRTe"
      }
    },
    {
      "cell_type": "code",
      "source": [
        "print(train.loc[0, \"企業名\"])\n",
        "print(train.loc[0, \"組織図\"])\n",
        "print(\"----------------------------\")\n",
        "print(train.loc[1, \"企業名\"])\n",
        "print(train.loc[1, \"組織図\"])\n",
        "print(\"----------------------------\")\n",
        "print(train.loc[2, \"企業名\"])\n",
        "print(train.loc[2, \"組織図\"])"
      ],
      "metadata": {
        "id": "XDgIjpcqhDVs",
        "colab": {
          "base_uri": "https://localhost:8080/"
        },
        "outputId": "b16aacbe-7787-4d27-9638-0d476a182faa"
      },
      "execution_count": 15,
      "outputs": [
        {
          "output_type": "stream",
          "name": "stdout",
          "text": [
            "株式会社クロマファクトリー\n",
            "【経営層】\n",
            "├─ 代表取締役社長\n",
            "├─ 取締役副社長\n",
            "└─ 取締役\n",
            "\n",
            "【管理本部】\n",
            "├─ 経営企画部\n",
            "├─ 財務・総務部\n",
            "└─ 人事部\n",
            "\n",
            "【事業本部】\n",
            "├─ インキ事業部\n",
            "│ ├─ 研究開発課\n",
            "│ ├─ 製造課\n",
            "│ └─ 営業課\n",
            "├─ 包装用接着剤事業部\n",
            "│ ├─ 研究開発課\n",
            "│ ├─ 製造課\n",
            "│ └─ 営業課\n",
            "└─ 顔料事業部\n",
            "  ├─ 研究開発課\n",
            "  ├─ 製造課\n",
            "  └─ 営業課\n",
            "\n",
            "【品質管理部】\n",
            "├─ 品質保証課\n",
            "└─ 試験・検査課\n",
            "\n",
            "【技術サポート部】\n",
            "└─ 顧客対応課\n",
            "----------------------------\n",
            "星浪ホールディングス株式会社\n",
            "経営層\n",
            "├─ 経営管理部\n",
            "│   ├─ 経営企画室\n",
            "│   └─ 財務・人事部\n",
            "├─ 輸送事業本部\n",
            "│   ├─ バス輸送部\n",
            "│   └─ 鉄道輸送部\n",
            "├─ 物流・海運事業本部\n",
            "│   ├─ 物流部\n",
            "│   └─ 海運部\n",
            "├─ 不動産・小売事業本部\n",
            "│   ├─ 不動産部\n",
            "│   └─ 百貨店販売部\n",
            "└─ ホテル・文化事業本部\n",
            "    ├─ ホテル運営部\n",
            "    └─ 文化事業部\n",
            "----------------------------\n",
            "株式会社クネットリンク\n",
            "経営層\n",
            "├─ 経営企画室\n",
            "├─ 管理本部\n",
            "│ ├─ 人事部\n",
            "│ ├─ 財務部\n",
            "│ └─ 総務部\n",
            "├─ 営業本部\n",
            "│ ├─ 国内営業部\n",
            "│ └─ 海外営業部\n",
            "├─ 技術本部\n",
            "│ ├─ 設計・開発部\n",
            "│ ├─ 施工管理部\n",
            "│ └─ 新技術開発部\n",
            "└─ 保守・サービス本部\n",
            "  ├─ 保守管理部\n",
            "  └─ 顧客サポート部\n"
          ]
        }
      ]
    },
    {
      "cell_type": "markdown",
      "source": [
        "階層型の組織図になっていることがわかります。"
      ],
      "metadata": {
        "id": "whHUO4sfxteY"
      }
    },
    {
      "cell_type": "markdown",
      "source": [
        "「今後のDX展望」を数サンプル出力してみましょう"
      ],
      "metadata": {
        "id": "Q3kTefgRHWwp"
      }
    },
    {
      "cell_type": "code",
      "source": [
        "print(train.loc[0, \"企業名\"])\n",
        "print(train.loc[0, \"今後のDX展望\"])\n",
        "print(\"----------------------------\")\n",
        "print(train.loc[1, \"企業名\"])\n",
        "print(train.loc[1, \"今後のDX展望\"])\n",
        "print(\"----------------------------\")\n",
        "print(train.loc[2, \"企業名\"])\n",
        "print(train.loc[2, \"今後のDX展望\"])"
      ],
      "metadata": {
        "id": "T4QAXHXchc67",
        "colab": {
          "base_uri": "https://localhost:8080/"
        },
        "outputId": "05682c9d-9318-4945-b6b4-df837d9780d3"
      },
      "execution_count": 16,
      "outputs": [
        {
          "output_type": "stream",
          "name": "stdout",
          "text": [
            "株式会社クロマファクトリー\n",
            "弊社は、既存事業基盤を支える先端技術と品質管理体制をさらに磨くため、DX投資を持続可能かつ実効性重視で進める計画です。これまでの社内DX導入は、サイバーセキュリティ対策や一部部門でのクラウド利用など局所的な取り組みにとどまり、全社レベルでは慎重な姿勢が優勢でした。導入効果の可視化が十分でなかったことや、現場での運用負担への懸念が残っていたことから、推進速度は限定的であり、社内全体で「試しながら学ぶ」段階にあったと言えます。\n",
            "\n",
            "今後は、こうした経験を踏まえ、従来より一歩踏み込んだ形で全社的なデジタルトランスフォーメーションを段階的に拡大してまいります。投資面では、既存基盤の堅牢化を続けつつ、クラウド、AI、IoTなどの先進技術を業務効率化や収益向上が見込める領域へ選択的に投入し、市場変化への対応力を高める方針です。導入案件は小規模なパイロットから開始し、効果検証を経てスケールさせる段階的アプローチを徹底し、過度な先行投資を避けつつ確実な成果につなげます。\n",
            "\n",
            "人的リソース面では、デジタルスキルの底上げに向けた教育投資を拡充します。具体的には、既存のeラーニングに加え、外部講師によるハンズオン型ワークショップや、実務と連動したOJTを順次導入します。ただし、技術導入とのバランスを保ち、現場で「使えるスキル」が着実に定着する範囲で推進する考えです。各事業部門の好事例を共有できる横断的なコミュニティを設置し、現場発の改善提案がスムーズに全社へ広がる仕組みも整備します。\n",
            "\n",
            "さらに、経営企画部と各事業部門が連携し、短期・中期・長期の視点からDX投資ロードマップを策定します。定量指標を用いたモニタリングとPDCAを定期的に実施し、環境変化や事業戦略の見直しに応じて柔軟にアップデートすることで、慎重さと挑戦のバランスが取れた投資体制を構築します。また、外部パートナーやスタートアップとの共創も強化するものの、社内での吸収可能性を見極めながら適切なスピードで進める計画です。\n",
            "\n",
            "総じて、弊社は従来の強みを生かしつつ、技術革新と組織的学習を両輪に、グローバル市場での競争力向上と業務効率化を図り、着実な成長を実現するためのDX推進に邁進してまいります。\n",
            "----------------------------\n",
            "星浪ホールディングス株式会社\n",
            "当グループは運輸・物流、不動産・小売、ホテル・文化事業など幅広い事業を抱えるものの、これまで社内でのDX推進にはきわめて慎重な姿勢を保ってきました。クラウドやAI、IoTといった先端技術の導入は、ごく一部の部門で試験的に実施したに過ぎず、全社レベルでの横展開はほとんど進んでいないのが実情です。部門間データ連携や統合プラットフォームについても、構想段階に留まっており、業務効率やサービス品質向上への寄与度は限定的です。基幹システムは依然としてレガシー環境が中心で、現場業務の多くは紙や電話ベースのプロセスが残り、DXに関する投資比率も社内予算のごくわずかな割合にとどまっています。  \n",
            "\n",
            "しかしながら、将来の競争力維持に向け、従来より一歩進んだDX投資を検討し始めています。運輸・物流ではリアルタイムデータ分析や需要予測、不動産では顧客行動分析、ホテルでは予約・清掃の自動化など、まずは限定的なPOC（概念実証）を複数拠点で走らせ、効果を検証しながら段階的に拡大する方針です。大幅な先行投資を避け、財務リスクを抑制しながら慎重に歩を進める計画であるため、短期間で劇的な成果を求めるのではなく、中長期での浸透を見据えた取り組みとなります。  \n",
            "\n",
            "従業員のデジタルリテラシー向上についても、現在は基礎的なeラーニングや外部セミナー受講が中心で、実務に即した研修は十分ではありません。今後は職種別のOJTや小規模ワークショップを増やし、基礎～応用に段階を分けたカリキュラムを整備する予定ですが、予算・工数の制約から、大規模な社内アカデミーの設置など踏み込んだ施策は当面見送る方向です。  \n",
            "\n",
            "さらに、サイバーセキュリティ対策やガバナンス体制の強化についても、まずは法令・業界基準を満たすレベルの整備を優先し、高度なゼロトラスト環境やAI監査ツールの導入はコスト対効果を見極めながら慎重に判断します。レガシー資産の安定運用を大前提としつつ、段階的にデジタル化領域を広げ、持続可能な成長と新たな顧客価値創造を無理のない範囲で目指す――これが現時点での当グループのDX展望です。\n",
            "----------------------------\n",
            "株式会社クネットリンク\n",
            "弊社はこれまで、社内DX導入において業界屈指の前のめり姿勢を貫き、AI・IoT・クラウドなどの最先端技術を現場へいち早く浸透させてきました。経営層が率先して旗を振り、全社員が連携して学び合う文化を築いた結果、DX教育投資や研修機会の充実度は常に高水準を維持し、実績面でも確かな評価を得ています。しかし私たちはその成果に安住せず、今後はこれまでの歩みを一段と加速させ、「誰よりも早く・深く・広く」デジタル変革を実現する企業になる決意を固めました。  \n",
            "\n",
            "具体的には、既存ツールや商材の活用度をさらに高めるとともに、各現場で醸成されたノウハウをAI解析で可視化し、教育プログラムへ即座に反映する循環型の学習基盤を構築します。これにより従業員は最新技術を従来以上のスピードでキャッチアップし、実務実装までを短期サイクルで完結できるようになります。さらに、有力パートナーやスタートアップとの協働を一層拡大し、社内外の知見を融合させた実証実験を常時走らせることで、全社的なDX推進力を指数関数的に高めてまいります。  \n",
            "\n",
            "通信設備建設、保守、土木工事といった社会インフラ領域においても、デジタル技術導入の先端を走り続けるため、部署横断タスクフォースを新設し、オープンな情報共有と大胆な業務プロセス改革を常態化させます。この体制の下でDX教育は最重要施策として位置づけられ、時間・資金・人材のリソースを惜しみなく投入し続ける方針です。  \n",
            "\n",
            "私たちはこれまで、極めて積極的なDX推進で確固たる土台を築いてきましたが、これからはその土台を離陸台に変え、業界を牽引する革新的モデルを創出する覚悟です。全社員が「変化を生み出す当事者」として、さらに高い熱量でデジタルチャレンジを続け、持続的な企業価値向上と新たな社会インフラの提供に貢献し続けてまいります。\n"
          ]
        }
      ]
    },
    {
      "cell_type": "markdown",
      "source": [
        "「今後のDX展望」はそれぞれどれくらいの文字量があるか確認してみましょう。"
      ],
      "metadata": {
        "id": "VN7UkCX7h0wr"
      }
    },
    {
      "cell_type": "code",
      "source": [
        "print(len(train.loc[0, \"今後のDX展望\"]))\n",
        "print(len(train.loc[1, \"今後のDX展望\"]))\n",
        "print(len(train.loc[2, \"今後のDX展望\"]))"
      ],
      "metadata": {
        "id": "dw4PvvsmhqXl",
        "colab": {
          "base_uri": "https://localhost:8080/"
        },
        "outputId": "1d814f31-163d-4f4c-adb5-b2074f32c859"
      },
      "execution_count": 17,
      "outputs": [
        {
          "output_type": "stream",
          "name": "stdout",
          "text": [
            "928\n",
            "883\n",
            "769\n"
          ]
        }
      ]
    },
    {
      "cell_type": "markdown",
      "source": [
        "1000文字近い文章量があることがわかります。<br>こういったテキスト情報からどう情報を抽出するかも大事な要素になってきそうです。"
      ],
      "metadata": {
        "id": "d0k00Ge3h9Tn"
      }
    },
    {
      "cell_type": "markdown",
      "source": [
        "# 3.データ分析"
      ],
      "metadata": {
        "id": "9vfwJYMgt_Cp"
      }
    },
    {
      "cell_type": "markdown",
      "source": [
        "## 1.データを眺めて仮説を立ててみよう"
      ],
      "metadata": {
        "id": "fOhGxsEWtrbj"
      }
    },
    {
      "cell_type": "markdown",
      "source": [
        "データの種類（特徴量）や構造が分かったところで、次は「どのような特徴を持つ企業が購入に至りやすいか」について、自分なりの**「当たり」をつけてみましょう。**（＝仮説）\n",
        "\n",
        "例えば、以下のような仮説が考えられます。\n",
        "```\n",
        "仮説① 従業員数が多い企業は、業務プロセスの効率化による効果が大きいため、購入確率が高いのではないか？\n",
        "\n",
        "仮説② 利益が大きい企業は、投資する余力があるため、購入確率が高いのではないか？\n",
        "\n",
        "仮説③ アンケートで「抵抗感がない」と回答した企業は、購入確率が高いのではないか？\n",
        "```\n",
        "このように、データやビジネスの知見から導き出す**「仮の答え」が仮説です。**\n",
        "\n",
        "データ分析を行う上で、分析を始める前に仮説を立てることは非常に重要です。最初に仮説を立てることで、主に2つの大きなメリットがあります。\n",
        "\n",
        "一つは、**分析の目星がつくため、効率的に分析を進められること。**そしてもう一つは、表面的な数値の動きに惑わされず、**より本質的な因果関係を探求できること**です。\n",
        "\n",
        "それではこの仮説が正しいのかどうかをデータを使って検証していきましょう。"
      ],
      "metadata": {
        "id": "f-taIbhL7DaT"
      }
    },
    {
      "cell_type": "markdown",
      "source": [
        "## 2.仮説があっているかどうか検証してみよう"
      ],
      "metadata": {
        "id": "ra3ZL6wwKfqb"
      }
    },
    {
      "cell_type": "markdown",
      "source": [
        "### 1.仮説一つ一つを検証してみよう"
      ],
      "metadata": {
        "id": "AmV95QOwKfj1"
      }
    },
    {
      "cell_type": "markdown",
      "source": [
        "\n",
        "#### 「仮説①：従業員数が多い企業は、業務プロセスの効率化による効果が大きいため、購入確率が高いのではないか？」を検証してみよう\n"
      ],
      "metadata": {
        "id": "h8tNGOttQnRV"
      }
    },
    {
      "cell_type": "markdown",
      "source": [
        "まずは従業員数を可視化してみます<br>\n",
        "可視化には、matplotlibを使ってヒストグラムを出してみよう"
      ],
      "metadata": {
        "id": "qGVw41sMUydT"
      }
    },
    {
      "cell_type": "code",
      "source": [
        "plt.hist(train[\"従業員数\"], bins=100, color='skyblue')\n",
        "plt.show()"
      ],
      "metadata": {
        "id": "f6CM_V1TR9bD",
        "colab": {
          "base_uri": "https://localhost:8080/",
          "height": 429
        },
        "outputId": "53c6a85b-1458-464c-906a-16d7740b80bc"
      },
      "execution_count": 18,
      "outputs": [
        {
          "output_type": "display_data",
          "data": {
            "text/plain": [
              "<Figure size 640x480 with 1 Axes>"
            ],
            "image/png": "[encoded data removed]"
          },
          "metadata": {}
        }
      ]
    },
    {
      "cell_type": "markdown",
      "source": [
        "かなり左に寄っていることがわかります。<br>\n",
        "従業員数が大きい企業がいて、10000人以下の傾向が見えにくいので、10000人以下でグラフを作成してみましょう。"
      ],
      "metadata": {
        "id": "5WdTi-oXVfqE"
      }
    },
    {
      "cell_type": "markdown",
      "source": [
        "※先ほどはただグラフ化しただけでしたが、今度は見やすくなるようにx軸とy軸にそれぞれ説明を入れてみましょう。"
      ],
      "metadata": {
        "id": "uG_eo7S_u9ie"
      }
    },
    {
      "cell_type": "code",
      "source": [
        "plt.hist(train.loc[train[\"従業員数\"]<10000,\"従業員数\"], bins=100, color='skyblue')\n",
        "plt.xlabel('従業員数')\n",
        "plt.ylabel('企業数')\n",
        "plt.show()"
      ],
      "metadata": {
        "id": "33K8bU9OTI6R",
        "colab": {
          "base_uri": "https://localhost:8080/",
          "height": 448
        },
        "outputId": "c5a1fe77-5d08-4318-ddca-d34045f0c9ed"
      },
      "execution_count": 19,
      "outputs": [
        {
          "output_type": "display_data",
          "data": {
            "text/plain": [
              "<Figure size 640x480 with 1 Axes>"
            ],
            "image/png": "[encoded data removed]"
          },
          "metadata": {}
        }
      ]
    },
    {
      "cell_type": "markdown",
      "source": [
        "1000人付近の企業が最も多く右側に裾の長いグラフになっていることがわかります。\n",
        "<br>"
      ],
      "metadata": {
        "id": "ImIPErmIwp6K"
      }
    },
    {
      "cell_type": "markdown",
      "source": [
        "では次に従業員数に応じて購入確率がどう変化しているのかを見ていきます。<br>\n",
        "方法として、ある範囲の従業員数をもった企業の平均購入確率を算出してみましょう<br>\n",
        "ここでは、700人以下、700-1000人、1000-2000人、2000-5000人、5000人以上と5つの区分に分けて平均購入割合を出してみたいと思います。<br>\n",
        "※今度はグラフの上部に数値ラベルも表示させてみます。"
      ],
      "metadata": {
        "id": "a2pZyu6kxe3g"
      }
    },
    {
      "cell_type": "code",
      "source": [
        "# 従業員数をカテゴリに分類するための区切りとラベルを定義\n",
        "bins = [0, 700, 1000, 2000, 5000, float('inf')]\n",
        "labels = ['700人以下', '700-1000人', '1000-2000人', '2000-5000人', '5000人以上']\n",
        "\n",
        "# pd.cut() を使用して従業員数をカテゴリに分類\n",
        "train['従業員数カテゴリ'] = pd.cut(train['従業員数'], bins=bins, labels=labels, right=False)\n",
        "\n",
        "# 従業員数カテゴリごとに購入フラグの平均値を算出\n",
        "average_purchase_flag = train.groupby('従業員数カテゴリ')['購入フラグ'].mean()\n",
        "\n",
        "bars = plt.bar(average_purchase_flag.index, average_purchase_flag.values, color='skyblue')\n",
        "plt.xlabel('従業員数カテゴリ')\n",
        "plt.ylabel('平均購入確率')\n",
        "\n",
        "# 各棒の上に数値を表示\n",
        "for bar in bars:\n",
        "    yval = bar.get_height()\n",
        "    plt.text(bar.get_x() + bar.get_width()/2.0, yval, f'{yval:.2f}', ha='center', va='bottom')\n",
        "\n",
        "plt.show()"
      ],
      "metadata": {
        "id": "TBHko09syMQw",
        "colab": {
          "base_uri": "https://localhost:8080/",
          "height": 504
        },
        "outputId": "90af3f44-36ad-4498-f91c-463df02130f3"
      },
      "execution_count": 20,
      "outputs": [
        {
          "output_type": "stream",
          "name": "stderr",
          "text": [
            "/tmp/ipython-input-951634008.py:9: FutureWarning: The default of observed=False is deprecated and will be changed to True in a future version of pandas. Pass observed=False to retain current behavior or observed=True to adopt the future default and silence this warning.\n",
            "  average_purchase_flag = train.groupby('従業員数カテゴリ')['購入フラグ'].mean()\n"
          ]
        },
        {
          "output_type": "display_data",
          "data": {
            "text/plain": [
              "<Figure size 640x480 with 1 Axes>"
            ],
            "image/png": "[encoded data removed]"
          },
          "metadata": {}
        }
      ]
    },
    {
      "cell_type": "markdown",
      "source": [
        "700-1000人→1000-2000人→2000-5000人と従業員数が増えることで大きく購入確率が上昇していることが確認できます<br>\n",
        "一方2000-5000人→5000人以下の間で購入確率が大きく減少しています。<br>\n",
        "<br>\n",
        "【NextStep】さらなる深堀として、\n",
        "```\n",
        "1. 統計検定を使って各カテゴリ間の差が偶然かどうかを調査する\n",
        "2. 区分を変えてみる\n",
        "3. ほかの特徴量と組み合わせてみる\n",
        "```\n",
        "等を試してみましょう。"
      ],
      "metadata": {
        "id": "GSMNr-b71WR1"
      }
    },
    {
      "cell_type": "markdown",
      "source": [
        "####「仮説②：利益が大きい企業は、投資する余力があるため、購入確率が高いのではないか？」を検証してみよう"
      ],
      "metadata": {
        "id": "6Gz86P988PhN"
      }
    },
    {
      "cell_type": "markdown",
      "source": [
        "ここでは当期純利益を見てみます。<br>\n",
        "仮説①と同様に可視化していきましょう。"
      ],
      "metadata": {
        "id": "Isv5om5kNDIh"
      }
    },
    {
      "cell_type": "code",
      "source": [
        "plt.hist(train[\"当期純利益\"], bins=100, color='skyblue')\n",
        "plt.xlabel('当期純利益')\n",
        "plt.ylabel('企業数')\n",
        "plt.show()"
      ],
      "metadata": {
        "id": "GeQZ2xEj9jK8",
        "colab": {
          "base_uri": "https://localhost:8080/",
          "height": 448
        },
        "outputId": "2decf3e9-d350-4558-832f-2713f1dc9281"
      },
      "execution_count": 21,
      "outputs": [
        {
          "output_type": "display_data",
          "data": {
            "text/plain": [
              "<Figure size 640x480 with 1 Axes>"
            ],
            "image/png": "[encoded data removed]"
          },
          "metadata": {}
        }
      ]
    },
    {
      "cell_type": "markdown",
      "source": [
        "見えにくいので、1000億円以下で可視化してみます。"
      ],
      "metadata": {
        "id": "Y6kzs_2PYQMD"
      }
    },
    {
      "cell_type": "code",
      "source": [
        "plt.hist(train.loc[train[\"当期純利益\"]<100000000000,\"当期純利益\"], bins=100, color='skyblue')\n",
        "plt.xlabel('当期純利益')\n",
        "plt.ylabel('企業数')\n",
        "plt.show()"
      ],
      "metadata": {
        "id": "BstFFQ9OXDdy",
        "colab": {
          "base_uri": "https://localhost:8080/",
          "height": 448
        },
        "outputId": "de599d0f-2ecd-46d0-b88e-d43699a03b85"
      },
      "execution_count": 22,
      "outputs": [
        {
          "output_type": "display_data",
          "data": {
            "text/plain": [
              "<Figure size 640x480 with 1 Axes>"
            ],
            "image/png": "[encoded data removed]"
          },
          "metadata": {}
        }
      ]
    },
    {
      "cell_type": "markdown",
      "source": [
        "０よりも少し大きいところが最も企業数が多いことがわかります。<br>\n",
        "マイナスの企業もそれなりにあることがわかりました。<br>\n",
        "<br>\n",
        "こちらも仮説①と同様に5つ程度の区分に分けてその区分での購入確率を可視化してみます。<br>\n",
        "今回は少し方法を変えて、区分内の企業数が同じになるように区分を分けてみようと思います。"
      ],
      "metadata": {
        "id": "AaFuPfvTYp0n"
      }
    },
    {
      "cell_type": "code",
      "source": [
        "train['利益区分'] = pd.qcut(train['当期純利益'], 5, labels=False)\n",
        "\n",
        "# 各区分の範囲を確認するために、ラベルを作成します。\n",
        "category_labels = []\n",
        "for i in sorted(train['利益区分'].unique()):\n",
        "    min_val = train[train['利益区分'] == i]['当期純利益'].min()\n",
        "    max_val = train[train['利益区分'] == i]['当期純利益'].max()\n",
        "    category_labels.append(f'{min_val} ~ {max_val}')\n",
        "\n",
        "# 2. 区分ごとの「購入フラグ」の平均値を計算\n",
        "average_purchase_flag = train.groupby('利益区分')['購入フラグ'].mean()\n",
        "\n",
        "# 3. 棒グラフの描画\n",
        "plt.figure(figsize=(12, 7))\n",
        "bars = plt.bar(category_labels, average_purchase_flag, color='skyblue')\n",
        "\n",
        "# 4. 数値ラベルを上部に追加\n",
        "for bar in bars:\n",
        "    yval = bar.get_height()\n",
        "    plt.text(bar.get_x() + bar.get_width()/2.0, yval, f'{yval:.3f}', va='bottom', ha='center') # yvalの上に表示\n",
        "\n",
        "# グラフの装飾\n",
        "# plt.title('当期純利益の区分別 購入フラグの平均値', fontsize=16)\n",
        "plt.xlabel('当期純利益の区分', fontsize=12)\n",
        "plt.ylabel('購入フラグの平均値', fontsize=12)\n",
        "plt.xticks(rotation=30, ha='right')\n",
        "plt.grid(axis='y', linestyle='--', alpha=0.7)\n",
        "plt.tight_layout()\n",
        "\n",
        "# # グラフを画像として保存\n",
        "# plt.savefig('purchase_flag_by_profit_category.png')\n",
        "\n",
        "# print(\"グラフを 'purchase_flag_by_profit_category.png' として保存しました。\")\n",
        "print(\"\\n当期純利益の区分ごとの購入フラグの平均値:\")\n",
        "print(average_purchase_flag)"
      ],
      "metadata": {
        "id": "zOPmJ_2MXDXE",
        "colab": {
          "base_uri": "https://localhost:8080/",
          "height": 817
        },
        "outputId": "0312e0f0-06ca-427a-fafd-b3c5881b0815"
      },
      "execution_count": 23,
      "outputs": [
        {
          "output_type": "stream",
          "name": "stdout",
          "text": [
            "\n",
            "当期純利益の区分ごとの購入フラグの平均値:\n",
            "利益区分\n",
            "0    0.093960\n",
            "1    0.175676\n",
            "2    0.304054\n",
            "3    0.250000\n",
            "4    0.382550\n",
            "Name: 購入フラグ, dtype: float64\n"
          ]
        },
        {
          "output_type": "display_data",
          "data": {
            "text/plain": [
              "<Figure size 1200x700 with 1 Axes>"
            ],
            "image/png": "[encoded data removed]"
          },
          "metadata": {}
        }
      ]
    },
    {
      "cell_type": "markdown",
      "source": [
        "一部購入割合が減少している箇所も見受けられるが、当期純利益が大きいほど購入確率も大きくなっていると言えそう。"
      ],
      "metadata": {
        "id": "4gyeb--2bSrK"
      }
    },
    {
      "cell_type": "markdown",
      "source": [
        "---\n",
        "\n",
        "【NextStep】さらなる深堀として、\n",
        "```\n",
        "1. 統計検定を使って各カテゴリ間の差が偶然かどうかを調査する\n",
        "2. 他の財務指標の傾向を確認してみる\n",
        "3. 他の財務指標と組み合わせて新しい特徴量を作成する\n",
        "```\n",
        "等を試してみましょう。"
      ],
      "metadata": {
        "id": "PgjFB2wRblvJ"
      }
    },
    {
      "cell_type": "markdown",
      "source": [
        "#### 「仮説③：アンケートで「抵抗感がない」と回答した企業は、購入確率が高いのではないか？」を検証してみよう"
      ],
      "metadata": {
        "id": "TRQTSnPP8PcL"
      }
    },
    {
      "cell_type": "markdown",
      "source": [
        "これは当然のように思えますが、本当に「抵抗感がない」と回答した企業の購入確率が高くなっているのかをデータにて確認していきます。"
      ],
      "metadata": {
        "id": "3Py-PtPLcadv"
      }
    },
    {
      "cell_type": "markdown",
      "source": [
        "まずは、1～5の回答がそれぞれいくつあるかを見ていきます。"
      ],
      "metadata": {
        "id": "hl8p9pIjd-0t"
      }
    },
    {
      "cell_type": "code",
      "source": [
        "category_counts = train['アンケート４'].value_counts().sort_index()\n",
        "\n",
        "# グラフのサイズを設定\n",
        "plt.figure(figsize=(10, 6))\n",
        "\n",
        "# plt.bar() の戻り値（各棒の情報）を `bars` という変数に格納\n",
        "bars = plt.bar(category_counts.index, category_counts.values, color='skyblue')\n",
        "\n",
        "#--- ここからがラベルを追加する処理 ---\n",
        "for bar in bars:\n",
        "    height = bar.get_height()\n",
        "    plt.text(\n",
        "        x=bar.get_x() + bar.get_width() / 2,  # X座標 (棒の中央)\n",
        "        y=height,                            # Y座標 (棒の高さ)\n",
        "        s=f'{height}',                       # 表示するテキスト (整数で表示)\n",
        "        ha='center',                         # 水平方向の位置揃え (中央)\n",
        "        va='bottom'                          # 垂直方向の位置揃え (棒の下端に合わせる)\n",
        "    )\n",
        "#--- ここまで ---\n",
        "\n",
        "# グラフの装飾\n",
        "plt.xlabel('アンケート４の回答')\n",
        "plt.ylabel('回答数')\n",
        "plt.xticks(category_counts.index) # X軸の目盛りを整数に保つ\n",
        "plt.grid(axis='y', linestyle='--', alpha=0.7)\n",
        "plt.tight_layout() # レイアウトを自動調整\n",
        "\n",
        "# グラフの表示\n",
        "plt.show()"
      ],
      "metadata": {
        "id": "DRoLQUhZe29M",
        "colab": {
          "base_uri": "https://localhost:8080/",
          "height": 607
        },
        "outputId": "46762194-398b-4c66-e58a-66680a180eda"
      },
      "execution_count": 24,
      "outputs": [
        {
          "output_type": "display_data",
          "data": {
            "text/plain": [
              "<Figure size 1000x600 with 1 Axes>"
            ],
            "image/png": "[encoded data removed]"
          },
          "metadata": {}
        }
      ]
    },
    {
      "cell_type": "markdown",
      "source": [
        "1が最も多く、3が少ない。がそこまで極端な差はなさそうです。"
      ],
      "metadata": {
        "id": "czCPP38XfAJp"
      }
    },
    {
      "cell_type": "markdown",
      "source": [
        "ではそれぞれの購入割合を見ていきます。"
      ],
      "metadata": {
        "id": "VlcJCIWVfTPb"
      }
    },
    {
      "cell_type": "code",
      "source": [
        "average_purchase_by_survey = train.groupby('アンケート４')['購入フラグ'].mean()\n",
        "\n",
        "# 2. 計算結果（表）を表示\n",
        "print(\"アンケート４のカテゴリ別 購入フラグの平均値:\")\n",
        "print(average_purchase_by_survey)\n",
        "\n",
        "# 3. 棒グラフを作成\n",
        "plt.figure(figsize=(10, 6))\n",
        "bars = plt.bar(average_purchase_by_survey.index, average_purchase_by_survey.values, color='skyblue')\n",
        "\n",
        "# 4. 各棒の上に数値ラベルを追加\n",
        "for bar in bars:\n",
        "    yval = bar.get_height()\n",
        "    plt.text(bar.get_x() + bar.get_width()/2.0, yval, f'{yval:.3f}', va='bottom', ha='center')\n",
        "\n",
        "# 5. グラフのタイトルとラベルを設定（日本語表示のエラーを避けるため英語で記述）\n",
        "# plt.title('Average Purchase Flag by Survey 4 Category')\n",
        "plt.xlabel('アンケート４の回答')\n",
        "plt.ylabel('購入割合')\n",
        "plt.xticks(average_purchase_by_survey.index) # X軸の目盛りをカテゴリ名に設定\n",
        "plt.ylim(0, 0.35)  # 平均値（購入率）は0から1の範囲\n",
        "plt.grid(axis='y', linestyle='--', alpha=0.7)\n",
        "plt.tight_layout()"
      ],
      "metadata": {
        "id": "kkwKGoIQfY3R",
        "colab": {
          "base_uri": "https://localhost:8080/",
          "height": 750
        },
        "outputId": "dbb00efd-ea23-4d94-bfe6-7b2ace4dc741"
      },
      "execution_count": 25,
      "outputs": [
        {
          "output_type": "stream",
          "name": "stdout",
          "text": [
            "アンケート４のカテゴリ別 購入フラグの平均値:\n",
            "アンケート４\n",
            "1    0.284848\n",
            "2    0.281046\n",
            "3    0.304000\n",
            "4    0.153846\n",
            "5    0.185897\n",
            "Name: 購入フラグ, dtype: float64\n"
          ]
        },
        {
          "output_type": "display_data",
          "data": {
            "text/plain": [
              "<Figure size 1000x600 with 1 Axes>"
            ],
            "image/png": "[encoded data removed]"
          },
          "metadata": {}
        }
      ]
    },
    {
      "cell_type": "markdown",
      "source": [
        "３と４の間で購入確率に大きく差があることがわかります。<br>\n",
        "「抵抗感がない」と購入割合が高くなっていますが、回答1，2，3の間にはほとんど差がありません。<br>\n",
        "抵抗感が一定を超えた場合に購入確率が低くなるという解釈もできそうです。"
      ],
      "metadata": {
        "id": "A0HEUlaOni6L"
      }
    },
    {
      "cell_type": "markdown",
      "source": [
        "---\n",
        "\n",
        "ではここでは一歩踏み込んで見た目ではなく、統計的に３と４の間に差があるのかどうかを検証してみましょう。<br>\n",
        "これは統計検定といい、今ある差が偶然発生しているものかどうかを調べる際に使用します。<br>\n",
        "Pythonで統計検定を実施するにはいくつか方法がありますが、今回はstatsmodelsというライブラリを用いて母比率の差の片側検定を実施してみましょう。<br>\n",
        "要するに、アンケート４に対して「4」と回答した企業の購入割合より、「3」と回答した企業の購入割合の方が統計的に大きいと言える？ということを確認するための検定です。"
      ],
      "metadata": {
        "id": "7QgDDilronTq"
      }
    },
    {
      "cell_type": "code",
      "source": [
        "from statsmodels.stats.proportion import proportions_ztest\n",
        "\n",
        "# グループ3とグループ4のデータに分割\n",
        "group3 = train[train['アンケート４'] == 3]\n",
        "group4 = train[train['アンケート４'] == 4]\n",
        "\n",
        "# 各グループの購入数（成功数）を計算\n",
        "count_3 = group3['購入フラグ'].sum()\n",
        "count_4 = group4['購入フラグ'].sum()\n",
        "\n",
        "# 各グループのサンプルサイズ（観測数）を計算\n",
        "nobs_3 = len(group3)\n",
        "nobs_4 = len(group4)\n",
        "\n",
        "# 検定に必要なリストを作成\n",
        "# `proportions_ztest`はリストの1番目の要素が2番目より大きいかを検定するため、\n",
        "# グループ3のデータを先に記述します。\n",
        "counts = np.array([count_3, count_4])\n",
        "nobs = np.array([nobs_3, nobs_4])\n",
        "\n",
        "# 母比率の差の検定を実行 (片側検定)\n",
        "# alternative='larger' は、1番目の比率 > 2番目の比率 を対立仮説とする\n",
        "z_stat, p_value = proportions_ztest(count=counts, nobs=nobs, alternative='larger')\n",
        "\n",
        "print(\"--- 片側検定（グループ3の購入率 > グループ4の購入率）---\")\n",
        "print(f\"グループ3: 購入数 = {count_3}, 全体数 = {nobs_3}, 購入率 = {count_3/nobs_3:.4f}\")\n",
        "print(f\"グループ4: 購入数 = {count_4}, 全体数 = {nobs_4}, 購入率 = {count_4/nobs_4:.4f}\")\n",
        "print(\"\\n--- 検定結果 ---\")\n",
        "print(f\"Z統計量: {z_stat:.4f}\")\n",
        "print(f\"P値: {p_value:.4f}\")\n",
        "\n",
        "# 結果の判定\n",
        "alpha = 0.05\n",
        "if p_value < alpha:\n",
        "    print(f\"\\nP値 ({p_value:.4f}) < 有意水準 ({alpha})\")\n",
        "    print(\"結論: 帰無仮説は棄却され、アンケート4の回答「3」の購入率はアンケート4の回答「4」の購入率よりも統計的に有意に大きいと言えます。\")\n",
        "else:\n",
        "    print(f\"\\nP値 ({p_value:.4f}) >= 有意水準 ({alpha})\")\n",
        "    print(\"結論: アンケート4の回答「3」と「4」のグループ間で購入フラグの平均値に統計的な有意差があるとは言えません。\")"
      ],
      "metadata": {
        "id": "Q_K9N3-4omsV",
        "colab": {
          "base_uri": "https://localhost:8080/"
        },
        "outputId": "5fa661fd-d6d6-4c99-cd54-2d112b77e8ef"
      },
      "execution_count": 26,
      "outputs": [
        {
          "output_type": "stream",
          "name": "stdout",
          "text": [
            "--- 片側検定（グループ3の購入率 > グループ4の購入率）---\n",
            "グループ3: 購入数 = 38, 全体数 = 125, 購入率 = 0.3040\n",
            "グループ4: 購入数 = 22, 全体数 = 143, 購入率 = 0.1538\n",
            "\n",
            "--- 検定結果 ---\n",
            "Z統計量: 2.9418\n",
            "P値: 0.0016\n",
            "\n",
            "P値 (0.0016) < 有意水準 (0.05)\n",
            "結論: 帰無仮説は棄却され、アンケート4の回答「3」の購入率はアンケート4の回答「4」の購入率よりも統計的に有意に大きいと言えます。\n"
          ]
        }
      ]
    },
    {
      "cell_type": "markdown",
      "source": [
        "これでアンケート４に対し「３」と回答した企業は「４」と回答した企業よりも購入確率が高いということがわかりました。"
      ],
      "metadata": {
        "id": "zd4QGb60qED-"
      }
    },
    {
      "cell_type": "markdown",
      "source": [
        "---\n",
        "\n",
        "**P値と有意水準の解釈**\n",
        "\n",
        "p値を簡潔に説明すると、\n",
        "\n",
        "**「もし比較するグループ間に本当は差がない、と仮定した場合に、今回の結果が偶然起こる確率」**\n",
        "\n",
        "のことです。\n",
        "\n",
        "この例で言えば、「2つのグループの母比率に本当は差がないと仮定した場合に、今回観測されたような0.14という比率の差(0.3040-0.1678)、またはそれ以上に大きな差が偶然生まれてしまう確率」が0.0042だ、ということを表しています。\n",
        "\n",
        "そして、有意水準を0.05と設定するのは、「確率が5%を下回るような珍しいことは、偶然起こったとは考えづらいよね」という判断基準（ボーダーライン）を決めている、ということになります。\n"
      ],
      "metadata": {
        "id": "d6CGcuAgG-bA"
      }
    },
    {
      "cell_type": "markdown",
      "source": [
        "---\n",
        "\n",
        "【NextStep】さらなる深堀として、\n",
        "```\n",
        "1. ほかのアンケートではどのような傾向になっているか調査する\n",
        "2. アンケート結果からどういう企業が購入確率が高くなっているかを解釈してみる\n",
        "```\n",
        "等を試してみましょう。"
      ],
      "metadata": {
        "id": "C8P-VfLHudTS"
      }
    },
    {
      "cell_type": "markdown",
      "source": [
        "# 4.モデル構築"
      ],
      "metadata": {
        "id": "lAHE0l-4g6Y1"
      }
    },
    {
      "cell_type": "markdown",
      "source": [
        "### 1.上記検証結果を使ってロジスティック回帰モデルを構築して予測してみよう"
      ],
      "metadata": {
        "id": "qWzBlzlgKfem"
      }
    },
    {
      "cell_type": "markdown",
      "source": [
        "以上で仮説の検証を一通り終えたら、その特徴量を使用してモデルを作成していきます。<br>先ほど使用したライブラリstatsmodelsを使ってロジスティック回帰を実装していきたいと思います。<br>\n",
        "ここでは簡単に先ほど検証した特徴量３つ[従業員数、当期純利益、アンケート４]をそのままモデルに入れて学習させ予測してみたいと思います。"
      ],
      "metadata": {
        "id": "gR6xe_7WKfZt"
      }
    },
    {
      "cell_type": "code",
      "source": [
        "import pandas as pd\n",
        "import numpy as np\n",
        "import statsmodels.api as sm\n",
        "from sklearn.metrics import f1_score\n",
        "\n",
        "# 前処理\n",
        "target = '購入フラグ'\n",
        "numerical_features = ['従業員数', '当期純利益', 'アンケート４']\n",
        "\n",
        "\n",
        "# --- 学習データの前処理 ---\n",
        "X_train = train[numerical_features]\n",
        "y_train = train[target]\n",
        "\n",
        "# --- テストデータの前処理 ---\n",
        "X_test = test[numerical_features]\n",
        "\n",
        "# statsmodelsのために定数項(切片)を追加\n",
        "X_train = sm.add_constant(X_train)\n",
        "X_test = sm.add_constant(X_test)\n",
        "\n",
        "# ロジスティック回帰モデルの学習\n",
        "logit_model = sm.Logit(y_train, X_train)\n",
        "result = logit_model.fit(disp=0) # disp=0 は収束計算の途中経過を非表示にする\n",
        "\n",
        "# 予測及び閾値で変換\n",
        "y_train_pred_prob = result.predict(X_train)\n",
        "y_train_pred = (y_train_pred_prob > 0.5).astype(int) # 確率0.5を閾値として0/1に変換\n",
        "y_test_pred_prob = result.predict(X_test)\n",
        "y_test_pred = (y_test_pred_prob > 0.5).astype(int) # 確率0.5を閾値として0/1に変換\n",
        "\n",
        "# F1スコアで評価\n",
        "f1 = f1_score(y_train, y_train_pred)\n",
        "\n",
        "# 結果の出力\n",
        "print(\"--- ロジスティック回帰モデルのサマリー ---\")\n",
        "print(result.summary())\n",
        "print(\"\\n\" + \"=\"*80 + \"\\n\")\n",
        "print(\"--- モデルの評価 ---\")\n",
        "print(f\"TRAINデータに対するF1スコア: {f1:.4f}\")"
      ],
      "metadata": {
        "id": "lgY6ehyst-kY",
        "colab": {
          "base_uri": "https://localhost:8080/"
        },
        "outputId": "dd835a1c-e7ba-484f-f889-3577dcbd8a58"
      },
      "execution_count": 27,
      "outputs": [
        {
          "output_type": "stream",
          "name": "stdout",
          "text": [
            "--- ロジスティック回帰モデルのサマリー ---\n",
            "                           Logit Regression Results                           \n",
            "==============================================================================\n",
            "Dep. Variable:                  購入フラグ   No. Observations:                  742\n",
            "Model:                          Logit   Df Residuals:                      738\n",
            "Method:                           MLE   Df Model:                            3\n",
            "Date:                Wed, 15 Oct 2025   Pseudo R-squ.:                 0.05139\n",
            "Time:                        09:34:57   Log-Likelihood:                -388.89\n",
            "converged:                       True   LL-Null:                       -409.96\n",
            "Covariance Type:            nonrobust   LLR p-value:                 3.759e-09\n",
            "==============================================================================\n",
            "                 coef    std err          z      P>|z|      [0.025      0.975]\n",
            "------------------------------------------------------------------------------\n",
            "const         -0.7270      0.195     -3.723      0.000      -1.110      -0.344\n",
            "従業員数       -1.786e-05   1.48e-05     -1.206      0.228   -4.69e-05    1.12e-05\n",
            "当期純利益       5.882e-06   1.34e-06      4.400      0.000    3.26e-06     8.5e-06\n",
            "アンケート４        -0.1912      0.062     -3.104      0.002      -0.312      -0.070\n",
            "==============================================================================\n",
            "\n",
            "================================================================================\n",
            "\n",
            "--- モデルの評価 ---\n",
            "TRAINデータに対するF1スコア: 0.1414\n"
          ]
        }
      ]
    },
    {
      "cell_type": "markdown",
      "source": [
        "## 2.評価指標を理解しよう"
      ],
      "metadata": {
        "id": "V93pig-Ilo1d"
      }
    },
    {
      "cell_type": "markdown",
      "source": [
        "Trainデータでの今コンペの評価指標であるF1スコアは0.14となっています。<br>\n",
        "ではF1スコアとはどのような評価指標なのでしょうか。<br>\n",
        "以下、簡単に見ていきたいと思います。"
      ],
      "metadata": {
        "id": "Lrli2TTaDzvQ"
      }
    },
    {
      "cell_type": "markdown",
      "source": [
        "---\n",
        "\n",
        "＜F1スコアの計算方法＞\n",
        "\n",
        "まず、予測結果をもとに混合行列を作成します。\n",
        "\n",
        "| | 予測：陽性 | 予測：陰性 |\n",
        "| :--- | :---: | :---: |\n",
        "| 実績：陽性 | TP | FN |\n",
        "| 実績：陰性 | FP | TN |\n",
        "\n",
        "<br>\n",
        "\n",
        "次に、表の「縦」と「横」を見ます。\n",
        "\n",
        "  * 適合率 ＝ 縦で見る `TP / (TP+FP)`\n",
        "\n",
        "      * 「陽性」と予測した列の正解率。\n",
        "\n",
        "  * 再現率 ＝ 横で見る `TP / (TP+FN)`\n",
        "\n",
        "      * 「陽性」だった行をどれだけ網羅できたか。\n",
        "\n",
        "<br>\n",
        "\n",
        "最後に、F1スコアを計算します。\n",
        "\n",
        "$$F1スコア = 2 \\times \\frac{\\text{適合率} \\times \\text{再現率}}{\\text{適合率} + \\text{再現率}}$$\n",
        "\n",
        "要するに、F1スコアとは、混合行列における「縦の正解率（適合率）」と「横の網羅率（再現率）」を、バランス良く1つの数値で評価したものです。<br>\n",
        "ゆえに、適合率、再現率のどちらか一方が高くても一方が低ければF1スコアは低くなります。これを意識したうえで先ほどの結果を考察してみましょう。\n",
        "\n",
        "---"
      ],
      "metadata": {
        "id": "ZRq4pl8hGM7u"
      }
    },
    {
      "cell_type": "markdown",
      "source": [
        "それでは、まず混合行列を作っていきます。<br>\n",
        "混合行列にはsklearnのconfusion_matrixを使うのが便利です。"
      ],
      "metadata": {
        "id": "ICBodkbF4mi1"
      }
    },
    {
      "cell_type": "code",
      "source": [
        "import numpy as np\n",
        "from sklearn.metrics import confusion_matrix, f1_score, precision_score, recall_score\n",
        "import seaborn as sns\n",
        "import matplotlib.pyplot as plt\n",
        "\n",
        "cm = confusion_matrix(y_train, y_train_pred)\n",
        "\n",
        "print(\"--- 混合行列 ---\")\n",
        "print(cm)\n",
        "print(\"\\n\")\n",
        "\n",
        "\n",
        "plt.figure(figsize=(8, 6))\n",
        "sns.heatmap(cm, annot=True, fmt='d', cmap='Blues',\n",
        "            xticklabels=['Negative (0)', 'Positive (1)'],\n",
        "            yticklabels=['Negative (0)', 'Positive (1)'])\n",
        "plt.xlabel('Predicted Label (予測ラベル)')\n",
        "plt.ylabel('True Label (正解ラベル)')\n",
        "plt.title('Confusion Matrix (混合行列)')\n",
        "plt.show()"
      ],
      "metadata": {
        "id": "XHegU0OcCIr8",
        "colab": {
          "base_uri": "https://localhost:8080/",
          "height": 653
        },
        "outputId": "d510b9d5-e0da-43e4-c654-72a947fc0b97"
      },
      "execution_count": 28,
      "outputs": [
        {
          "output_type": "stream",
          "name": "stdout",
          "text": [
            "--- 混合行列 ---\n",
            "[[558   5]\n",
            " [165  14]]\n",
            "\n",
            "\n"
          ]
        },
        {
          "output_type": "display_data",
          "data": {
            "text/plain": [
              "<Figure size 800x600 with 2 Axes>"
            ],
            "image/png": "[encoded data removed]"
          },
          "metadata": {}
        }
      ]
    },
    {
      "cell_type": "markdown",
      "source": [
        "予測値が0によりすぎていることがわかります。（このモデルでは0と1を分ける閾値が0.5よりも小さい可能性あることを示しています。後述）<br>\n",
        "では、適合率と再現率、およびF1スコアを算出してみましょう。"
      ],
      "metadata": {
        "id": "iNh0veLWBh_t"
      }
    },
    {
      "cell_type": "code",
      "source": [
        "# 適合率 (Precision): 陽性と予測した中で、実際に陽性だった割合\n",
        "precision = precision_score(y_train, y_train_pred)\n",
        "\n",
        "# 再現率 (Recall): 実際の陽性のうち、正しく陽性と予測できた割合\n",
        "recall = recall_score(y_train, y_train_pred)\n",
        "\n",
        "# F1スコア: 適合率と再現率の調和平均\n",
        "f1 = f1_score(y_train, y_train_pred)\n",
        "\n",
        "print(\"--- 各種評価指標 ---\")\n",
        "print(f\"適合率 (Precision): {precision:.4f}\")\n",
        "print(f\"再現率 (Recall):    {recall:.4f}\")\n",
        "print(f\"F1スコア (F1 Score): {f1:.4f}\")\n",
        "print(\"\\n\")"
      ],
      "metadata": {
        "id": "nmXrCpGw7eD5",
        "colab": {
          "base_uri": "https://localhost:8080/"
        },
        "outputId": "61687c7d-8d63-4c85-fef6-eab7d314d473"
      },
      "execution_count": 29,
      "outputs": [
        {
          "output_type": "stream",
          "name": "stdout",
          "text": [
            "--- 各種評価指標 ---\n",
            "適合率 (Precision): 0.7368\n",
            "再現率 (Recall):    0.0782\n",
            "F1スコア (F1 Score): 0.1414\n",
            "\n",
            "\n"
          ]
        }
      ]
    },
    {
      "cell_type": "markdown",
      "source": [
        "適合率と再現率を確認すると適合率は高いにもかかわらず、再現率が異常に低く、そのためF1スコアが低くなっていることがわかります。<br>\n",
        "F1スコアは適合率、再現率のバランスが求められていることがわかります。"
      ],
      "metadata": {
        "id": "sF2nZY3q9Orq"
      }
    },
    {
      "cell_type": "markdown",
      "source": [
        "これを補正してみましょう。<br>\n",
        "ロジスティック回帰の出力は確率となっており、現状その確率が0.5より大きいならば1、0.5以下であれば0とするようになっています。(下記の部分です。)<br>\n",
        "```\n",
        "# 予測及び閾値で変換\n",
        "y_train_pred_prob = result.predict(X_train)\n",
        "y_train_pred = (y_train_pred_prob > 0.5).astype(int) # 確率0.5を閾値として0/1に変換\n",
        "y_test_pred_prob = result.predict(X_test)\n",
        "y_test_pred = (y_test_pred_prob > 0.5).astype(int) # 確率0.5を閾値として0/1に変換\n",
        "```\n",
        "適合率が高く、再現率が低いということは、予測が間違えて0となってしまっているのが多いということになります。(混合行列の左下部分)<br>\n",
        "よって1の割合が増えるように0.5の閾値を小さくして予測値の変化を見てみましょう。"
      ],
      "metadata": {
        "id": "doGxmjfS8D6f"
      }
    },
    {
      "cell_type": "code",
      "source": [
        "## 使いまわしたいので閾値を変えて適合率と再現率を算出して出力するコードを関数化します。\n",
        "\n",
        "def calc_metrics(thres, pred_prob, trues):\n",
        "    pred = (y_train_pred_prob > thres).astype(int) # 確率thresを閾値として0/1に変換\n",
        "\n",
        "    # 適合率 (Precision): 陽性と予測した中で、実際に陽性だった割合\n",
        "    precision = precision_score(trues, pred)\n",
        "\n",
        "    # 再現率 (Recall): 実際の陽性のうち、正しく陽性と予測できた割合\n",
        "    recall = recall_score(trues, pred)\n",
        "\n",
        "    # F1スコア: 適合率と再現率の調和平均\n",
        "    f1 = f1_score(trues, pred)\n",
        "\n",
        "    print(\"--- 各種評価指標 ---\")\n",
        "    print(f\"適合率 (Precision): {precision:.4f}\")\n",
        "    print(f\"再現率 (Recall):    {recall:.4f}\")\n",
        "    print(f\"F1スコア (F1 Score): {f1:.4f}\")\n",
        "    print(\"\\n\")\n",
        "\n",
        "    return precision, recall, f1"
      ],
      "metadata": {
        "id": "fxyZuFJl9Qdq"
      },
      "execution_count": 30,
      "outputs": []
    },
    {
      "cell_type": "code",
      "source": [
        "precision_list = []\n",
        "recall_list = []\n",
        "f1_list = []\n",
        "thres_list = [0.4, 0.35, 0.3, 0.25, 0.2, 0.15, 0.1]\n",
        "for i in thres_list:\n",
        "    print(\"閾値：\",i)\n",
        "    precision, recall, f1 = calc_metrics(i, y_train_pred_prob, y_train)\n",
        "    precision_list.append(precision)\n",
        "    recall_list.append(recall)\n",
        "    f1_list.append(f1)"
      ],
      "metadata": {
        "id": "wyZrnnmd-EAf",
        "colab": {
          "base_uri": "https://localhost:8080/"
        },
        "outputId": "ea639b66-1064-4cee-90f6-06c4ca6ed125"
      },
      "execution_count": 31,
      "outputs": [
        {
          "output_type": "stream",
          "name": "stdout",
          "text": [
            "閾値： 0.4\n",
            "--- 各種評価指標 ---\n",
            "適合率 (Precision): 0.6452\n",
            "再現率 (Recall):    0.1117\n",
            "F1スコア (F1 Score): 0.1905\n",
            "\n",
            "\n",
            "閾値： 0.35\n",
            "--- 各種評価指標 ---\n",
            "適合率 (Precision): 0.5854\n",
            "再現率 (Recall):    0.1341\n",
            "F1スコア (F1 Score): 0.2182\n",
            "\n",
            "\n",
            "閾値： 0.3\n",
            "--- 各種評価指標 ---\n",
            "適合率 (Precision): 0.4714\n",
            "再現率 (Recall):    0.1844\n",
            "F1スコア (F1 Score): 0.2651\n",
            "\n",
            "\n",
            "閾値： 0.25\n",
            "--- 各種評価指標 ---\n",
            "適合率 (Precision): 0.3132\n",
            "再現率 (Recall):    0.4637\n",
            "F1スコア (F1 Score): 0.3739\n",
            "\n",
            "\n",
            "閾値： 0.2\n",
            "--- 各種評価指標 ---\n",
            "適合率 (Precision): 0.2936\n",
            "再現率 (Recall):    0.7709\n",
            "F1スコア (F1 Score): 0.4253\n",
            "\n",
            "\n",
            "閾値： 0.15\n",
            "--- 各種評価指標 ---\n",
            "適合率 (Precision): 0.2452\n",
            "再現率 (Recall):    0.9944\n",
            "F1スコア (F1 Score): 0.3934\n",
            "\n",
            "\n",
            "閾値： 0.1\n",
            "--- 各種評価指標 ---\n",
            "適合率 (Precision): 0.2432\n",
            "再現率 (Recall):    1.0000\n",
            "F1スコア (F1 Score): 0.3913\n",
            "\n",
            "\n"
          ]
        }
      ]
    },
    {
      "cell_type": "markdown",
      "source": [
        "数字の羅列では少しわかりにくいので上記出力を適合率と再現率、F1スコアの関係がわかりやすくなるようにグラフ化してみようと思います。"
      ],
      "metadata": {
        "id": "Rh08dge-o0VT"
      }
    },
    {
      "cell_type": "code",
      "source": [
        "plt.plot(thres_list, precision_list, label='Precision')\n",
        "plt.plot(thres_list, recall_list, label='Recall')\n",
        "plt.plot(thres_list, f1_list, label='F1 Score')\n",
        "plt.show()"
      ],
      "metadata": {
        "colab": {
          "base_uri": "https://localhost:8080/",
          "height": 429
        },
        "id": "CmHS99BwozV5",
        "outputId": "15527af4-d215-426d-c14f-2bbae549ec4b"
      },
      "execution_count": 32,
      "outputs": [
        {
          "output_type": "display_data",
          "data": {
            "text/plain": [
              "<Figure size 640x480 with 1 Axes>"
            ],
            "image/png": "[encoded data removed]"
          },
          "metadata": {}
        }
      ]
    },
    {
      "cell_type": "markdown",
      "source": [
        "とりあえずもっとも簡単に可視化をしてみました。<br>\n",
        "ただ、見やすいグラフを細かくコードで設定するのは中々大変で難しいです。<br>\n",
        "そこでここでは少しお試しの要素も加えて、**生成AI**を使って、F1スコア、適合度、再現率をきれいにグラフ化するPythonコードを書いてもらってみましょう。今回は$GPT-5$を使ってみました。<br>\n",
        "さてどんなグラフができるでしょうか。<br>\n",
        "\n",
        "---\n",
        "\n",
        "**入力プロンプト**<br>\n",
        "```\n",
        "下記Pythonコードを、F1スコアを目立たせて、適合率と再現率を補完的に見せるコードにしてください\n",
        "\n",
        "#コード\n",
        "plt.plot(thres_list, precision_list, label='Precision')\n",
        "plt.plot(thres_list, recall_list, label='Recall')\n",
        "plt.plot(thres_list, f1_list, label='F1 Score')\n",
        "plt.show()\n",
        "```"
      ],
      "metadata": {
        "id": "cDe_JgSYGRYj"
      }
    },
    {
      "cell_type": "code",
      "source": [
        "# 以下がGPT-5からの出力となります。\n",
        "\n",
        "plt.figure(figsize=(8, 6))\n",
        "\n",
        "# PrecisionとRecallは補助的に（薄めの線＆点線）\n",
        "plt.plot(thres_list, precision_list, linestyle='--', color='skyblue', linewidth=1.5, label='Precision')\n",
        "plt.plot(thres_list, recall_list, linestyle='--', color='orange', linewidth=1.5, label='Recall')\n",
        "\n",
        "# F1スコアは目立たせる（太線＆濃い色）\n",
        "plt.plot(thres_list, f1_list, color='red', linewidth=2.5, label='F1 Score', marker='o')\n",
        "\n",
        "# 軸ラベルとタイトル\n",
        "plt.xlabel('Threshold')\n",
        "plt.ylabel('Score')\n",
        "plt.title('Precision, Recall, and F1 Score by Threshold')\n",
        "\n",
        "# グリッドと凡例\n",
        "plt.grid(True, linestyle=':', alpha=0.7)\n",
        "plt.legend()\n",
        "\n",
        "plt.show()"
      ],
      "metadata": {
        "colab": {
          "base_uri": "https://localhost:8080/",
          "height": 561
        },
        "id": "CVVHmgpgHzYR",
        "outputId": "cb1e464e-459b-4345-a95c-3c3f6e1193c6"
      },
      "execution_count": 33,
      "outputs": [
        {
          "output_type": "display_data",
          "data": {
            "text/plain": [
              "<Figure size 800x600 with 1 Axes>"
            ],
            "image/png": "[encoded data removed]"
          },
          "metadata": {}
        }
      ]
    },
    {
      "cell_type": "markdown",
      "source": [
        "きれいにわかりやすく装飾してくれましたね。<br>\n",
        "私は何もいじらずに生成されたコードをそのまま実行しただけです。<br>\n",
        "実際このチュートリアルのコードも適切に指示をすればすべて生成AIで作成することもできます。<br>これを機会にぜひ生成AIを使いこなせるようになってみましょう。<br>\n",
        "生成AI恐るべしですね。"
      ],
      "metadata": {
        "id": "5cS1xlnqH-j2"
      }
    },
    {
      "cell_type": "markdown",
      "source": [
        "試した結果としては、閾値が**$0.2$**の時が最もF1スコアが高くなることがわかりました。<br>\n",
        "\n",
        "---\n",
        "\n",
        "**注意！**<br>\n",
        "この閾値はモデルによって変動しますし、Trainでの最適な閾値がTestでも最適な閾値となるとは限らないことに注意してください。\n",
        "\n",
        "---"
      ],
      "metadata": {
        "id": "2jpEZPm_2q-x"
      }
    },
    {
      "cell_type": "markdown",
      "source": [
        "では閾値を**$0.2$**とした場合の混合行列がどうなっているかを見てみましょう。"
      ],
      "metadata": {
        "id": "9WxUJJEYMKXI"
      }
    },
    {
      "cell_type": "code",
      "source": [
        "y_train_pred_modi = (y_train_pred_prob > 0.2).astype(int) # 確率0.2を閾値として0/1に変換\n",
        "\n",
        "cm = confusion_matrix(y_train, y_train_pred_modi)\n",
        "\n",
        "print(\"--- 混合行列 ---\")\n",
        "print(cm)\n",
        "print(\"\\n\")\n",
        "\n",
        "\n",
        "plt.figure(figsize=(8, 6))\n",
        "sns.heatmap(cm, annot=True, fmt='d', cmap='Blues',\n",
        "            xticklabels=['Negative (0)', 'Positive (1)'],\n",
        "            yticklabels=['Negative (0)', 'Positive (1)'])\n",
        "plt.xlabel('Predicted Label (予測ラベル)')\n",
        "plt.ylabel('True Label (正解ラベル)')\n",
        "plt.title('Confusion Matrix (混合行列)')\n",
        "plt.show()"
      ],
      "metadata": {
        "id": "IMNZYy0DL2ry",
        "colab": {
          "base_uri": "https://localhost:8080/",
          "height": 653
        },
        "outputId": "8c93acec-cb6d-4db7-8a28-1e96d495d5f3"
      },
      "execution_count": 34,
      "outputs": [
        {
          "output_type": "stream",
          "name": "stdout",
          "text": [
            "--- 混合行列 ---\n",
            "[[231 332]\n",
            " [ 41 138]]\n",
            "\n",
            "\n"
          ]
        },
        {
          "output_type": "display_data",
          "data": {
            "text/plain": [
              "<Figure size 800x600 with 2 Axes>"
            ],
            "image/png": "[encoded data removed]"
          },
          "metadata": {}
        }
      ]
    },
    {
      "cell_type": "markdown",
      "source": [
        "今度は少し予測が１によりすぎている気もしますが、この場合が最もF1スコアが高かったのでここでは、この結果0.2を閾値として使ってTestデータの予測値も変更します。"
      ],
      "metadata": {
        "id": "x5K73KfqAGld"
      }
    },
    {
      "cell_type": "code",
      "source": [
        "y_test_pred_modi = (y_test_pred_prob > 0.2).astype(int) # 確率0.2を閾値として0/1に変換"
      ],
      "metadata": {
        "id": "9AJwWx4dANcP"
      },
      "execution_count": 35,
      "outputs": []
    },
    {
      "cell_type": "code",
      "source": [
        "y_test_pred.sum(), y_test_pred_modi.sum()"
      ],
      "metadata": {
        "id": "7IQc-kErANWx",
        "colab": {
          "base_uri": "https://localhost:8080/"
        },
        "outputId": "c0c7eb85-01df-4708-a804-aff8f67534a7"
      },
      "execution_count": 36,
      "outputs": [
        {
          "output_type": "execute_result",
          "data": {
            "text/plain": [
              "(np.int64(25), np.int64(502))"
            ]
          },
          "metadata": {},
          "execution_count": 36
        }
      ]
    },
    {
      "cell_type": "markdown",
      "source": [
        "閾値を0.5→0.2にすることで、予測が１の数が大幅に増加しました。"
      ],
      "metadata": {
        "id": "g6llknDREYc4"
      }
    },
    {
      "cell_type": "markdown",
      "source": [
        "## 3.提出ファイルを作成しよう"
      ],
      "metadata": {
        "id": "-o1iBVcrmSB6"
      }
    },
    {
      "cell_type": "markdown",
      "source": [
        "では最後に提出ファイルを作成します!\n",
        "\n",
        "どのように提出ファイルを作れば良いかわからない方もいるとは思いますが、コンペティションページにサンプルの投稿ファイルがありますので、こちらを利用して、予測結果を提出しましょう!\n",
        "\n",
        "sample_submit.csvを読み込み、予測部分を今回作成した予測値に変更しましょう!\n",
        "\n",
        "そして提出ファイルを保存しましょう!"
      ],
      "metadata": {
        "id": "rwJokkQy5HK3"
      }
    },
    {
      "cell_type": "code",
      "source": [
        "## まずsample_submit.csvを読み込みましょう。\n",
        "sample_submit = pd.read_csv(base_folder + \"sample_submit.csv\", header=None)"
      ],
      "metadata": {
        "id": "3OFBBBlJBPaO"
      },
      "execution_count": 37,
      "outputs": []
    },
    {
      "cell_type": "code",
      "source": [
        "sample_submit"
      ],
      "metadata": {
        "id": "LU0udnFHZfdX",
        "colab": {
          "base_uri": "https://localhost:8080/",
          "height": 423
        },
        "outputId": "2b1ff414-131c-413c-a651-b1e134d7bf96"
      },
      "execution_count": 38,
      "outputs": [
        {
          "output_type": "execute_result",
          "data": {
            "text/plain": [
              "        0  1\n",
              "0     742  0\n",
              "1     743  0\n",
              "2     744  0\n",
              "3     745  0\n",
              "4     746  0\n",
              "..    ... ..\n",
              "795  1537  0\n",
              "796  1538  0\n",
              "797  1539  0\n",
              "798  1540  0\n",
              "799  1541  0\n",
              "\n",
              "[800 rows x 2 columns]"
            ],
            "text/html": [
              "\n",
              "  <div id=\"df-e7db7381-542d-4f14-8d09-066c063920cd\" class=\"colab-df-container\">\n",
              "    <div>\n",
              "<style scoped>\n",
              "    .dataframe tbody tr th:only-of-type {\n",
              "        vertical-align: middle;\n",
              "    }\n",
              "\n",
              "    .dataframe tbody tr th {\n",
              "        vertical-align: top;\n",
              "    }\n",
              "\n",
              "    .dataframe thead th {\n",
              "        text-align: right;\n",
              "    }\n",
              "</style>\n",
              "<table border=\"1\" class=\"dataframe\">\n",
              "  <thead>\n",
              "    <tr style=\"text-align: right;\">\n",
              "      <th></th>\n",
              "      <th>0</th>\n",
              "      <th>1</th>\n",
              "    </tr>\n",
              "  </thead>\n",
              "  <tbody>\n",
              "    <tr>\n",
              "      <th>0</th>\n",
              "      <td>742</td>\n",
              "      <td>0</td>\n",
              "    </tr>\n",
              "    <tr>\n",
              "      <th>1</th>\n",
              "      <td>743</td>\n",
              "      <td>0</td>\n",
              "    </tr>\n",
              "    <tr>\n",
              "      <th>2</th>\n",
              "      <td>744</td>\n",
              "      <td>0</td>\n",
              "    </tr>\n",
              "    <tr>\n",
              "      <th>3</th>\n",
              "      <td>745</td>\n",
              "      <td>0</td>\n",
              "    </tr>\n",
              "    <tr>\n",
              "      <th>4</th>\n",
              "      <td>746</td>\n",
              "      <td>0</td>\n",
              "    </tr>\n",
              "    <tr>\n",
              "      <th>...</th>\n",
              "      <td>...</td>\n",
              "      <td>...</td>\n",
              "    </tr>\n",
              "    <tr>\n",
              "      <th>795</th>\n",
              "      <td>1537</td>\n",
              "      <td>0</td>\n",
              "    </tr>\n",
              "    <tr>\n",
              "      <th>796</th>\n",
              "      <td>1538</td>\n",
              "      <td>0</td>\n",
              "    </tr>\n",
              "    <tr>\n",
              "      <th>797</th>\n",
              "      <td>1539</td>\n",
              "      <td>0</td>\n",
              "    </tr>\n",
              "    <tr>\n",
              "      <th>798</th>\n",
              "      <td>1540</td>\n",
              "      <td>0</td>\n",
              "    </tr>\n",
              "    <tr>\n",
              "      <th>799</th>\n",
              "      <td>1541</td>\n",
              "      <td>0</td>\n",
              "    </tr>\n",
              "  </tbody>\n",
              "</table>\n",
              "<p>800 rows × 2 columns</p>\n",
              "</div>\n",
              "    <div class=\"colab-df-buttons\">\n",
              "\n",
              "  <div class=\"colab-df-container\">\n",
              "    <button class=\"colab-df-convert\" onclick=\"convertToInteractive('df-e7db7381-542d-4f14-8d09-066c063920cd')\"\n",
              "            title=\"Convert this dataframe to an interactive table.\"\n",
              "            style=\"display:none;\">\n",
              "\n",
              "  <svg xmlns=\"http://www.w3.org/2000/svg\" height=\"24px\" viewBox=\"0 -960 960 960\">\n",
              "    <path d=\"M120-120v-720h720v720H120Zm60-500h600v-160H180v160Zm220 220h160v-160H400v160Zm0 220h160v-160H400v160ZM180-400h160v-160H180v160Zm440 0h160v-160H620v160ZM180-180h160v-160H180v160Zm440 0h160v-160H620v160Z\"/>\n",
              "  </svg>\n",
              "    </button>\n",
              "\n",
              "  <style>\n",
              "    .colab-df-container {\n",
              "      display:flex;\n",
              "      gap: 12px;\n",
              "    }\n",
              "\n",
              "    .colab-df-convert {\n",
              "      background-color: #E8F0FE;\n",
              "      border: none;\n",
              "      border-radius: 50%;\n",
              "      cursor: pointer;\n",
              "      display: none;\n",
              "      fill: #1967D2;\n",
              "      height: 32px;\n",
              "      padding: 0 0 0 0;\n",
              "      width: 32px;\n",
              "    }\n",
              "\n",
              "    .colab-df-convert:hover {\n",
              "      background-color: #E2EBFA;\n",
              "      box-shadow: 0px 1px 2px rgba(60, 64, 67, 0.3), 0px 1px 3px 1px rgba(60, 64, 67, 0.15);\n",
              "      fill: #174EA6;\n",
              "    }\n",
              "\n",
              "    .colab-df-buttons div {\n",
              "      margin-bottom: 4px;\n",
              "    }\n",
              "\n",
              "    [theme=dark] .colab-df-convert {\n",
              "      background-color: #3B4455;\n",
              "      fill: #D2E3FC;\n",
              "    }\n",
              "\n",
              "    [theme=dark] .colab-df-convert:hover {\n",
              "      background-color: #434B5C;\n",
              "      box-shadow: 0px 1px 3px 1px rgba(0, 0, 0, 0.15);\n",
              "      filter: drop-shadow(0px 1px 2px rgba(0, 0, 0, 0.3));\n",
              "      fill: #FFFFFF;\n",
              "    }\n",
              "  </style>\n",
              "\n",
              "    <script>\n",
              "      const buttonEl =\n",
              "        document.querySelector('#df-e7db7381-542d-4f14-8d09-066c063920cd button.colab-df-convert');\n",
              "      buttonEl.style.display =\n",
              "        google.colab.kernel.accessAllowed ? 'block' : 'none';\n",
              "\n",
              "      async function convertToInteractive(key) {\n",
              "        const element = document.querySelector('#df-e7db7381-542d-4f14-8d09-066c063920cd');\n",
              "        const dataTable =\n",
              "          await google.colab.kernel.invokeFunction('convertToInteractive',\n",
              "                                                    [key], {});\n",
              "        if (!dataTable) return;\n",
              "\n",
              "        const docLinkHtml = 'Like what you see? Visit the ' +\n",
              "          '<a target=\"_blank\" href=https://colab.research.google.com/notebooks/data_table.ipynb>data table notebook</a>'\n",
              "          + ' to learn more about interactive tables.';\n",
              "        element.innerHTML = '';\n",
              "        dataTable['output_type'] = 'display_data';\n",
              "        await google.colab.output.renderOutput(dataTable, element);\n",
              "        const docLink = document.createElement('div');\n",
              "        docLink.innerHTML = docLinkHtml;\n",
              "        element.appendChild(docLink);\n",
              "      }\n",
              "    </script>\n",
              "  </div>\n",
              "\n",
              "\n",
              "    <div id=\"df-a3ea7938-3e1d-45f7-9d28-a867195fe1e5\">\n",
              "      <button class=\"colab-df-quickchart\" onclick=\"quickchart('df-a3ea7938-3e1d-45f7-9d28-a867195fe1e5')\"\n",
              "                title=\"Suggest charts\"\n",
              "                style=\"display:none;\">\n",
              "\n",
              "<svg xmlns=\"http://www.w3.org/2000/svg\" height=\"24px\"viewBox=\"0 0 24 24\"\n",
              "     width=\"24px\">\n",
              "    <g>\n",
              "        <path d=\"M19 3H5c-1.1 0-2 .9-2 2v14c0 1.1.9 2 2 2h14c1.1 0 2-.9 2-2V5c0-1.1-.9-2-2-2zM9 17H7v-7h2v7zm4 0h-2V7h2v10zm4 0h-2v-4h2v4z\"/>\n",
              "    </g>\n",
              "</svg>\n",
              "      </button>\n",
              "\n",
              "<style>\n",
              "  .colab-df-quickchart {\n",
              "      --bg-color: #E8F0FE;\n",
              "      --fill-color: #1967D2;\n",
              "      --hover-bg-color: #E2EBFA;\n",
              "      --hover-fill-color: #174EA6;\n",
              "      --disabled-fill-color: #AAA;\n",
              "      --disabled-bg-color: #DDD;\n",
              "  }\n",
              "\n",
              "  [theme=dark] .colab-df-quickchart {\n",
              "      --bg-color: #3B4455;\n",
              "      --fill-color: #D2E3FC;\n",
              "      --hover-bg-color: #434B5C;\n",
              "      --hover-fill-color: #FFFFFF;\n",
              "      --disabled-bg-color: #3B4455;\n",
              "      --disabled-fill-color: #666;\n",
              "  }\n",
              "\n",
              "  .colab-df-quickchart {\n",
              "    background-color: var(--bg-color);\n",
              "    border: none;\n",
              "    border-radius: 50%;\n",
              "    cursor: pointer;\n",
              "    display: none;\n",
              "    fill: var(--fill-color);\n",
              "    height: 32px;\n",
              "    padding: 0;\n",
              "    width: 32px;\n",
              "  }\n",
              "\n",
              "  .colab-df-quickchart:hover {\n",
              "    background-color: var(--hover-bg-color);\n",
              "    box-shadow: 0 1px 2px rgba(60, 64, 67, 0.3), 0 1px 3px 1px rgba(60, 64, 67, 0.15);\n",
              "    fill: var(--button-hover-fill-color);\n",
              "  }\n",
              "\n",
              "  .colab-df-quickchart-complete:disabled,\n",
              "  .colab-df-quickchart-complete:disabled:hover {\n",
              "    background-color: var(--disabled-bg-color);\n",
              "    fill: var(--disabled-fill-color);\n",
              "    box-shadow: none;\n",
              "  }\n",
              "\n",
              "  .colab-df-spinner {\n",
              "    border: 2px solid var(--fill-color);\n",
              "    border-color: transparent;\n",
              "    border-bottom-color: var(--fill-color);\n",
              "    animation:\n",
              "      spin 1s steps(1) infinite;\n",
              "  }\n",
              "\n",
              "  @keyframes spin {\n",
              "    0% {\n",
              "      border-color: transparent;\n",
              "      border-bottom-color: var(--fill-color);\n",
              "      border-left-color: var(--fill-color);\n",
              "    }\n",
              "    20% {\n",
              "      border-color: transparent;\n",
              "      border-left-color: var(--fill-color);\n",
              "      border-top-color: var(--fill-color);\n",
              "    }\n",
              "    30% {\n",
              "      border-color: transparent;\n",
              "      border-left-color: var(--fill-color);\n",
              "      border-top-color: var(--fill-color);\n",
              "      border-right-color: var(--fill-color);\n",
              "    }\n",
              "    40% {\n",
              "      border-color: transparent;\n",
              "      border-right-color: var(--fill-color);\n",
              "      border-top-color: var(--fill-color);\n",
              "    }\n",
              "    60% {\n",
              "      border-color: transparent;\n",
              "      border-right-color: var(--fill-color);\n",
              "    }\n",
              "    80% {\n",
              "      border-color: transparent;\n",
              "      border-right-color: var(--fill-color);\n",
              "      border-bottom-color: var(--fill-color);\n",
              "    }\n",
              "    90% {\n",
              "      border-color: transparent;\n",
              "      border-bottom-color: var(--fill-color);\n",
              "    }\n",
              "  }\n",
              "</style>\n",
              "\n",
              "      <script>\n",
              "        async function quickchart(key) {\n",
              "          const quickchartButtonEl =\n",
              "            document.querySelector('#' + key + ' button');\n",
              "          quickchartButtonEl.disabled = true;  // To prevent multiple clicks.\n",
              "          quickchartButtonEl.classList.add('colab-df-spinner');\n",
              "          try {\n",
              "            const charts = await google.colab.kernel.invokeFunction(\n",
              "                'suggestCharts', [key], {});\n",
              "          } catch (error) {\n",
              "            console.error('Error during call to suggestCharts:', error);\n",
              "          }\n",
              "          quickchartButtonEl.classList.remove('colab-df-spinner');\n",
              "          quickchartButtonEl.classList.add('colab-df-quickchart-complete');\n",
              "        }\n",
              "        (() => {\n",
              "          let quickchartButtonEl =\n",
              "            document.querySelector('#df-a3ea7938-3e1d-45f7-9d28-a867195fe1e5 button');\n",
              "          quickchartButtonEl.style.display =\n",
              "            google.colab.kernel.accessAllowed ? 'block' : 'none';\n",
              "        })();\n",
              "      </script>\n",
              "    </div>\n",
              "\n",
              "  <div id=\"id_4278754a-b24c-46e5-85e5-b6b03524e215\">\n",
              "    <style>\n",
              "      .colab-df-generate {\n",
              "        background-color: #E8F0FE;\n",
              "        border: none;\n",
              "        border-radius: 50%;\n",
              "        cursor: pointer;\n",
              "        display: none;\n",
              "        fill: #1967D2;\n",
              "        height: 32px;\n",
              "        padding: 0 0 0 0;\n",
              "        width: 32px;\n",
              "      }\n",
              "\n",
              "      .colab-df-generate:hover {\n",
              "        background-color: #E2EBFA;\n",
              "        box-shadow: 0px 1px 2px rgba(60, 64, 67, 0.3), 0px 1px 3px 1px rgba(60, 64, 67, 0.15);\n",
              "        fill: #174EA6;\n",
              "      }\n",
              "\n",
              "      [theme=dark] .colab-df-generate {\n",
              "        background-color: #3B4455;\n",
              "        fill: #D2E3FC;\n",
              "      }\n",
              "\n",
              "      [theme=dark] .colab-df-generate:hover {\n",
              "        background-color: #434B5C;\n",
              "        box-shadow: 0px 1px 3px 1px rgba(0, 0, 0, 0.15);\n",
              "        filter: drop-shadow(0px 1px 2px rgba(0, 0, 0, 0.3));\n",
              "        fill: #FFFFFF;\n",
              "      }\n",
              "    </style>\n",
              "    <button class=\"colab-df-generate\" onclick=\"generateWithVariable('sample_submit')\"\n",
              "            title=\"Generate code using this dataframe.\"\n",
              "            style=\"display:none;\">\n",
              "\n",
              "  <svg xmlns=\"http://www.w3.org/2000/svg\" height=\"24px\"viewBox=\"0 0 24 24\"\n",
              "       width=\"24px\">\n",
              "    <path d=\"M7,19H8.4L18.45,9,17,7.55,7,17.6ZM5,21V16.75L18.45,3.32a2,2,0,0,1,2.83,0l1.4,1.43a1.91,1.91,0,0,1,.58,1.4,1.91,1.91,0,0,1-.58,1.4L9.25,21ZM18.45,9,17,7.55Zm-12,3A5.31,5.31,0,0,0,4.9,8.1,5.31,5.31,0,0,0,1,6.5,5.31,5.31,0,0,0,4.9,4.9,5.31,5.31,0,0,0,6.5,1,5.31,5.31,0,0,0,8.1,4.9,5.31,5.31,0,0,0,12,6.5,5.46,5.46,0,0,0,6.5,12Z\"/>\n",
              "  </svg>\n",
              "    </button>\n",
              "    <script>\n",
              "      (() => {\n",
              "      const buttonEl =\n",
              "        document.querySelector('#id_4278754a-b24c-46e5-85e5-b6b03524e215 button.colab-df-generate');\n",
              "      buttonEl.style.display =\n",
              "        google.colab.kernel.accessAllowed ? 'block' : 'none';\n",
              "\n",
              "      buttonEl.onclick = () => {\n",
              "        google.colab.notebook.generateWithVariable('sample_submit');\n",
              "      }\n",
              "      })();\n",
              "    </script>\n",
              "  </div>\n",
              "\n",
              "    </div>\n",
              "  </div>\n"
            ],
            "application/vnd.google.colaboratory.intrinsic+json": {
              "type": "dataframe",
              "variable_name": "sample_submit",
              "summary": "{\n  \"name\": \"sample_submit\",\n  \"rows\": 800,\n  \"fields\": [\n    {\n      \"column\": 0,\n      \"properties\": {\n        \"dtype\": \"number\",\n        \"std\": 231,\n        \"min\": 742,\n        \"max\": 1541,\n        \"num_unique_values\": 800,\n        \"samples\": [\n          1438,\n          1409,\n          805\n        ],\n        \"semantic_type\": \"\",\n        \"description\": \"\"\n      }\n    },\n    {\n      \"column\": 1,\n      \"properties\": {\n        \"dtype\": \"number\",\n        \"std\": 0,\n        \"min\": 0,\n        \"max\": 0,\n        \"num_unique_values\": 1,\n        \"samples\": [\n          0\n        ],\n        \"semantic_type\": \"\",\n        \"description\": \"\"\n      }\n    }\n  ]\n}"
            }
          },
          "metadata": {},
          "execution_count": 38
        }
      ]
    },
    {
      "cell_type": "markdown",
      "source": [
        "企業コードはtest.csvファイルの並びと同じになっているので、先ほど予測したy_test_pred_modiを購入フラグの列に置き換えます。"
      ],
      "metadata": {
        "id": "hyVvtvLP4CF4"
      }
    },
    {
      "cell_type": "code",
      "source": [
        "sample_submit.iloc[:, 1] = y_test_pred_modi"
      ],
      "metadata": {
        "id": "QAS6nMCz4Brf"
      },
      "execution_count": 39,
      "outputs": []
    },
    {
      "cell_type": "code",
      "source": [
        "sample_submit"
      ],
      "metadata": {
        "colab": {
          "base_uri": "https://localhost:8080/",
          "height": 423
        },
        "id": "pSgF7Jac4e-T",
        "outputId": "30471003-fdd0-4938-c86b-c9925f6fceda"
      },
      "execution_count": 40,
      "outputs": [
        {
          "output_type": "execute_result",
          "data": {
            "text/plain": [
              "        0  1\n",
              "0     742  1\n",
              "1     743  1\n",
              "2     744  1\n",
              "3     745  1\n",
              "4     746  1\n",
              "..    ... ..\n",
              "795  1537  1\n",
              "796  1538  0\n",
              "797  1539  1\n",
              "798  1540  1\n",
              "799  1541  0\n",
              "\n",
              "[800 rows x 2 columns]"
            ],
            "text/html": [
              "\n",
              "  <div id=\"df-5ecca55a-7fce-4469-b8f0-8b7f1d6d1c8f\" class=\"colab-df-container\">\n",
              "    <div>\n",
              "<style scoped>\n",
              "    .dataframe tbody tr th:only-of-type {\n",
              "        vertical-align: middle;\n",
              "    }\n",
              "\n",
              "    .dataframe tbody tr th {\n",
              "        vertical-align: top;\n",
              "    }\n",
              "\n",
              "    .dataframe thead th {\n",
              "        text-align: right;\n",
              "    }\n",
              "</style>\n",
              "<table border=\"1\" class=\"dataframe\">\n",
              "  <thead>\n",
              "    <tr style=\"text-align: right;\">\n",
              "      <th></th>\n",
              "      <th>0</th>\n",
              "      <th>1</th>\n",
              "    </tr>\n",
              "  </thead>\n",
              "  <tbody>\n",
              "    <tr>\n",
              "      <th>0</th>\n",
              "      <td>742</td>\n",
              "      <td>1</td>\n",
              "    </tr>\n",
              "    <tr>\n",
              "      <th>1</th>\n",
              "      <td>743</td>\n",
              "      <td>1</td>\n",
              "    </tr>\n",
              "    <tr>\n",
              "      <th>2</th>\n",
              "      <td>744</td>\n",
              "      <td>1</td>\n",
              "    </tr>\n",
              "    <tr>\n",
              "      <th>3</th>\n",
              "      <td>745</td>\n",
              "      <td>1</td>\n",
              "    </tr>\n",
              "    <tr>\n",
              "      <th>4</th>\n",
              "      <td>746</td>\n",
              "      <td>1</td>\n",
              "    </tr>\n",
              "    <tr>\n",
              "      <th>...</th>\n",
              "      <td>...</td>\n",
              "      <td>...</td>\n",
              "    </tr>\n",
              "    <tr>\n",
              "      <th>795</th>\n",
              "      <td>1537</td>\n",
              "      <td>1</td>\n",
              "    </tr>\n",
              "    <tr>\n",
              "      <th>796</th>\n",
              "      <td>1538</td>\n",
              "      <td>0</td>\n",
              "    </tr>\n",
              "    <tr>\n",
              "      <th>797</th>\n",
              "      <td>1539</td>\n",
              "      <td>1</td>\n",
              "    </tr>\n",
              "    <tr>\n",
              "      <th>798</th>\n",
              "      <td>1540</td>\n",
              "      <td>1</td>\n",
              "    </tr>\n",
              "    <tr>\n",
              "      <th>799</th>\n",
              "      <td>1541</td>\n",
              "      <td>0</td>\n",
              "    </tr>\n",
              "  </tbody>\n",
              "</table>\n",
              "<p>800 rows × 2 columns</p>\n",
              "</div>\n",
              "    <div class=\"colab-df-buttons\">\n",
              "\n",
              "  <div class=\"colab-df-container\">\n",
              "    <button class=\"colab-df-convert\" onclick=\"convertToInteractive('df-5ecca55a-7fce-4469-b8f0-8b7f1d6d1c8f')\"\n",
              "            title=\"Convert this dataframe to an interactive table.\"\n",
              "            style=\"display:none;\">\n",
              "\n",
              "  <svg xmlns=\"http://www.w3.org/2000/svg\" height=\"24px\" viewBox=\"0 -960 960 960\">\n",
              "    <path d=\"M120-120v-720h720v720H120Zm60-500h600v-160H180v160Zm220 220h160v-160H400v160Zm0 220h160v-160H400v160ZM180-400h160v-160H180v160Zm440 0h160v-160H620v160ZM180-180h160v-160H180v160Zm440 0h160v-160H620v160Z\"/>\n",
              "  </svg>\n",
              "    </button>\n",
              "\n",
              "  <style>\n",
              "    .colab-df-container {\n",
              "      display:flex;\n",
              "      gap: 12px;\n",
              "    }\n",
              "\n",
              "    .colab-df-convert {\n",
              "      background-color: #E8F0FE;\n",
              "      border: none;\n",
              "      border-radius: 50%;\n",
              "      cursor: pointer;\n",
              "      display: none;\n",
              "      fill: #1967D2;\n",
              "      height: 32px;\n",
              "      padding: 0 0 0 0;\n",
              "      width: 32px;\n",
              "    }\n",
              "\n",
              "    .colab-df-convert:hover {\n",
              "      background-color: #E2EBFA;\n",
              "      box-shadow: 0px 1px 2px rgba(60, 64, 67, 0.3), 0px 1px 3px 1px rgba(60, 64, 67, 0.15);\n",
              "      fill: #174EA6;\n",
              "    }\n",
              "\n",
              "    .colab-df-buttons div {\n",
              "      margin-bottom: 4px;\n",
              "    }\n",
              "\n",
              "    [theme=dark] .colab-df-convert {\n",
              "      background-color: #3B4455;\n",
              "      fill: #D2E3FC;\n",
              "    }\n",
              "\n",
              "    [theme=dark] .colab-df-convert:hover {\n",
              "      background-color: #434B5C;\n",
              "      box-shadow: 0px 1px 3px 1px rgba(0, 0, 0, 0.15);\n",
              "      filter: drop-shadow(0px 1px 2px rgba(0, 0, 0, 0.3));\n",
              "      fill: #FFFFFF;\n",
              "    }\n",
              "  </style>\n",
              "\n",
              "    <script>\n",
              "      const buttonEl =\n",
              "        document.querySelector('#df-5ecca55a-7fce-4469-b8f0-8b7f1d6d1c8f button.colab-df-convert');\n",
              "      buttonEl.style.display =\n",
              "        google.colab.kernel.accessAllowed ? 'block' : 'none';\n",
              "\n",
              "      async function convertToInteractive(key) {\n",
              "        const element = document.querySelector('#df-5ecca55a-7fce-4469-b8f0-8b7f1d6d1c8f');\n",
              "        const dataTable =\n",
              "          await google.colab.kernel.invokeFunction('convertToInteractive',\n",
              "                                                    [key], {});\n",
              "        if (!dataTable) return;\n",
              "\n",
              "        const docLinkHtml = 'Like what you see? Visit the ' +\n",
              "          '<a target=\"_blank\" href=https://colab.research.google.com/notebooks/data_table.ipynb>data table notebook</a>'\n",
              "          + ' to learn more about interactive tables.';\n",
              "        element.innerHTML = '';\n",
              "        dataTable['output_type'] = 'display_data';\n",
              "        await google.colab.output.renderOutput(dataTable, element);\n",
              "        const docLink = document.createElement('div');\n",
              "        docLink.innerHTML = docLinkHtml;\n",
              "        element.appendChild(docLink);\n",
              "      }\n",
              "    </script>\n",
              "  </div>\n",
              "\n",
              "\n",
              "    <div id=\"df-4e6ae9f3-80f0-4a59-97f9-8e7545577e74\">\n",
              "      <button class=\"colab-df-quickchart\" onclick=\"quickchart('df-4e6ae9f3-80f0-4a59-97f9-8e7545577e74')\"\n",
              "                title=\"Suggest charts\"\n",
              "                style=\"display:none;\">\n",
              "\n",
              "<svg xmlns=\"http://www.w3.org/2000/svg\" height=\"24px\"viewBox=\"0 0 24 24\"\n",
              "     width=\"24px\">\n",
              "    <g>\n",
              "        <path d=\"M19 3H5c-1.1 0-2 .9-2 2v14c0 1.1.9 2 2 2h14c1.1 0 2-.9 2-2V5c0-1.1-.9-2-2-2zM9 17H7v-7h2v7zm4 0h-2V7h2v10zm4 0h-2v-4h2v4z\"/>\n",
              "    </g>\n",
              "</svg>\n",
              "      </button>\n",
              "\n",
              "<style>\n",
              "  .colab-df-quickchart {\n",
              "      --bg-color: #E8F0FE;\n",
              "      --fill-color: #1967D2;\n",
              "      --hover-bg-color: #E2EBFA;\n",
              "      --hover-fill-color: #174EA6;\n",
              "      --disabled-fill-color: #AAA;\n",
              "      --disabled-bg-color: #DDD;\n",
              "  }\n",
              "\n",
              "  [theme=dark] .colab-df-quickchart {\n",
              "      --bg-color: #3B4455;\n",
              "      --fill-color: #D2E3FC;\n",
              "      --hover-bg-color: #434B5C;\n",
              "      --hover-fill-color: #FFFFFF;\n",
              "      --disabled-bg-color: #3B4455;\n",
              "      --disabled-fill-color: #666;\n",
              "  }\n",
              "\n",
              "  .colab-df-quickchart {\n",
              "    background-color: var(--bg-color);\n",
              "    border: none;\n",
              "    border-radius: 50%;\n",
              "    cursor: pointer;\n",
              "    display: none;\n",
              "    fill: var(--fill-color);\n",
              "    height: 32px;\n",
              "    padding: 0;\n",
              "    width: 32px;\n",
              "  }\n",
              "\n",
              "  .colab-df-quickchart:hover {\n",
              "    background-color: var(--hover-bg-color);\n",
              "    box-shadow: 0 1px 2px rgba(60, 64, 67, 0.3), 0 1px 3px 1px rgba(60, 64, 67, 0.15);\n",
              "    fill: var(--button-hover-fill-color);\n",
              "  }\n",
              "\n",
              "  .colab-df-quickchart-complete:disabled,\n",
              "  .colab-df-quickchart-complete:disabled:hover {\n",
              "    background-color: var(--disabled-bg-color);\n",
              "    fill: var(--disabled-fill-color);\n",
              "    box-shadow: none;\n",
              "  }\n",
              "\n",
              "  .colab-df-spinner {\n",
              "    border: 2px solid var(--fill-color);\n",
              "    border-color: transparent;\n",
              "    border-bottom-color: var(--fill-color);\n",
              "    animation:\n",
              "      spin 1s steps(1) infinite;\n",
              "  }\n",
              "\n",
              "  @keyframes spin {\n",
              "    0% {\n",
              "      border-color: transparent;\n",
              "      border-bottom-color: var(--fill-color);\n",
              "      border-left-color: var(--fill-color);\n",
              "    }\n",
              "    20% {\n",
              "      border-color: transparent;\n",
              "      border-left-color: var(--fill-color);\n",
              "      border-top-color: var(--fill-color);\n",
              "    }\n",
              "    30% {\n",
              "      border-color: transparent;\n",
              "      border-left-color: var(--fill-color);\n",
              "      border-top-color: var(--fill-color);\n",
              "      border-right-color: var(--fill-color);\n",
              "    }\n",
              "    40% {\n",
              "      border-color: transparent;\n",
              "      border-right-color: var(--fill-color);\n",
              "      border-top-color: var(--fill-color);\n",
              "    }\n",
              "    60% {\n",
              "      border-color: transparent;\n",
              "      border-right-color: var(--fill-color);\n",
              "    }\n",
              "    80% {\n",
              "      border-color: transparent;\n",
              "      border-right-color: var(--fill-color);\n",
              "      border-bottom-color: var(--fill-color);\n",
              "    }\n",
              "    90% {\n",
              "      border-color: transparent;\n",
              "      border-bottom-color: var(--fill-color);\n",
              "    }\n",
              "  }\n",
              "</style>\n",
              "\n",
              "      <script>\n",
              "        async function quickchart(key) {\n",
              "          const quickchartButtonEl =\n",
              "            document.querySelector('#' + key + ' button');\n",
              "          quickchartButtonEl.disabled = true;  // To prevent multiple clicks.\n",
              "          quickchartButtonEl.classList.add('colab-df-spinner');\n",
              "          try {\n",
              "            const charts = await google.colab.kernel.invokeFunction(\n",
              "                'suggestCharts', [key], {});\n",
              "          } catch (error) {\n",
              "            console.error('Error during call to suggestCharts:', error);\n",
              "          }\n",
              "          quickchartButtonEl.classList.remove('colab-df-spinner');\n",
              "          quickchartButtonEl.classList.add('colab-df-quickchart-complete');\n",
              "        }\n",
              "        (() => {\n",
              "          let quickchartButtonEl =\n",
              "            document.querySelector('#df-4e6ae9f3-80f0-4a59-97f9-8e7545577e74 button');\n",
              "          quickchartButtonEl.style.display =\n",
              "            google.colab.kernel.accessAllowed ? 'block' : 'none';\n",
              "        })();\n",
              "      </script>\n",
              "    </div>\n",
              "\n",
              "  <div id=\"id_38228e28-2d02-4d8d-a478-6252b3793af5\">\n",
              "    <style>\n",
              "      .colab-df-generate {\n",
              "        background-color: #E8F0FE;\n",
              "        border: none;\n",
              "        border-radius: 50%;\n",
              "        cursor: pointer;\n",
              "        display: none;\n",
              "        fill: #1967D2;\n",
              "        height: 32px;\n",
              "        padding: 0 0 0 0;\n",
              "        width: 32px;\n",
              "      }\n",
              "\n",
              "      .colab-df-generate:hover {\n",
              "        background-color: #E2EBFA;\n",
              "        box-shadow: 0px 1px 2px rgba(60, 64, 67, 0.3), 0px 1px 3px 1px rgba(60, 64, 67, 0.15);\n",
              "        fill: #174EA6;\n",
              "      }\n",
              "\n",
              "      [theme=dark] .colab-df-generate {\n",
              "        background-color: #3B4455;\n",
              "        fill: #D2E3FC;\n",
              "      }\n",
              "\n",
              "      [theme=dark] .colab-df-generate:hover {\n",
              "        background-color: #434B5C;\n",
              "        box-shadow: 0px 1px 3px 1px rgba(0, 0, 0, 0.15);\n",
              "        filter: drop-shadow(0px 1px 2px rgba(0, 0, 0, 0.3));\n",
              "        fill: #FFFFFF;\n",
              "      }\n",
              "    </style>\n",
              "    <button class=\"colab-df-generate\" onclick=\"generateWithVariable('sample_submit')\"\n",
              "            title=\"Generate code using this dataframe.\"\n",
              "            style=\"display:none;\">\n",
              "\n",
              "  <svg xmlns=\"http://www.w3.org/2000/svg\" height=\"24px\"viewBox=\"0 0 24 24\"\n",
              "       width=\"24px\">\n",
              "    <path d=\"M7,19H8.4L18.45,9,17,7.55,7,17.6ZM5,21V16.75L18.45,3.32a2,2,0,0,1,2.83,0l1.4,1.43a1.91,1.91,0,0,1,.58,1.4,1.91,1.91,0,0,1-.58,1.4L9.25,21ZM18.45,9,17,7.55Zm-12,3A5.31,5.31,0,0,0,4.9,8.1,5.31,5.31,0,0,0,1,6.5,5.31,5.31,0,0,0,4.9,4.9,5.31,5.31,0,0,0,6.5,1,5.31,5.31,0,0,0,8.1,4.9,5.31,5.31,0,0,0,12,6.5,5.46,5.46,0,0,0,6.5,12Z\"/>\n",
              "  </svg>\n",
              "    </button>\n",
              "    <script>\n",
              "      (() => {\n",
              "      const buttonEl =\n",
              "        document.querySelector('#id_38228e28-2d02-4d8d-a478-6252b3793af5 button.colab-df-generate');\n",
              "      buttonEl.style.display =\n",
              "        google.colab.kernel.accessAllowed ? 'block' : 'none';\n",
              "\n",
              "      buttonEl.onclick = () => {\n",
              "        google.colab.notebook.generateWithVariable('sample_submit');\n",
              "      }\n",
              "      })();\n",
              "    </script>\n",
              "  </div>\n",
              "\n",
              "    </div>\n",
              "  </div>\n"
            ],
            "application/vnd.google.colaboratory.intrinsic+json": {
              "type": "dataframe",
              "variable_name": "sample_submit",
              "summary": "{\n  \"name\": \"sample_submit\",\n  \"rows\": 800,\n  \"fields\": [\n    {\n      \"column\": 0,\n      \"properties\": {\n        \"dtype\": \"number\",\n        \"std\": 231,\n        \"min\": 742,\n        \"max\": 1541,\n        \"num_unique_values\": 800,\n        \"samples\": [\n          1438,\n          1409,\n          805\n        ],\n        \"semantic_type\": \"\",\n        \"description\": \"\"\n      }\n    },\n    {\n      \"column\": 1,\n      \"properties\": {\n        \"dtype\": \"number\",\n        \"std\": 0,\n        \"min\": 0,\n        \"max\": 1,\n        \"num_unique_values\": 2,\n        \"samples\": [\n          0,\n          1\n        ],\n        \"semantic_type\": \"\",\n        \"description\": \"\"\n      }\n    }\n  ]\n}"
            }
          },
          "metadata": {},
          "execution_count": 40
        }
      ]
    },
    {
      "cell_type": "markdown",
      "source": [
        "これをcsvファイルとして保存します。"
      ],
      "metadata": {
        "id": "dJBRqsGh54Ks"
      }
    },
    {
      "cell_type": "code",
      "source": [
        "## ファイルを保存しましょう。\n",
        "sample_submit.to_csv(base_folder + \"submission.csv\", index=False, header=None)"
      ],
      "metadata": {
        "id": "3Kv1TpseZfXZ"
      },
      "execution_count": 41,
      "outputs": []
    },
    {
      "cell_type": "markdown",
      "source": [
        "この保存した「submission.csv」ファイルをコンペページの「提出する」からアップロードして提出すれば完了です！"
      ],
      "metadata": {
        "id": "4GZ1pVSwZ8N0"
      }
    },
    {
      "cell_type": "markdown",
      "source": [
        "## 4.【NextStep】"
      ],
      "metadata": {
        "id": "zQuJ21tQ5d-7"
      }
    },
    {
      "cell_type": "markdown",
      "source": [
        "お疲れ様でした！<br>\n",
        "このチュートリアルにおいては分析→予測→保存までの基本的な流れを解説しました。<br>\n",
        "他にもさまざまなアプローチや手法があります。その一部を下記に上げましたのでぜひ挑戦してみてください。\n",
        "\n",
        "- いろんな特徴量を試してみよう\n",
        " - 今回3つの仮説から3つの特徴量のみを使ったモデルを構築したが、他にもさまざまな仮説を立て、最適なモデルを作り上げよう\n",
        " - また様々な特徴量を組み合わせも試してみよう\n",
        "- いろんなモデルを試してみよう\n",
        " - 今回はBasicな統計モデルであるロジスティック回帰を使用したが、ほかにも、SVMや決定木、RandomForest、LightGBM、ニューラルネットワーク等、様々なモデルを試してみよう。\n",
        "- テキストを分析してみよう\n",
        " - 今回のデータにはテキスト特徴量が数か所存在する。\n",
        " - テキストの分析の難易度は高いが様々な手法があるため調査してぜひ試してみよう\n",
        "- 生成AIを活用してみよう\n",
        " - 生成AIを使ってアイデアだしからコード作成、特徴量生成、予測補助等、使い方は無限にあります。\n",
        " - 今後の業務に活かすためにもぜひ活用してデータ分析を効率化してみましょう"
      ],
      "metadata": {
        "id": "oMD09wna5xzY"
      }
    },
    {
      "cell_type": "markdown",
      "source": [
        "# 5.(おまけ①)Scikit-learnによるモデル構築"
      ],
      "metadata": {
        "id": "vQfOsNASZx7G"
      }
    },
    {
      "cell_type": "markdown",
      "source": [
        "先ほどはstatsmodelsというライブラリを用いてロジスティック回帰を予測しました<br>\n",
        "statsmodelsは統計的な分析を実施する際には、p値やzスコアなどが確認できてとても便利ですが、【NextStep】で上げた決定木やRandomForest、SVMなどを実装することができません。<br>\n",
        "そこでここでは上記手法含めロジスティック回帰や線形回帰も実装が可能であるライブラリsklearnをご紹介いたします。"
      ],
      "metadata": {
        "id": "Md4x0kOJRGPT"
      }
    },
    {
      "cell_type": "markdown",
      "source": [
        "「4.モデルの構築」で実装したコード（statsmodelsを使用したロジスティック回帰）をsklearnを使ったロジスティック回帰に変えると以下のようになります。"
      ],
      "metadata": {
        "id": "iRrZSUErUPae"
      }
    },
    {
      "cell_type": "code",
      "source": [
        "import pandas as pd\n",
        "from sklearn.preprocessing import StandardScaler\n",
        "from sklearn.linear_model import LogisticRegression\n",
        "from sklearn.metrics import f1_score, classification_report\n",
        "\n",
        "# ------------------ 基本設定 ------------------\n",
        "target = '購入フラグ'\n",
        "numerical_features = ['従業員数', '当期純利益', 'アンケート４']\n",
        "\n",
        "# --- データ取り出し ---\n",
        "X_train = train[numerical_features]\n",
        "y_train = train[target]\n",
        "\n",
        "X_test  = test[numerical_features]\n",
        "\n",
        "# ------------------ ① 標準化 ------------------\n",
        "scaler = StandardScaler()\n",
        "\n",
        "# 学習データで平均・標準偏差を計算し、そのまま変換\n",
        "X_train_std = scaler.fit_transform(X_train)\n",
        "\n",
        "# fit で得た平均・標準偏差を使ってテストデータを変換\n",
        "X_test_std  = scaler.transform(X_test)\n",
        "\n",
        "# ------------------ ② ロジスティック回帰 ------------------\n",
        "model = LogisticRegression(max_iter=1000, solver='lbfgs', random_state=42)\n",
        "\n",
        "# 学習\n",
        "model.fit(X_train_std, y_train)\n",
        "\n",
        "# 予測\n",
        "y_train_pred = model.predict(X_train_std)\n",
        "y_test_pred  = model.predict(X_test_std)\n",
        "\n",
        "# ------------------ ③ 評価 ------------------\n",
        "train_f1 = f1_score(y_train, y_train_pred)\n",
        "\n",
        "print('--- モデルの評価 ---')\n",
        "print(f'TRAINデータ F1スコア: {train_f1:.4f}')\n",
        "\n",
        "# ------------------ ④ 係数の確認 ------------------\n",
        "coef = pd.Series(model.coef_[0], index=numerical_features)\n",
        "print('\\n--- 推定された係数 ---')\n",
        "print(coef.to_string(float_format=lambda x: f'{x: .4f}'))\n",
        "print(f'\\n切片（intercept）: {model.intercept_[0]:.4f}')\n"
      ],
      "metadata": {
        "id": "Ro6hdgGqf_AS",
        "colab": {
          "base_uri": "https://localhost:8080/"
        },
        "outputId": "68c41bed-31cc-47a9-ddfe-d32585609d4d"
      },
      "execution_count": 43,
      "outputs": [
        {
          "output_type": "stream",
          "name": "stdout",
          "text": [
            "--- モデルの評価 ---\n",
            "TRAINデータ F1スコア: 0.1421\n",
            "\n",
            "--- 推定された係数 ---\n",
            "従業員数     -0.1705\n",
            "当期純利益     1.1663\n",
            "アンケート４   -0.2746\n",
            "\n",
            "切片（intercept）: -1.1510\n"
          ]
        }
      ]
    },
    {
      "cell_type": "markdown",
      "source": [
        "---\n",
        "\n",
        "**注意！**\n",
        "- 標準化の実施が推奨される\n",
        " - `sklearn` の場合、デフォルトで正則化（過学習を防ぐためのペナルティ）が適用されます。データセットの特徴量間でスケールが大きく異なると、このペナルティが不均等にかかり、モデルが適切に学習できない可能性があるため、標準化を行います。\n",
        "- p値やz値は計算されない。\n",
        " - `statsmodels`と異なりロジスティック回帰や線形回帰の場合は、p値やz値が計算されないため、特徴量毎の有意性を見ることはできない。\n",
        "- `model.predict()`は0，1を返す\n",
        " - `model.predict()`は閾値を0.5とした場合の0,1が返ってくる。確率を出して閾値を調整したい場合などは`model.predict_proba()`を使用する。\n",
        "---"
      ],
      "metadata": {
        "id": "hnHfWM7kiVZ4"
      }
    },
    {
      "cell_type": "markdown",
      "source": [
        "**sklearn を使うことの利点**\n",
        "\n",
        "> sklearn の分類モデルは共通の API（`fit`・`predict` など）を持っており、同じインターフェースで利用できます。そのため、`LogisticRegression` を決定木や SVM、ランダムフォレストなど別のモデルに置き換える場合でも、学習・予測のコードはほとんど変更する必要がありません。この統一された設計により、異なるアルゴリズムを容易に比較・検証できるのが sklearn の大きな利点です。"
      ],
      "metadata": {
        "id": "8YyaLP35oP3O"
      }
    },
    {
      "cell_type": "code",
      "source": [
        "model.predict_proba(X_train_std)"
      ],
      "metadata": {
        "id": "4a_GADgVW6fx"
      },
      "execution_count": null,
      "outputs": []
    },
    {
      "cell_type": "markdown",
      "source": [
        "# 6.(おまけ②)【発展】ロジスティック回帰の結果の解釈"
      ],
      "metadata": {
        "id": "i1L0R6pW2i_G"
      }
    },
    {
      "cell_type": "markdown",
      "source": [
        "## 1.ロジスティック回帰の結果を解釈してみよう"
      ],
      "metadata": {
        "id": "GPbFQj9qmaX2"
      }
    },
    {
      "cell_type": "markdown",
      "source": [
        "`statsmodels`によって出力されたサマリーデータは、データの特徴を分析する上で非常に役に立ちます。<br>これらの結果からどう解釈できるのかを見ていきましょう。<br>\n",
        "まず、もう一度ロジスティック回帰の結果のサマリーを見てみましょう。"
      ],
      "metadata": {
        "id": "wZx98_cdtCIC"
      }
    },
    {
      "cell_type": "code",
      "source": [
        "print(result.summary())"
      ],
      "metadata": {
        "id": "PZqKd-tP1JEZ",
        "colab": {
          "base_uri": "https://localhost:8080/"
        },
        "outputId": "e5975e61-bc4c-4b7e-943e-2634f508198f"
      },
      "execution_count": 44,
      "outputs": [
        {
          "output_type": "stream",
          "name": "stdout",
          "text": [
            "                           Logit Regression Results                           \n",
            "==============================================================================\n",
            "Dep. Variable:                  購入フラグ   No. Observations:                  742\n",
            "Model:                          Logit   Df Residuals:                      738\n",
            "Method:                           MLE   Df Model:                            3\n",
            "Date:                Wed, 15 Oct 2025   Pseudo R-squ.:                 0.05139\n",
            "Time:                        10:00:45   Log-Likelihood:                -388.89\n",
            "converged:                       True   LL-Null:                       -409.96\n",
            "Covariance Type:            nonrobust   LLR p-value:                 3.759e-09\n",
            "==============================================================================\n",
            "                 coef    std err          z      P>|z|      [0.025      0.975]\n",
            "------------------------------------------------------------------------------\n",
            "const         -0.7270      0.195     -3.723      0.000      -1.110      -0.344\n",
            "従業員数       -1.786e-05   1.48e-05     -1.206      0.228   -4.69e-05    1.12e-05\n",
            "当期純利益       5.882e-06   1.34e-06      4.400      0.000    3.26e-06     8.5e-06\n",
            "アンケート４        -0.1912      0.062     -3.104      0.002      -0.312      -0.070\n",
            "==============================================================================\n"
          ]
        }
      ]
    },
    {
      "cell_type": "markdown",
      "source": [
        "**`coef`**（係数）は、その特徴量が1単位増加したときに**「対数オッズ（log-odds:log(π/(1-π)）」**がどれだけ変化するかを示しています。<br>\n",
        "要するにその特徴量がターゲットに与える効果の大きさを表します。\n",
        "\n",
        "この対数オッズの変化量 `coef` を指数変換（`np.exp()`）することで、**「オッズ」が何倍になるか（=オッズ比）**を計算できます。\n",
        "\n",
        "「アンケート４」の場合、係数が `-0.1847` なので、オッズ比は `np.exp(-0.1847) ≒ 0.83` となります。\n",
        "\n",
        "これは、**「他の特徴量が一定の条件下で、アンケート４の回答が1つ増える（例: 3→4、2→3）ごとに、ある事象が起こる（購入確率）オッズが約0.83倍になる（=約17%減少する）」**ことを意味します。<br>\n",
        "\n",
        "オッズが0.83倍になるということによる確率$π$への影響を試算してみます。\n",
        "\n",
        "$$\n",
        "\\frac{p_{\\text{after}}}{1 - p_{\\text{after}}} = 0.83 \\times \\frac{p_{\\text{before}}}{1 - p_{\\text{before}}}\n",
        "$$\n",
        "\n",
        "例えば、$p_{\\text{before}}$が0.5だった場合、$p_{\\text{after}}$は約0.45となります。（※元の確率$p_{\\text{before}}$がいくつかによって変動幅は変わります。）\n",
        "\n",
        ">＜オッズ＞<br>\n",
        "確率が「全体のうち、その事象が起こる割合」を示すのに対し、オッズは「失敗に対する成功の比率」を示す。\n",
        "\n",
        ">＜オッズの計算式＞\n",
        "ある事象が起こる確率を $π$ とすると、オッズは以下の式で計算できます。\n",
        "$$\\text{オッズ} = \\frac{π}{1-π} = \\frac{\\text{起こる確率}}{\\text{起こらない確率}}$$\n",
        "* オッズの値は、0から無限大（∞）の範囲をとります。\n",
        "* オッズが1のとき、起こる確率と起こらない確率は等しくなります（$π$＝0.5のとき）。\n",
        "\n",
        "---"
      ],
      "metadata": {
        "id": "Gqn52DiYtOky"
      }
    },
    {
      "cell_type": "markdown",
      "source": [
        "**`P>|z|`**はP値を表します。この値は、「もし係数（coef）が0である（変数がターゲットに影響しない）」という帰無仮説が正しいと仮定した場合に、観測された結果が偶然得られる確率を示しています。\n",
        "\n",
        "このP値を見ると、「当期純利益」と「アンケート４」は有意水準5%（0.05）を十分に下回っており、統計的に有意であると言えます。これは「係数が0である」という帰無仮説を棄却できるだけの根拠があることを意味し、これらの変数はターゲットに影響を与えていると結論付けられます。\n",
        "\n",
        "一方で、「従業員数」のP値は約0.2と大きく、有意水準0.05を上回っています。そのため、「係数が0である」という帰無仮説を棄却できません。これは、従業員数がターゲットに影響を与えているとは統計的に言えない、ということを意味します。"
      ],
      "metadata": {
        "id": "hmyh3La6qxAV"
      }
    },
    {
      "cell_type": "markdown",
      "source": [
        "---\n",
        "\n",
        "**モデル構築における注意点：変数の有意性は「組み合わせ」で変化する**\n",
        "\n",
        "- はじめに：単一モデルのP値は「暫定的な評価」に過ぎない\n",
        "\n",
        " - 現在のモデルで算出されたP値は、あくまで「現在投入されている特徴量の組み合わせにおける」暫定的な評価です。この結果だけを見て「P値が大きいから、この変数は不要だ」と結論付けてしまうのは、データに隠された本質的な関係性を見誤るリスクを伴います。\n",
        "\n",
        " - 安易な変数の除外は、モデルの予測精度を低下させたり、誤った示唆を導き出したりする原因となるため、慎重な判断が求められます。\n",
        "\n",
        "- なぜ変数を加えるとP値が変わるのか？：そのメカニズム\n",
        "\n",
        " - 変数の有意性がモデルの組み合わせによって変化する背景には、主に以下のような統計的な現象が存在します。\n",
        "\n",
        " - **シナリオ①：他の変数に「隠された」本来の効果が明らかになる（抑制効果）**\n",
        "\n",
        "   - ある変数の効果が、別の変数のノイズによって打ち消され、見かけ上「有意でない」と表示されるケースです。\n",
        "\n",
        "   * **具体例：** 「学習時間」が「テストの点数」に与える影響を分析したいとします。\n",
        "    * **モデル1：`点数 ～ 学習時間`** → P値が大きく、有意にならなかった。「学習時間は点数に関係ないのか？」と一見思えます。\n",
        "    * **背景：** ここに「不安度の高さ」という変数が隠れていると仮定します。「不安度が高い」学生は、たくさん勉強する傾向がある（学習時間↑）一方で、本番で実力を発揮できず点数が下がる（点数↓）かもしれません。この「不安度」の存在が、「学習時間」が本来持つプラスの効果を打ち消してしまっているのです。\n",
        "    * **モデル2：`点数 ～ 学習時間 + 不安度`** → この「不安度」という変数をモデルに加えることで、その影響が統計的に分離（統制）されます。その結果、ノイズが取り除かれ、「学習時間」が持つ純粋なプラスの効果が明らかになり、P値が小さく（有意に）なることがあります。\n",
        "\n",
        "  - **シナリオ②：見かけ上の関係性が、より本質的な要因に置き換わる（交絡）**\n",
        "\n",
        "   - 2つの変数が共に、第3の変数と関連している場合、それらの間には見かけ上の相関が生まれます。\n",
        "\n",
        "    * **具体例：** 「アイスクリームの売上」で「熱中症の発生件数」を予測するモデルを考えます。\n",
        "    * **モデル1：`熱中症 ～ アイスの売上`** → P値が非常に小さく、強い関係があるように見えます。\n",
        "    * **背景：** しかし、これは「アイスが売れるから熱中症になる」という直接的な因果関係ではありません。両者は共に「気温の高さ」という共通の原因（交絡因子）によって引き起こされています。\n",
        "    * **モデル2：`熱中症 ～ アイスの売上 + 気温`** → モデルに「気温」を追加すると、熱中症の発生を直接説明するのは「気温」の役割となります。その結果、「アイスの売上」のP値は大きくなり、有意でなくなる可能性が高いです。\n",
        "\n",
        "  - これらのシナリオから分かるように、モデルに投入する変数の組み合わせは、各変数の評価を根本から変えうるのです。\n",
        "\n",
        "- では、どうすれば良いか？：最適なモデルを探すための実践的アプローチ\n",
        "\n",
        " - 単一の結果に固執せず、以下のような探求的なアプローチで、より信頼性の高いモデルを構築していくことが不可欠です。\n",
        "\n",
        " -  **ベースラインモデルの構築：** まずはビジネスや研究のドメイン知識に基づき、最も重要だと考えられる少数精鋭の変数でシンプルなモデルを作成します。これを全ての比較の出発点とします。\n",
        "\n",
        " -  **変数の段階的な増減：**\n",
        "    * **追加（Forward）：** ベースラインモデルに対し、候補となる変数を一つずつ追加し、AIC（赤池情報量規準）などのモデル評価指標や各変数のP値がどう改善・変化するかを観察します。\n",
        "    * **削除（Backward）：** 全ての候補変数を入れたフルモデルから始め、P値が最も大きい（影響が小さい）変数を一つずつ除外し、モデルがどう変化するかを評価します。\n",
        "\n",
        " -  **交互作用の検討：** 「Aという条件の下で、Bの効果が増幅する」といった、変数間の相乗効果（交互作用項）も考慮に入れます。例えば、「広告費」の効果は「季節」によって変わるかもしれません。このような交互作用項が、モデルの精度を飛躍的に向上させることがあります。\n",
        "\n",
        " -  **総合的なモデル選択：** 最終的には、AICや決定係数といった統計指標の良し悪しだけでなく、**「そのモデルがビジネス上の意思決定に役立つか」「なぜその変数が重要なのかを、論理的に説明できるか」**という解釈可能性の観点も踏まえ、総合的に最適なモデルを選択します。\n",
        "\n",
        "* このプロセスを通じて、統計的に安定し、かつ実用的な示唆に富んだ、信頼性の高いモデルを構築することが可能になります。"
      ],
      "metadata": {
        "id": "6pQU2hG3zj0i"
      }
    }
  ]
}